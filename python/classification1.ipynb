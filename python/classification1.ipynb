{
 "cells": [
  {
   "cell_type": "code",
   "execution_count": null,
   "metadata": {},
   "outputs": [],
   "source": [
    "import pandas as pd\n",
    "import numpy as np\n",
    "import matplotlib.pyplot as plt\n",
    "\n",
    "from sklearn.preprocessing import LabelEncoder\n",
    "from sklearn.preprocessing import StandardScaler\n",
    "from sklearn.neural_network import MLPClassifier\n",
    "\n",
    "import keras\n",
    "from keras.models import Sequential\n",
    "from keras.layers import Conv2D\n",
    "from keras.layers import MaxPooling2D\n",
    "from keras.layers import Flatten\n",
    "from keras.layers import Dense\n",
    "from keras.layers import Dropout\n",
    "from keras import regularizers\n",
    "from keras.utils import to_categorical\n",
    "\n",
    "from aircraft_dataset import aircraft_dataset_split\n",
    "from aircraft_reports import display_random_subset\n",
    "from aircraft_reports import display_class_subset\n",
    "\n",
    "import sys\n",
    "sys.path.append('../')\n",
    "import util.reports as rp"
   ]
  },
  {
   "cell_type": "code",
   "execution_count": null,
   "metadata": {
    "scrolled": false
   },
   "outputs": [],
   "source": [
    "# Loading dataset\n",
    "dataset = pd.read_csv('exports/2019-07-28 13-06-28/segment_1.csv')\n",
    "predictors = dataset.iloc[:,:680].values\n",
    "responses = dataset.iloc[:,680].values\n",
    "measurements = dataset.iloc[:,681].values\n",
    "np.unique(responses)"
   ]
  },
  {
   "cell_type": "code",
   "execution_count": null,
   "metadata": {},
   "outputs": [],
   "source": [
    "# Splits into training and holdout sets\n",
    "X,y,X_holdout,y_holdout = aircraft_dataset_split(predictors,responses,measurements)"
   ]
  },
  {
   "cell_type": "code",
   "execution_count": null,
   "metadata": {
    "scrolled": false
   },
   "outputs": [],
   "source": [
    "lc = LabelEncoder()\n",
    "lc.fit(y)\n",
    "y = lc.transform(y)\n",
    "y_holdout = lc.transform(y_holdout)\n",
    "sc = StandardScaler()\n",
    "sc.fit(X)\n",
    "X = sc.transform(X)\n",
    "X_holdout = sc.transform(X_holdout)"
   ]
  },
  {
   "cell_type": "code",
   "execution_count": null,
   "metadata": {},
   "outputs": [],
   "source": [
    "# Display random observations\n",
    "display_random_subset(X,y,labels=lc.classes_)"
   ]
  },
  {
   "cell_type": "code",
   "execution_count": null,
   "metadata": {},
   "outputs": [],
   "source": [
    "# Display random observations from a particular class\n",
    "display_class_subset(X,y,category=1,labels=lc.classes_)"
   ]
  },
  {
   "cell_type": "code",
   "execution_count": null,
   "metadata": {},
   "outputs": [],
   "source": [
    "alpha = 0.01\n",
    "mdl = MLPClassifier(hidden_layer_sizes=(100,), alpha=alpha)\n",
    "mdl.fit(X,y)"
   ]
  },
  {
   "cell_type": "code",
   "execution_count": null,
   "metadata": {},
   "outputs": [],
   "source": [
    "y_pred = mdl.predict(X)\n",
    "rp.report_classification(y,y_pred,avg='macro',title='Training')"
   ]
  },
  {
   "cell_type": "code",
   "execution_count": null,
   "metadata": {},
   "outputs": [],
   "source": [
    "y_pred = mdl.predict(X_holdout)\n",
    "rp.report_classification(y_holdout,y_pred,avg='macro',title='Holdout')"
   ]
  },
  {
   "cell_type": "code",
   "execution_count": null,
   "metadata": {
    "scrolled": false
   },
   "outputs": [],
   "source": [
    "# Build and trains CNN\n",
    "alpha = 0.000\n",
    "mdl = Sequential()\n",
    "mdl.add(Conv2D(32, kernel_size=2, activation='relu', input_shape=(20,34,1),kernel_regularizer=regularizers.l2(alpha)))\n",
    "mdl.add(MaxPooling2D(pool_size=2))\n",
    "mdl.add(Conv2D(64, kernel_size=2, activation='relu',kernel_regularizer=regularizers.l2(alpha)))\n",
    "mdl.add(MaxPooling2D(pool_size=2))\n",
    "mdl.add(Flatten())\n",
    "mdl.add(Dense(100, activation='relu',kernel_regularizer=regularizers.l2(alpha)))\n",
    "mdl.add(Dropout(rate = 0.2))\n",
    "mdl.add(Dense(len(np.unique(y)), activation='softmax'))\n",
    "mdl.compile(loss=keras.losses.sparse_categorical_crossentropy, optimizer=keras.optimizers.Adam(), metrics=['accuracy'])\n",
    "# Train CNN\n",
    "mdl.fit(X.reshape((X.shape[0],20,34,1)),y,\n",
    "        batch_size=200,epochs=100,verbose=1,\n",
    "        validation_data=(X_holdout.reshape((X_holdout.shape[0],20,34,1)), y_holdout))"
   ]
  },
  {
   "cell_type": "code",
   "execution_count": null,
   "metadata": {},
   "outputs": [],
   "source": [
    "y_pred = mdl.predict(X.reshape((X.shape[0],20,34,1))).argmax(axis=1)\n",
    "rp.report_classification(y,y_pred,avg='macro',title='Training')"
   ]
  },
  {
   "cell_type": "code",
   "execution_count": null,
   "metadata": {},
   "outputs": [],
   "source": [
    "y_pred = mdl.predict(X_holdout.reshape((X_holdout.shape[0],20,34,1))).argmax(axis=1)\n",
    "rp.report_classification(y_holdout,y_pred,avg='macro',title='Holdout')"
   ]
  },
  {
   "cell_type": "code",
   "execution_count": null,
   "metadata": {},
   "outputs": [],
   "source": []
  }
 ],
 "metadata": {
  "kernelspec": {
   "display_name": "Python [conda env:deep_learning_cpu]",
   "language": "python",
   "name": "conda-env-deep_learning_cpu-py"
  },
  "language_info": {
   "codemirror_mode": {
    "name": "ipython",
    "version": 3
   },
   "file_extension": ".py",
   "mimetype": "text/x-python",
   "name": "python",
   "nbconvert_exporter": "python",
   "pygments_lexer": "ipython3",
   "version": "3.6.8"
  }
 },
 "nbformat": 4,
 "nbformat_minor": 2
}
