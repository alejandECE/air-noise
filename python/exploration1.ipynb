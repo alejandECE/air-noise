{
 "cells": [
  {
   "cell_type": "markdown",
   "metadata": {},
   "source": [
    "### Needed packages and installation instructions\n",
    "\n",
    "Install the following packages:\n",
    "\n",
    "pip install npTDMS  \n",
    "pip install mysql-connector-python"
   ]
  },
  {
   "cell_type": "code",
   "execution_count": null,
   "metadata": {},
   "outputs": [],
   "source": [
    "import mysql.connector\n",
    "from nptdms import TdmsFile\n",
    "import numpy as np\n",
    "import matplotlib.pyplot as plt\n",
    "from scipy.signal import decimate\n",
    "from scipy.signal import spectrogram\n",
    "import librosa"
   ]
  },
  {
   "cell_type": "code",
   "execution_count": null,
   "metadata": {},
   "outputs": [],
   "source": [
    "def preprocess(data,fs,factor=6):\n",
    "    data = decimate(data,factor)\n",
    "    fs = int(fs/factor)\n",
    "    return data,fs\n",
    "\n",
    "def extract_mfcc(data,fs):\n",
    "    data,fs = preprocess(data,fs)\n",
    "    mat = librosa.feature.mfcc(data,fs,n_mfcc=30,hop_length=512,fmax=4000)\n",
    "    return mat\n",
    "\n",
    "def extract_spec(data,fs):\n",
    "    data,fs = preprocess(data,fs)\n",
    "    f, t, Sxx = spectrogram(data,fs,mode='magnitude',\n",
    "                                window='hamming',nperseg=512,noverlap=256)\n",
    "    return f,t,Sxx"
   ]
  },
  {
   "cell_type": "code",
   "execution_count": null,
   "metadata": {},
   "outputs": [],
   "source": [
    "# Connect to DB\n",
    "mydb = mysql.connector.connect(\n",
    "    host = \"localhost\",\n",
    "    user = \"root\",\n",
    "    passwd = \"cuba\",\n",
    "    database = \"airnoise\"\n",
    ")\n",
    "print(mydb)"
   ]
  },
  {
   "cell_type": "code",
   "execution_count": null,
   "metadata": {},
   "outputs": [],
   "source": [
    "dbcursor = mydb.cursor()\n",
    "fs = 51200\n",
    "measurement = 3\n",
    "array = 1\n",
    "microphone = 4\n",
    "sql = '''SELECT m.url, t.location FROM tmid t, measurements m WHERE t.measurement = {} AND\n",
    "    t.array = {} AND t.microphone = {} AND m.id_measurement = t.measurement'''.format(\n",
    "    measurement,array,microphone)\n",
    "dbcursor.execute(sql)\n",
    "result = dbcursor.fetchall()\n",
    "url = result[0][0]\n",
    "tmid = result[0][1]\n",
    "tdms = TdmsFile(\"../../datasets/classification/noise/\" + url)\n",
    "data = tdms.channel_data(group = 'Untitled', channel = 'cDAQ1Mod' + str(array) + '/ai' + str(microphone - 1))\n",
    "data = data / np.absolute(data).max()\n",
    "time = np.arange(len(data)) / fs\n",
    "plt.plot(time, data)\n",
    "plt.plot([tmid,tmid],[-1,1],'r-')"
   ]
  },
  {
   "cell_type": "code",
   "execution_count": null,
   "metadata": {},
   "outputs": [],
   "source": [
    "offset = 0\n",
    "expand = 1\n",
    "start = int((tmid+offset-expand)*fs)\n",
    "end = int((tmid+offset+expand)*fs)\n",
    "segment = data[start:end+1]\n",
    "mat = extract_mfcc(segment,fs)\n",
    "print(mat.shape)\n",
    "print(mat.min())\n",
    "print(mat.max())\n",
    "print(mat.mean())\n",
    "mat = mat/np.absolute(mat).max()\n",
    "plt.subplot(121)\n",
    "plt.pcolormesh(mat, cmap='viridis')\n",
    "f,t,Sxx = extract_spec(segment,fs)\n",
    "print(Sxx.shape)\n",
    "plt.subplot(122)\n",
    "plt.pcolormesh(t,f,Sxx,cmap='viridis')"
   ]
  },
  {
   "cell_type": "code",
   "execution_count": null,
   "metadata": {},
   "outputs": [],
   "source": [
    "offset = 10\n",
    "expand = 1\n",
    "start = int((tmid+offset-expand)*fs)\n",
    "end = int((tmid+offset+expand)*fs)\n",
    "segment = data[start:end+1]\n",
    "mat = extract_mfcc(segment,fs)\n",
    "print(mat.shape)\n",
    "print(mat.min())\n",
    "print(mat.max())\n",
    "print(mat.mean())\n",
    "mat = mat/np.absolute(mat).max()\n",
    "plt.subplot(121)\n",
    "plt.pcolormesh(mat, cmap='viridis')\n",
    "f,t,Sxx = extract_spec(segment,fs)\n",
    "print(Sxx.shape)\n",
    "plt.subplot(122)\n",
    "plt.pcolormesh(t,f,Sxx,cmap='viridis')"
   ]
  },
  {
   "cell_type": "code",
   "execution_count": null,
   "metadata": {},
   "outputs": [],
   "source": []
  }
 ],
 "metadata": {
  "kernelspec": {
   "display_name": "Python 3",
   "language": "python",
   "name": "python3"
  },
  "language_info": {
   "codemirror_mode": {
    "name": "ipython",
    "version": 3
   },
   "file_extension": ".py",
   "mimetype": "text/x-python",
   "name": "python",
   "nbconvert_exporter": "python",
   "pygments_lexer": "ipython3",
   "version": "3.7.3"
  }
 },
 "nbformat": 4,
 "nbformat_minor": 2
}
