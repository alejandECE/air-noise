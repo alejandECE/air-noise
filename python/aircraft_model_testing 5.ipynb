{
 "cells": [
  {
   "cell_type": "markdown",
   "metadata": {},
   "source": [
    "###  Created by Luis Alejandro (alejand@umich.edu)"
   ]
  },
  {
   "cell_type": "code",
   "execution_count": 1,
   "metadata": {},
   "outputs": [],
   "source": [
    "import os\n",
    "os.environ[\"TF_FORCE_GPU_ALLOW_GROWTH\"]=\"true\"\n",
    "import tensorflow as tf\n",
    "from tfrecord_dataset import feature_description\n",
    "from aircraft_models import AirMultinomialRNN"
   ]
  },
  {
   "cell_type": "code",
   "execution_count": 2,
   "metadata": {},
   "outputs": [],
   "source": [
    "# Constants\n",
    "AUTOTUNE = tf.data.experimental.AUTOTUNE\n",
    "BUFFER_SIZE = 1000\n",
    "BATCH_SIZE = 64"
   ]
  },
  {
   "cell_type": "code",
   "execution_count": 3,
   "metadata": {},
   "outputs": [],
   "source": [
    "# Dataset location\n",
    "train_file = 'exports/2020-03-01 07-34-19/train.tfrecord'\n",
    "test_file = 'exports/2020-03-01 07-34-19/test.tfrecord'"
   ]
  },
  {
   "cell_type": "code",
   "execution_count": 4,
   "metadata": {},
   "outputs": [],
   "source": [
    "# Parses observation from proto format\n",
    "def tf_parse_observation(example):\n",
    "    observation = tf.io.parse_single_example(example, feature_description)\n",
    "    mfcc = observation['mfcc']\n",
    "    samples = observation['samples']\n",
    "    observation['spec'] = tf.reshape(observation['spec'],(mfcc,samples))\n",
    "    return observation\n",
    "\n",
    "# Converts into correct format for training (input,output) = (spec,label)\n",
    "def tf_transform_observation(data):\n",
    "    classes = [b'A320-2xx (CFM56-5)', b'B737-7xx (CF56-7B22-)', b'ERJ190 (CF34-10E)', b'B737-8xx (CF56-7B22+)',\n",
    "               b'ERJ145 (AE3007)', b'A320-2xx (V25xx)', b'A319-1xx (V25xx)', b'ERJ170-175 (CF34-8E)']\n",
    "    output = 0\n",
    "    for i, label in enumerate(classes):\n",
    "        if data['label'] == label:\n",
    "            output = i\n",
    "    return tf.expand_dims(data['spec'],-1), output"
   ]
  },
  {
   "cell_type": "code",
   "execution_count": 5,
   "metadata": {},
   "outputs": [],
   "source": [
    "# Creates training data pipeline\n",
    "train_dataset = tf.data.TFRecordDataset([train_file])\n",
    "train_dataset = train_dataset.map(tf_parse_observation,num_parallel_calls=AUTOTUNE)\n",
    "train_dataset = train_dataset.map(tf_transform_observation,num_parallel_calls=AUTOTUNE).cache()\n",
    "observation = next(iter(train_dataset))\n",
    "mfcc, time, channel = observation[0].shape\n",
    "train_dataset = train_dataset.shuffle(BUFFER_SIZE).batch(BATCH_SIZE).prefetch(1)"
   ]
  },
  {
   "cell_type": "code",
   "execution_count": 6,
   "metadata": {},
   "outputs": [],
   "source": [
    "# Creates test data pipeline\n",
    "test_dataset = tf.data.TFRecordDataset([test_file])\n",
    "test_dataset = test_dataset.map(tf_parse_observation,num_parallel_calls=AUTOTUNE)\n",
    "test_dataset = test_dataset.map(tf_transform_observation,num_parallel_calls=AUTOTUNE).cache()\n",
    "test_dataset = test_dataset.shuffle(BUFFER_SIZE).batch(BATCH_SIZE).prefetch(1)"
   ]
  },
  {
   "cell_type": "code",
   "execution_count": 7,
   "metadata": {},
   "outputs": [
    {
     "name": "stdout",
     "output_type": "stream",
     "text": [
      "Model: \"model\"\n",
      "_________________________________________________________________\n",
      "Layer (type)                 Output Shape              Param #   \n",
      "=================================================================\n",
      "input_1 (InputLayer)         [(None, 128, 401, 1)]     0         \n",
      "_________________________________________________________________\n",
      "Sequencer (SpecSequence)     (None, 15, 128, 50, 1)    0         \n",
      "_________________________________________________________________\n",
      "Conv1 (TimeDistributed)      (None, 15, 124, 46, 32)   832       \n",
      "_________________________________________________________________\n",
      "Pool1 (TimeDistributed)      (None, 15, 41, 15, 32)    0         \n",
      "_________________________________________________________________\n",
      "Conv2 (TimeDistributed)      (None, 15, 37, 11, 32)    25632     \n",
      "_________________________________________________________________\n",
      "Pool2 (TimeDistributed)      (None, 15, 12, 3, 32)     0         \n",
      "_________________________________________________________________\n",
      "Flatten (TimeDistributed)    (None, 15, 1152)          0         \n",
      "_________________________________________________________________\n",
      "dropout (Dropout)            (None, 15, 1152)          0         \n",
      "_________________________________________________________________\n",
      "Bidirectional (Bidirectional (None, 15, 64)            303360    \n",
      "_________________________________________________________________\n",
      "global_max_pooling1d (Global (None, 64)                0         \n",
      "_________________________________________________________________\n",
      "Dense (Dense)                (None, 8)                 520       \n",
      "=================================================================\n",
      "Total params: 330,344\n",
      "Trainable params: 330,344\n",
      "Non-trainable params: 0\n",
      "_________________________________________________________________\n"
     ]
    }
   ],
   "source": [
    "# Creates model\n",
    "builder = AirMultinomialRNN(categories=8, use_sequencer=True)\n",
    "model = builder.build_model(input_shape=[mfcc, time, channel])\n",
    "model.summary()"
   ]
  },
  {
   "cell_type": "code",
   "execution_count": 8,
   "metadata": {
    "scrolled": true
   },
   "outputs": [
    {
     "name": "stdout",
     "output_type": "stream",
     "text": [
      "Epoch 1/60\n",
      "20/20 [==============================] - 11s 531ms/step - loss: 4.3433 - accuracy: 0.3045 - val_loss: 0.0000e+00 - val_accuracy: 0.0000e+00\n",
      "Epoch 2/60\n",
      "20/20 [==============================] - 2s 123ms/step - loss: 3.5268 - accuracy: 0.5064 - val_loss: 3.2397 - val_accuracy: 0.5200\n",
      "Epoch 3/60\n",
      "20/20 [==============================] - 2s 121ms/step - loss: 2.9388 - accuracy: 0.6146 - val_loss: 2.7993 - val_accuracy: 0.5800\n",
      "Epoch 4/60\n",
      "20/20 [==============================] - 2s 122ms/step - loss: 2.5003 - accuracy: 0.6971 - val_loss: 2.4526 - val_accuracy: 0.5600\n",
      "Epoch 5/60\n",
      "20/20 [==============================] - 2s 124ms/step - loss: 2.1619 - accuracy: 0.7067 - val_loss: 2.1007 - val_accuracy: 0.6800\n",
      "Epoch 6/60\n",
      "20/20 [==============================] - 2s 122ms/step - loss: 1.8604 - accuracy: 0.7524 - val_loss: 1.8980 - val_accuracy: 0.6000\n",
      "Epoch 7/60\n",
      "20/20 [==============================] - 2s 123ms/step - loss: 1.6206 - accuracy: 0.7877 - val_loss: 1.7005 - val_accuracy: 0.7400\n",
      "Epoch 8/60\n",
      "20/20 [==============================] - 2s 122ms/step - loss: 1.4363 - accuracy: 0.7997 - val_loss: 1.5422 - val_accuracy: 0.7000\n",
      "Epoch 9/60\n",
      "20/20 [==============================] - 2s 123ms/step - loss: 1.3022 - accuracy: 0.8205 - val_loss: 1.4042 - val_accuracy: 0.6800\n",
      "Epoch 10/60\n",
      "20/20 [==============================] - 2s 123ms/step - loss: 1.1870 - accuracy: 0.8654 - val_loss: 1.3976 - val_accuracy: 0.7200\n",
      "Epoch 11/60\n",
      "20/20 [==============================] - 2s 125ms/step - loss: 1.1139 - accuracy: 0.8710 - val_loss: 1.2848 - val_accuracy: 0.7400\n",
      "Epoch 12/60\n",
      "20/20 [==============================] - 2s 123ms/step - loss: 1.0553 - accuracy: 0.8886 - val_loss: 1.2330 - val_accuracy: 0.7600\n",
      "Epoch 13/60\n",
      "20/20 [==============================] - 2s 123ms/step - loss: 1.0041 - accuracy: 0.9087 - val_loss: 1.2488 - val_accuracy: 0.7600\n",
      "Epoch 14/60\n",
      "20/20 [==============================] - 3s 125ms/step - loss: 0.9671 - accuracy: 0.9223 - val_loss: 1.1898 - val_accuracy: 0.7600\n",
      "Epoch 15/60\n",
      "20/20 [==============================] - 2s 123ms/step - loss: 0.9425 - accuracy: 0.9287 - val_loss: 1.2036 - val_accuracy: 0.7800\n",
      "Epoch 16/60\n",
      "20/20 [==============================] - 2s 123ms/step - loss: 0.9183 - accuracy: 0.9271 - val_loss: 1.1372 - val_accuracy: 0.7800\n",
      "Epoch 17/60\n",
      "20/20 [==============================] - 2s 122ms/step - loss: 0.8738 - accuracy: 0.9423 - val_loss: 1.1040 - val_accuracy: 0.8200\n",
      "Epoch 18/60\n",
      "20/20 [==============================] - 2s 123ms/step - loss: 0.8480 - accuracy: 0.9551 - val_loss: 1.1861 - val_accuracy: 0.7600\n",
      "Epoch 19/60\n",
      "20/20 [==============================] - 2s 122ms/step - loss: 0.8233 - accuracy: 0.9623 - val_loss: 1.1202 - val_accuracy: 0.8400\n",
      "Epoch 20/60\n",
      "20/20 [==============================] - 2s 122ms/step - loss: 0.8127 - accuracy: 0.9623 - val_loss: 1.0689 - val_accuracy: 0.8000\n",
      "Epoch 21/60\n",
      "20/20 [==============================] - 2s 124ms/step - loss: 0.7981 - accuracy: 0.9615 - val_loss: 1.1488 - val_accuracy: 0.8200\n",
      "Epoch 22/60\n",
      "20/20 [==============================] - 2s 122ms/step - loss: 0.7813 - accuracy: 0.9663 - val_loss: 1.0882 - val_accuracy: 0.8000\n",
      "Epoch 23/60\n",
      "20/20 [==============================] - 3s 126ms/step - loss: 0.7587 - accuracy: 0.9736 - val_loss: 1.0422 - val_accuracy: 0.8200\n",
      "Epoch 24/60\n",
      "20/20 [==============================] - 2s 123ms/step - loss: 0.7542 - accuracy: 0.9752 - val_loss: 1.0547 - val_accuracy: 0.8000\n",
      "Epoch 25/60\n",
      "20/20 [==============================] - 2s 123ms/step - loss: 0.7368 - accuracy: 0.9808 - val_loss: 1.0517 - val_accuracy: 0.8200\n",
      "Epoch 26/60\n",
      "20/20 [==============================] - 2s 124ms/step - loss: 0.7218 - accuracy: 0.9840 - val_loss: 1.0847 - val_accuracy: 0.7800\n",
      "Epoch 27/60\n",
      "20/20 [==============================] - 3s 125ms/step - loss: 0.7114 - accuracy: 0.9792 - val_loss: 1.0281 - val_accuracy: 0.8000\n",
      "Epoch 28/60\n",
      "20/20 [==============================] - 3s 125ms/step - loss: 0.7034 - accuracy: 0.9864 - val_loss: 1.0215 - val_accuracy: 0.8400\n",
      "Epoch 29/60\n",
      "20/20 [==============================] - 2s 122ms/step - loss: 0.6924 - accuracy: 0.9848 - val_loss: 1.0280 - val_accuracy: 0.8400\n",
      "Epoch 30/60\n",
      "20/20 [==============================] - 2s 122ms/step - loss: 0.6793 - accuracy: 0.9912 - val_loss: 1.0444 - val_accuracy: 0.8200\n",
      "Epoch 31/60\n",
      "20/20 [==============================] - 2s 123ms/step - loss: 0.6689 - accuracy: 0.9896 - val_loss: 0.9963 - val_accuracy: 0.8400\n",
      "Epoch 32/60\n",
      "20/20 [==============================] - 3s 125ms/step - loss: 0.6694 - accuracy: 0.9888 - val_loss: 1.0218 - val_accuracy: 0.8000\n",
      "Epoch 33/60\n",
      "20/20 [==============================] - 3s 130ms/step - loss: 0.6599 - accuracy: 0.9912 - val_loss: 0.9883 - val_accuracy: 0.8200\n",
      "Epoch 34/60\n",
      "20/20 [==============================] - 3s 135ms/step - loss: 0.6537 - accuracy: 0.9904 - val_loss: 0.9806 - val_accuracy: 0.8600\n",
      "Epoch 35/60\n",
      "20/20 [==============================] - 2s 125ms/step - loss: 0.6527 - accuracy: 0.9896 - val_loss: 0.9879 - val_accuracy: 0.8800\n",
      "Epoch 36/60\n",
      "20/20 [==============================] - 2s 122ms/step - loss: 0.6391 - accuracy: 0.9936 - val_loss: 1.0051 - val_accuracy: 0.8000\n",
      "Epoch 37/60\n",
      "20/20 [==============================] - 2s 123ms/step - loss: 0.6365 - accuracy: 0.9936 - val_loss: 1.0190 - val_accuracy: 0.8000\n",
      "Epoch 38/60\n",
      "20/20 [==============================] - 2s 123ms/step - loss: 0.6391 - accuracy: 0.9904 - val_loss: 0.9959 - val_accuracy: 0.8200\n",
      "Epoch 39/60\n",
      "20/20 [==============================] - 2s 122ms/step - loss: 0.6173 - accuracy: 0.9960 - val_loss: 1.0500 - val_accuracy: 0.8000\n",
      "Epoch 40/60\n",
      "20/20 [==============================] - 2s 121ms/step - loss: 0.6264 - accuracy: 0.9952 - val_loss: 1.0348 - val_accuracy: 0.7800\n",
      "Epoch 41/60\n",
      "20/20 [==============================] - 2s 122ms/step - loss: 0.6130 - accuracy: 0.9960 - val_loss: 0.9878 - val_accuracy: 0.8000\n",
      "Epoch 42/60\n",
      "20/20 [==============================] - 2s 122ms/step - loss: 0.6135 - accuracy: 0.9960 - val_loss: 0.9804 - val_accuracy: 0.8200\n",
      "Epoch 43/60\n",
      "20/20 [==============================] - 2s 123ms/step - loss: 0.6071 - accuracy: 0.9968 - val_loss: 0.9824 - val_accuracy: 0.8600\n",
      "Epoch 44/60\n",
      "20/20 [==============================] - 2s 123ms/step - loss: 0.6091 - accuracy: 0.9936 - val_loss: 0.9829 - val_accuracy: 0.7800\n",
      "Epoch 45/60\n",
      "20/20 [==============================] - 2s 124ms/step - loss: 0.6042 - accuracy: 0.9952 - val_loss: 0.9864 - val_accuracy: 0.8200\n",
      "Epoch 46/60\n",
      "20/20 [==============================] - 2s 122ms/step - loss: 0.5959 - accuracy: 0.9976 - val_loss: 0.9726 - val_accuracy: 0.8400\n",
      "Epoch 47/60\n",
      "20/20 [==============================] - 2s 122ms/step - loss: 0.5946 - accuracy: 0.9984 - val_loss: 0.9688 - val_accuracy: 0.8200\n",
      "Epoch 48/60\n",
      "20/20 [==============================] - 2s 123ms/step - loss: 0.5906 - accuracy: 0.9976 - val_loss: 1.0050 - val_accuracy: 0.8200\n",
      "Epoch 49/60\n",
      "20/20 [==============================] - 2s 122ms/step - loss: 0.5919 - accuracy: 0.9976 - val_loss: 0.9850 - val_accuracy: 0.8400\n",
      "Epoch 50/60\n",
      "20/20 [==============================] - 2s 123ms/step - loss: 0.5901 - accuracy: 0.9944 - val_loss: 0.9346 - val_accuracy: 0.8200\n",
      "Epoch 51/60\n",
      "20/20 [==============================] - 2s 122ms/step - loss: 0.5806 - accuracy: 0.9992 - val_loss: 0.9599 - val_accuracy: 0.8400\n",
      "Epoch 52/60\n",
      "20/20 [==============================] - 2s 123ms/step - loss: 0.5797 - accuracy: 1.0000 - val_loss: 0.9516 - val_accuracy: 0.8600\n",
      "Epoch 53/60\n",
      "20/20 [==============================] - 3s 129ms/step - loss: 0.5828 - accuracy: 0.9992 - val_loss: 0.9612 - val_accuracy: 0.8200\n",
      "Epoch 54/60\n",
      "20/20 [==============================] - 3s 136ms/step - loss: 0.5759 - accuracy: 0.9984 - val_loss: 0.9553 - val_accuracy: 0.8200\n",
      "Epoch 55/60\n",
      "20/20 [==============================] - 3s 147ms/step - loss: 0.5806 - accuracy: 0.9984 - val_loss: 0.9748 - val_accuracy: 0.8400\n",
      "Epoch 56/60\n",
      "20/20 [==============================] - 3s 149ms/step - loss: 0.5697 - accuracy: 0.9992 - val_loss: 0.9437 - val_accuracy: 0.8600\n",
      "Epoch 57/60\n",
      "20/20 [==============================] - 3s 138ms/step - loss: 0.5774 - accuracy: 0.9984 - val_loss: 1.0114 - val_accuracy: 0.8000\n",
      "Epoch 58/60\n",
      "20/20 [==============================] - 3s 129ms/step - loss: 0.5760 - accuracy: 0.9976 - val_loss: 0.9507 - val_accuracy: 0.8400\n"
     ]
    },
    {
     "name": "stdout",
     "output_type": "stream",
     "text": [
      "Epoch 59/60\n",
      "20/20 [==============================] - 3s 128ms/step - loss: 0.5674 - accuracy: 1.0000 - val_loss: 0.9406 - val_accuracy: 0.8400\n",
      "Epoch 60/60\n",
      "20/20 [==============================] - 2s 125ms/step - loss: 0.5696 - accuracy: 1.0000 - val_loss: 1.0181 - val_accuracy: 0.8200\n"
     ]
    },
    {
     "data": {
      "text/plain": [
       "<tensorflow.python.keras.callbacks.History at 0x26b97898c88>"
      ]
     },
     "execution_count": 8,
     "metadata": {},
     "output_type": "execute_result"
    }
   ],
   "source": [
    "# Training model\n",
    "model.compile(loss=tf.keras.losses.SparseCategoricalCrossentropy(),metrics=['accuracy'])\n",
    "model.fit(train_dataset, epochs=60, validation_data=test_dataset)"
   ]
  },
  {
   "cell_type": "code",
   "execution_count": null,
   "metadata": {},
   "outputs": [],
   "source": []
  }
 ],
 "metadata": {
  "kernelspec": {
   "display_name": "Python [conda env:tf2-gpu]",
   "language": "python",
   "name": "conda-env-tf2-gpu-py"
  },
  "language_info": {
   "codemirror_mode": {
    "name": "ipython",
    "version": 3
   },
   "file_extension": ".py",
   "mimetype": "text/x-python",
   "name": "python",
   "nbconvert_exporter": "python",
   "pygments_lexer": "ipython3",
   "version": "3.7.6"
  }
 },
 "nbformat": 4,
 "nbformat_minor": 4
}
