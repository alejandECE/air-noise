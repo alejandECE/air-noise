{
 "cells": [
  {
   "cell_type": "code",
   "execution_count": null,
   "metadata": {},
   "outputs": [],
   "source": [
    "import pandas as pd\n",
    "import numpy as np\n",
    "\n",
    "from sklearn.preprocessing import LabelEncoder\n",
    "from sklearn.preprocessing import StandardScaler\n",
    "from sklearn.pipeline import Pipeline\n",
    "from sklearn.model_selection import GridSearchCV\n",
    "\n",
    "from aircraft_dataset import aircraft_dataset_split\n",
    "from aircraft_dataset import AircraftDatasetFoldIterator\n",
    "\n",
    "from keras.models import Sequential\n",
    "from keras.layers import Conv2D\n",
    "from keras.layers import MaxPooling2D\n",
    "from keras.layers import Flatten\n",
    "from keras.layers import Dense\n",
    "from keras.layers import Dropout\n",
    "from keras import regularizers\n",
    "from keras.wrappers.scikit_learn import KerasClassifier\n",
    "\n",
    "import sys\n",
    "sys.path.append('../')\n",
    "import util.reports as rp"
   ]
  },
  {
   "cell_type": "code",
   "execution_count": null,
   "metadata": {
    "scrolled": false
   },
   "outputs": [],
   "source": [
    "# Loading dataset\n",
    "dataset = pd.read_csv('exports/2019-07-28 13-06-28/segment_1.csv')\n",
    "predictors = dataset.iloc[:,:680].values\n",
    "responses = dataset.iloc[:,680].values\n",
    "measurements = dataset.iloc[:,681].values\n",
    "np.unique(responses)"
   ]
  },
  {
   "cell_type": "code",
   "execution_count": null,
   "metadata": {},
   "outputs": [],
   "source": [
    "# Splits into training and holdout set\n",
    "X,y,X_holdout,y_holdout,measurements,measurement_holdout = aircraft_dataset_split(predictors,responses,measurements,\n",
    "                                                                                  return_measurements=True)\n",
    "lc = LabelEncoder()\n",
    "lc.fit(y)\n",
    "y = lc.transform(y)\n",
    "y_holdout = lc.transform(y_holdout)\n",
    "iterator = AircraftDatasetFoldIterator(X,y,measurements,folds=3)\n",
    "iterator.build()"
   ]
  },
  {
   "cell_type": "code",
   "execution_count": null,
   "metadata": {},
   "outputs": [],
   "source": [
    "# Utility function to build the Keras model (params of the function are used during grid search)\n",
    "def build_model(num_features, num_outputs, dense_architecture, regularization = 0,\n",
    "                dense_activation='sigmoid', dropout_rate = 0):\n",
    "    mdl = Sequential()\n",
    "    mdl.add(Conv2D(32, kernel_size=2, activation='relu', input_shape=(20,34,1),\n",
    "                   kernel_regularizer=regularizers.l2(regularization)))\n",
    "    mdl.add(MaxPooling2D(pool_size=2))\n",
    "    mdl.add(Conv2D(64, kernel_size=2, activation='relu',\n",
    "                   kernel_regularizer=regularizers.l2(regularization)))\n",
    "    mdl.add(MaxPooling2D(pool_size=2))\n",
    "    mdl.add(Flatten())\n",
    "    for i, value in enumerate(dense_architecture):\n",
    "        if i == 0:\n",
    "            mdl.add(Dense(value, activation=dense_activation,\n",
    "                          kernel_regularizer=regularizers.l2(regularization)))\n",
    "        else:\n",
    "            mdl.add(Dense(value, activation=dense_activation,\n",
    "                          kernel_regularizer=regularizers.l2(regularization)))\n",
    "        mdl.add(Dropout(rate=dropout_rate))\n",
    "        \n",
    "    if num_outputs > 1:\n",
    "        mdl.add(Dense(num_outputs, activation='softmax'))\n",
    "        mdl.compile(optimizer='adam', loss='sparse_categorical_crossentropy')\n",
    "    else:\n",
    "        mdl.add(Dense(num_outputs, activation='sigmoid'))\n",
    "        mdl.compile(optimizer='adam', loss='binary_crossentropy')\n",
    "        \n",
    "    return mdl"
   ]
  },
  {
   "cell_type": "code",
   "execution_count": null,
   "metadata": {
    "scrolled": false
   },
   "outputs": [],
   "source": [
    "# Performs grid search\n",
    "clf = KerasClassifier(build_model, num_features = X.shape[1], num_outputs = len(np.unique(y)),\n",
    "                      batch_size = None, epochs = 100, verbose = 1)\n",
    "\n",
    "architecture_choices = [(100,50), (100,)]\n",
    "activation_choices = ['sigmoid', 'relu']\n",
    "regularization_choices = [0,0.1]\n",
    "dropout_choices = [0,0.1,0.2]\n",
    "\n",
    "hyperparams = [{\n",
    "    'dense_architecture': architecture_choices,\n",
    "    'dense_activation': activation_choices,\n",
    "    'regularization': regularization_choices,\n",
    "    'dropout_rate': dropout_choices\n",
    "}]\n",
    "\n",
    "validator = GridSearchCV(clf, cv=iterator, param_grid=hyperparams, scoring='accuracy', n_jobs=-1, iid = False, verbose = 1)\n",
    "validator.fit(X.reshape((X.shape[0],20,34,1)),y)\n",
    "rp.report_grid_search(validator.cv_results_)"
   ]
  },
  {
   "cell_type": "code",
   "execution_count": null,
   "metadata": {},
   "outputs": [],
   "source": [
    "# Training set performance\n",
    "y_pred = validator.predict(X.reshape((X.shape[0],20,34,1)))\n",
    "rp.report_classification(y,y_pred,avg='macro')"
   ]
  },
  {
   "cell_type": "code",
   "execution_count": null,
   "metadata": {},
   "outputs": [],
   "source": [
    "# Holdout set performance\n",
    "y_pred = validator.predict(X_holdout.reshape((X_holdout.shape[0],20,34,1)))\n",
    "rp.report_classification(y_holdout,y_pred,avg='macro')"
   ]
  },
  {
   "cell_type": "code",
   "execution_count": null,
   "metadata": {},
   "outputs": [],
   "source": []
  }
 ],
 "metadata": {
  "kernelspec": {
   "display_name": "Python 3",
   "language": "python",
   "name": "python3"
  },
  "language_info": {
   "codemirror_mode": {
    "name": "ipython",
    "version": 3
   },
   "file_extension": ".py",
   "mimetype": "text/x-python",
   "name": "python",
   "nbconvert_exporter": "python",
   "pygments_lexer": "ipython3",
   "version": "3.7.3"
  }
 },
 "nbformat": 4,
 "nbformat_minor": 2
}
