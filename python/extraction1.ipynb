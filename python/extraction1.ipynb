{
 "cells": [
  {
   "cell_type": "markdown",
   "metadata": {},
   "source": [
    "###  Created by Luis Alejandro (alejand@umich.edu)\n",
    "Extracts TMID info from all signals into DB. **Careful!!! This will overwrite all entries in DB!!!**"
   ]
  },
  {
   "cell_type": "code",
   "execution_count": null,
   "metadata": {},
   "outputs": [],
   "source": [
    "import mysql.connector\n",
    "from nptdms import TdmsFile\n",
    "import numpy as np\n",
    "from scipy.signal import spectrogram\n",
    "from scipy.signal import decimate "
   ]
  },
  {
   "cell_type": "code",
   "execution_count": null,
   "metadata": {},
   "outputs": [],
   "source": [
    "fs = 51200\n",
    "factor = 6\n",
    "# Connects to DB\n",
    "mydb = mysql.connector.connect(\n",
    "        host = \"localhost\",\n",
    "        user = \"root\",\n",
    "        passwd = \"cuba\",\n",
    "        database = \"airnoise\"\n",
    "    )\n",
    "# Gets signals\n",
    "dbcursor = mydb.cursor()\n",
    "sql = '''SELECT t.measurement, t.array, t.microphone FROM\n",
    "        tmid t ORDER BY t.measurement, t.array, t.microphone;'''\n",
    "dbcursor.execute(sql)\n",
    "signals = dbcursor.fetchall()"
   ]
  },
  {
   "cell_type": "code",
   "execution_count": null,
   "metadata": {
    "scrolled": true
   },
   "outputs": [],
   "source": [
    "curr_measurement = None\n",
    "for measurement,array,microphone in signals:\n",
    "    \n",
    "    if measurement != curr_measurement:\n",
    "        dbcursor = mydb.cursor()        \n",
    "        sql = '''SELECT m.url FROM measurements m WHERE\n",
    "                    m.id_measurement = {:}'''.format(measurement)\n",
    "        dbcursor.execute(sql)\n",
    "        results = dbcursor.fetchall()\n",
    "        url = results[0][0]\n",
    "        tdms = TdmsFile(\"../../datasets/classification/noise/\" + url)\n",
    "        curr_measurement = measurement\n",
    "    data = tdms.channel_data(group = 'Untitled', channel = 'cDAQ1Mod' + str(array) + '/ai' + str(microphone - 1))\n",
    "    data = data/max(np.absolute(data))\n",
    "    data = decimate(data,factor)\n",
    "    f, t, Sxx = spectrogram(data,int(fs/factor),mode='magnitude',\n",
    "                                window='hamming',nperseg=512,noverlap=256)\n",
    "    power = Sxx.mean(axis=0)\n",
    "    location = t[power.argmax()]\n",
    "    dbcursor = mydb.cursor()\n",
    "    sql = '''UPDATE tmid t SET t.location = {} WHERE t.measurement = {}\n",
    "            AND t.array = {} AND t.microphone = {}'''.format(\n",
    "            location,measurement,array,microphone)\n",
    "    dbcursor.execute(sql)\n",
    "    mydb.commit()\n",
    "    print('Updating measurement: {}, array: {}, microphone: {} with location {}'.format(measurement,array,microphone,location))\n",
    "    "
   ]
  },
  {
   "cell_type": "code",
   "execution_count": null,
   "metadata": {},
   "outputs": [],
   "source": []
  }
 ],
 "metadata": {
  "kernelspec": {
   "display_name": "Python 3",
   "language": "python",
   "name": "python3"
  },
  "language_info": {
   "codemirror_mode": {
    "name": "ipython",
    "version": 3
   },
   "file_extension": ".py",
   "mimetype": "text/x-python",
   "name": "python",
   "nbconvert_exporter": "python",
   "pygments_lexer": "ipython3",
   "version": "3.7.3"
  }
 },
 "nbformat": 4,
 "nbformat_minor": 2
}
