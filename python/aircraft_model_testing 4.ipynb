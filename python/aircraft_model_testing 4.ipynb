{
 "cells": [
  {
   "cell_type": "markdown",
   "metadata": {},
   "source": [
    "###  Created by Luis Alejandro (alejand@umich.edu)"
   ]
  },
  {
   "cell_type": "code",
   "execution_count": 1,
   "metadata": {},
   "outputs": [],
   "source": [
    "import os\n",
    "os.environ[\"TF_FORCE_GPU_ALLOW_GROWTH\"]=\"true\"\n",
    "import tensorflow as tf\n",
    "from tfrecord_dataset import feature_description\n",
    "from aircraft_models import AirMultinomialRNN"
   ]
  },
  {
   "cell_type": "code",
   "execution_count": 2,
   "metadata": {},
   "outputs": [],
   "source": [
    "# Constants\n",
    "AUTOTUNE = tf.data.experimental.AUTOTUNE\n",
    "MFCC_SIZE = 128\n",
    "BUFFER_SIZE = 1000\n",
    "BATCH_SIZE = 64\n",
    "WINDOW_SIZE = 50"
   ]
  },
  {
   "cell_type": "code",
   "execution_count": 3,
   "metadata": {},
   "outputs": [],
   "source": [
    "# Dataset location\n",
    "train_file = 'exports/2020-02-07 01-09-35/train.tfrecord'\n",
    "test_file = 'exports/2020-02-07 01-09-35/test.tfrecord'"
   ]
  },
  {
   "cell_type": "code",
   "execution_count": 4,
   "metadata": {},
   "outputs": [],
   "source": [
    "# Parses observation from proto format\n",
    "def tf_parse_observation(example):\n",
    "    observation = tf.io.parse_single_example(example, feature_description)\n",
    "    mfcc = observation['mfcc']\n",
    "    samples = observation['samples']\n",
    "    observation['spec'] = tf.reshape(observation['spec'],(mfcc,samples))\n",
    "    return observation\n",
    "\n",
    "# Converts into correct format for training (input,output) = (spec,label)\n",
    "def tf_transform_observation(data):\n",
    "    classes = [b'A320-2xx (CFM56-5)', b'B737-7xx (CF56-7B22-)', b'ERJ190 (CF34-10E)', b'B737-8xx (CF56-7B22+)']\n",
    "    output = 0\n",
    "    for i, label in enumerate(classes):\n",
    "        if data['label'] == label:\n",
    "            output = i\n",
    "    return tf.expand_dims(data['spec'],-1), output\n",
    "\n",
    "def tf_make_sequence(spec, label):\n",
    "    samples = tf.shape(spec)[1]\n",
    "    start = tf.range(0,samples - WINDOW_SIZE, int(WINDOW_SIZE/2))\n",
    "    end = tf.range(WINDOW_SIZE, samples, int(WINDOW_SIZE/2))\n",
    "    sequence = tf.map_fn(lambda index: spec[:,index[0]:index[1]],\n",
    "                         tf.stack([start, end], axis=1),\n",
    "                         back_prop=False,\n",
    "                         dtype=tf.float32)\n",
    "    return sequence, label"
   ]
  },
  {
   "cell_type": "code",
   "execution_count": 5,
   "metadata": {},
   "outputs": [],
   "source": [
    "# Creates training data pipeline\n",
    "train_dataset = tf.data.TFRecordDataset([train_file])\n",
    "train_dataset = train_dataset.map(tf_parse_observation,num_parallel_calls=AUTOTUNE)\n",
    "train_dataset = train_dataset.map(tf_transform_observation,num_parallel_calls=AUTOTUNE)\n",
    "train_dataset = train_dataset.map(tf_make_sequence, num_parallel_calls=AUTOTUNE).cache()\n",
    "train_dataset = train_dataset.shuffle(BUFFER_SIZE).batch(BATCH_SIZE).prefetch(1)"
   ]
  },
  {
   "cell_type": "code",
   "execution_count": 6,
   "metadata": {},
   "outputs": [],
   "source": [
    "# Creates test data pipeline\n",
    "test_dataset = tf.data.TFRecordDataset([test_file])\n",
    "test_dataset = test_dataset.map(tf_parse_observation,num_parallel_calls=AUTOTUNE)\n",
    "test_dataset = test_dataset.map(tf_transform_observation,num_parallel_calls=AUTOTUNE)\n",
    "test_dataset = test_dataset.map(tf_make_sequence, num_parallel_calls=AUTOTUNE).cache()\n",
    "test_dataset = test_dataset.shuffle(BUFFER_SIZE).batch(BATCH_SIZE).prefetch(1)"
   ]
  },
  {
   "cell_type": "code",
   "execution_count": 7,
   "metadata": {},
   "outputs": [
    {
     "name": "stdout",
     "output_type": "stream",
     "text": [
      "Model: \"model\"\n",
      "_________________________________________________________________\n",
      "Layer (type)                 Output Shape              Param #   \n",
      "=================================================================\n",
      "input_1 (InputLayer)         [(None, None, 128, 50, 1) 0         \n",
      "_________________________________________________________________\n",
      "Conv1 (TimeDistributed)      (None, None, 124, 46, 32) 832       \n",
      "_________________________________________________________________\n",
      "Pool1 (TimeDistributed)      (None, None, 41, 15, 32)  0         \n",
      "_________________________________________________________________\n",
      "Conv2 (TimeDistributed)      (None, None, 37, 11, 32)  25632     \n",
      "_________________________________________________________________\n",
      "Pool2 (TimeDistributed)      (None, None, 12, 3, 32)   0         \n",
      "_________________________________________________________________\n",
      "Flatten (TimeDistributed)    (None, None, 1152)        0         \n",
      "_________________________________________________________________\n",
      "dropout (Dropout)            (None, None, 1152)        0         \n",
      "_________________________________________________________________\n",
      "Bidirectional (Bidirectional (None, None, 64)          303360    \n",
      "_________________________________________________________________\n",
      "global_max_pooling1d (Global (None, 64)                0         \n",
      "_________________________________________________________________\n",
      "Dense (Dense)                (None, 4)                 260       \n",
      "=================================================================\n",
      "Total params: 330,084\n",
      "Trainable params: 330,084\n",
      "Non-trainable params: 0\n",
      "_________________________________________________________________\n"
     ]
    }
   ],
   "source": [
    "# Creates model\n",
    "builder = AirMultinomialRNN(categories=4)\n",
    "model = builder.build_model(input_shape=[None, MFCC_SIZE, WINDOW_SIZE, 1])\n",
    "model.summary()"
   ]
  },
  {
   "cell_type": "code",
   "execution_count": 8,
   "metadata": {
    "scrolled": true
   },
   "outputs": [
    {
     "name": "stdout",
     "output_type": "stream",
     "text": [
      "Epoch 1/60\n",
      "14/14 [==============================] - 10s 742ms/step - loss: 2.3544 - accuracy: 0.4235 - val_loss: 0.0000e+00 - val_accuracy: 0.0000e+00\n",
      "Epoch 2/60\n",
      "14/14 [==============================] - 2s 125ms/step - loss: 2.0152 - accuracy: 0.5616 - val_loss: 1.9102 - val_accuracy: 0.5588\n",
      "Epoch 3/60\n",
      "14/14 [==============================] - 2s 125ms/step - loss: 1.7485 - accuracy: 0.6747 - val_loss: 1.6835 - val_accuracy: 0.6765\n",
      "Epoch 4/60\n",
      "14/14 [==============================] - 2s 125ms/step - loss: 1.5110 - accuracy: 0.7489 - val_loss: 1.4739 - val_accuracy: 0.6176\n",
      "Epoch 5/60\n",
      "14/14 [==============================] - 2s 125ms/step - loss: 1.3438 - accuracy: 0.7751 - val_loss: 1.3547 - val_accuracy: 0.7059\n",
      "Epoch 6/60\n",
      "14/14 [==============================] - 2s 125ms/step - loss: 1.1914 - accuracy: 0.8116 - val_loss: 1.1925 - val_accuracy: 0.7647\n",
      "Epoch 7/60\n",
      "14/14 [==============================] - 2s 125ms/step - loss: 1.0631 - accuracy: 0.8253 - val_loss: 1.1391 - val_accuracy: 0.7059\n",
      "Epoch 8/60\n",
      "14/14 [==============================] - 2s 125ms/step - loss: 0.9740 - accuracy: 0.8356 - val_loss: 1.0395 - val_accuracy: 0.7647\n",
      "Epoch 9/60\n",
      "14/14 [==============================] - 2s 126ms/step - loss: 0.8689 - accuracy: 0.8767 - val_loss: 0.9488 - val_accuracy: 0.7647\n",
      "Epoch 10/60\n",
      "14/14 [==============================] - 2s 125ms/step - loss: 0.8126 - accuracy: 0.8505 - val_loss: 0.8754 - val_accuracy: 0.8235\n",
      "Epoch 11/60\n",
      "14/14 [==============================] - 2s 126ms/step - loss: 0.7406 - accuracy: 0.8790 - val_loss: 0.8494 - val_accuracy: 0.7647\n",
      "Epoch 12/60\n",
      "14/14 [==============================] - 2s 126ms/step - loss: 0.6850 - accuracy: 0.8836 - val_loss: 0.7480 - val_accuracy: 0.8529\n",
      "Epoch 13/60\n",
      "14/14 [==============================] - 2s 125ms/step - loss: 0.6415 - accuracy: 0.9144 - val_loss: 0.7320 - val_accuracy: 0.7941\n",
      "Epoch 14/60\n",
      "14/14 [==============================] - 2s 126ms/step - loss: 0.6002 - accuracy: 0.9258 - val_loss: 0.7292 - val_accuracy: 0.8529\n",
      "Epoch 15/60\n",
      "14/14 [==============================] - 2s 125ms/step - loss: 0.5606 - accuracy: 0.9281 - val_loss: 0.8240 - val_accuracy: 0.7353\n",
      "Epoch 16/60\n",
      "14/14 [==============================] - 2s 126ms/step - loss: 0.5410 - accuracy: 0.9292 - val_loss: 0.7395 - val_accuracy: 0.7941\n",
      "Epoch 17/60\n",
      "14/14 [==============================] - 2s 125ms/step - loss: 0.4985 - accuracy: 0.9463 - val_loss: 0.7076 - val_accuracy: 0.8235\n",
      "Epoch 18/60\n",
      "14/14 [==============================] - 2s 126ms/step - loss: 0.5104 - accuracy: 0.9338 - val_loss: 0.6638 - val_accuracy: 0.8529\n",
      "Epoch 19/60\n",
      "14/14 [==============================] - 2s 125ms/step - loss: 0.4705 - accuracy: 0.9521 - val_loss: 0.5868 - val_accuracy: 0.9412\n",
      "Epoch 20/60\n",
      "14/14 [==============================] - 2s 126ms/step - loss: 0.4577 - accuracy: 0.9532 - val_loss: 0.6315 - val_accuracy: 0.8824\n",
      "Epoch 21/60\n",
      "14/14 [==============================] - 2s 125ms/step - loss: 0.4282 - accuracy: 0.9658 - val_loss: 0.6570 - val_accuracy: 0.8235\n",
      "Epoch 22/60\n",
      "14/14 [==============================] - 2s 126ms/step - loss: 0.4315 - accuracy: 0.9555 - val_loss: 0.6102 - val_accuracy: 0.8824\n",
      "Epoch 23/60\n",
      "14/14 [==============================] - 2s 126ms/step - loss: 0.4141 - accuracy: 0.9669 - val_loss: 0.5936 - val_accuracy: 0.8529\n",
      "Epoch 24/60\n",
      "14/14 [==============================] - 2s 125ms/step - loss: 0.4010 - accuracy: 0.9703 - val_loss: 0.5492 - val_accuracy: 0.8824\n",
      "Epoch 25/60\n",
      "14/14 [==============================] - 2s 125ms/step - loss: 0.3809 - accuracy: 0.9772 - val_loss: 0.5884 - val_accuracy: 0.8529\n",
      "Epoch 26/60\n",
      "14/14 [==============================] - 2s 126ms/step - loss: 0.3827 - accuracy: 0.9795 - val_loss: 0.5141 - val_accuracy: 0.9412\n",
      "Epoch 27/60\n",
      "14/14 [==============================] - 2s 126ms/step - loss: 0.3751 - accuracy: 0.9783 - val_loss: 0.5103 - val_accuracy: 0.8824\n",
      "Epoch 28/60\n",
      "14/14 [==============================] - 2s 125ms/step - loss: 0.3564 - accuracy: 0.9840 - val_loss: 0.4750 - val_accuracy: 0.9412\n",
      "Epoch 29/60\n",
      "14/14 [==============================] - 2s 125ms/step - loss: 0.3428 - accuracy: 0.9852 - val_loss: 0.5225 - val_accuracy: 0.9118\n",
      "Epoch 30/60\n",
      "14/14 [==============================] - 2s 125ms/step - loss: 0.3458 - accuracy: 0.9863 - val_loss: 0.5285 - val_accuracy: 0.9118\n",
      "Epoch 31/60\n",
      "14/14 [==============================] - 2s 125ms/step - loss: 0.3274 - accuracy: 0.9897 - val_loss: 0.5254 - val_accuracy: 0.9118\n",
      "Epoch 32/60\n",
      "14/14 [==============================] - 2s 126ms/step - loss: 0.3245 - accuracy: 0.9897 - val_loss: 0.4747 - val_accuracy: 0.9118\n",
      "Epoch 33/60\n",
      "14/14 [==============================] - 2s 125ms/step - loss: 0.3266 - accuracy: 0.9863 - val_loss: 0.4619 - val_accuracy: 0.9412\n",
      "Epoch 34/60\n",
      "14/14 [==============================] - 2s 125ms/step - loss: 0.3094 - accuracy: 0.9932 - val_loss: 0.5007 - val_accuracy: 0.9412\n",
      "Epoch 35/60\n",
      "14/14 [==============================] - 2s 126ms/step - loss: 0.3052 - accuracy: 0.9977 - val_loss: 0.4416 - val_accuracy: 0.9412\n",
      "Epoch 36/60\n",
      "14/14 [==============================] - 2s 125ms/step - loss: 0.3158 - accuracy: 0.9863 - val_loss: 0.5153 - val_accuracy: 0.9118\n",
      "Epoch 37/60\n",
      "14/14 [==============================] - 2s 126ms/step - loss: 0.2929 - accuracy: 0.9989 - val_loss: 0.4577 - val_accuracy: 0.9412\n",
      "Epoch 38/60\n",
      "14/14 [==============================] - 2s 125ms/step - loss: 0.3002 - accuracy: 0.9909 - val_loss: 0.5257 - val_accuracy: 0.8824\n",
      "Epoch 39/60\n",
      "14/14 [==============================] - 2s 126ms/step - loss: 0.3069 - accuracy: 0.9886 - val_loss: 0.4868 - val_accuracy: 0.9118\n",
      "Epoch 40/60\n",
      "14/14 [==============================] - 2s 125ms/step - loss: 0.2883 - accuracy: 0.9954 - val_loss: 0.4445 - val_accuracy: 0.8824\n",
      "Epoch 41/60\n",
      "14/14 [==============================] - 2s 125ms/step - loss: 0.2899 - accuracy: 0.9943 - val_loss: 0.4431 - val_accuracy: 0.9412\n",
      "Epoch 42/60\n",
      "14/14 [==============================] - 2s 125ms/step - loss: 0.2757 - accuracy: 0.9977 - val_loss: 0.4240 - val_accuracy: 0.9412\n",
      "Epoch 43/60\n",
      "14/14 [==============================] - 2s 126ms/step - loss: 0.3024 - accuracy: 0.9829 - val_loss: 0.4913 - val_accuracy: 0.9118\n",
      "Epoch 44/60\n",
      "14/14 [==============================] - 2s 126ms/step - loss: 0.2714 - accuracy: 0.9977 - val_loss: 0.4745 - val_accuracy: 0.9118\n",
      "Epoch 45/60\n",
      "14/14 [==============================] - 2s 125ms/step - loss: 0.2684 - accuracy: 0.9989 - val_loss: 0.4277 - val_accuracy: 0.9118\n",
      "Epoch 46/60\n",
      "14/14 [==============================] - 2s 126ms/step - loss: 0.2813 - accuracy: 0.9954 - val_loss: 0.4451 - val_accuracy: 0.9118\n",
      "Epoch 47/60\n",
      "14/14 [==============================] - 2s 125ms/step - loss: 0.2637 - accuracy: 0.9977 - val_loss: 0.5728 - val_accuracy: 0.8235\n",
      "Epoch 48/60\n",
      "14/14 [==============================] - 2s 126ms/step - loss: 0.2622 - accuracy: 0.9989 - val_loss: 0.3821 - val_accuracy: 0.9412\n",
      "Epoch 49/60\n",
      "14/14 [==============================] - 2s 126ms/step - loss: 0.2754 - accuracy: 0.9943 - val_loss: 0.5375 - val_accuracy: 0.9412\n",
      "Epoch 50/60\n",
      "14/14 [==============================] - 2s 126ms/step - loss: 0.2670 - accuracy: 0.9932 - val_loss: 0.4002 - val_accuracy: 0.9412\n",
      "Epoch 51/60\n",
      "14/14 [==============================] - 2s 126ms/step - loss: 0.2603 - accuracy: 0.9966 - val_loss: 0.4339 - val_accuracy: 0.9412\n",
      "Epoch 52/60\n",
      "14/14 [==============================] - 2s 127ms/step - loss: 0.2585 - accuracy: 0.9989 - val_loss: 0.3833 - val_accuracy: 0.9706\n",
      "Epoch 53/60\n",
      "14/14 [==============================] - 2s 125ms/step - loss: 0.2667 - accuracy: 0.9932 - val_loss: 0.4537 - val_accuracy: 0.9118\n",
      "Epoch 54/60\n",
      "14/14 [==============================] - 2s 128ms/step - loss: 0.2474 - accuracy: 1.0000 - val_loss: 0.3872 - val_accuracy: 0.9706\n",
      "Epoch 55/60\n",
      "14/14 [==============================] - 2s 126ms/step - loss: 0.2796 - accuracy: 0.9874 - val_loss: 0.4406 - val_accuracy: 0.9118\n",
      "Epoch 56/60\n",
      "14/14 [==============================] - 2s 126ms/step - loss: 0.2491 - accuracy: 0.9989 - val_loss: 0.4287 - val_accuracy: 0.9118\n",
      "Epoch 57/60\n",
      "14/14 [==============================] - 2s 126ms/step - loss: 0.2487 - accuracy: 1.0000 - val_loss: 0.3793 - val_accuracy: 0.9118\n",
      "Epoch 58/60\n",
      "14/14 [==============================] - 2s 126ms/step - loss: 0.2433 - accuracy: 0.9989 - val_loss: 0.3538 - val_accuracy: 0.9706\n"
     ]
    },
    {
     "name": "stdout",
     "output_type": "stream",
     "text": [
      "Epoch 59/60\n",
      "14/14 [==============================] - 2s 126ms/step - loss: 0.2490 - accuracy: 0.9977 - val_loss: 0.4309 - val_accuracy: 0.8529\n",
      "Epoch 60/60\n",
      "14/14 [==============================] - 2s 126ms/step - loss: 0.2562 - accuracy: 0.9932 - val_loss: 0.3537 - val_accuracy: 0.9706\n"
     ]
    },
    {
     "data": {
      "text/plain": [
       "<tensorflow.python.keras.callbacks.History at 0x26fc95274c8>"
      ]
     },
     "execution_count": 8,
     "metadata": {},
     "output_type": "execute_result"
    }
   ],
   "source": [
    "# Training model\n",
    "model.compile(loss=tf.keras.losses.SparseCategoricalCrossentropy(),metrics=['accuracy'])\n",
    "model.fit(train_dataset, epochs=60, validation_data=test_dataset)"
   ]
  },
  {
   "cell_type": "code",
   "execution_count": null,
   "metadata": {},
   "outputs": [],
   "source": []
  }
 ],
 "metadata": {
  "kernelspec": {
   "display_name": "Python [conda env:tf2-gpu]",
   "language": "python",
   "name": "conda-env-tf2-gpu-py"
  },
  "language_info": {
   "codemirror_mode": {
    "name": "ipython",
    "version": 3
   },
   "file_extension": ".py",
   "mimetype": "text/x-python",
   "name": "python",
   "nbconvert_exporter": "python",
   "pygments_lexer": "ipython3",
   "version": "3.7.6"
  }
 },
 "nbformat": 4,
 "nbformat_minor": 4
}
