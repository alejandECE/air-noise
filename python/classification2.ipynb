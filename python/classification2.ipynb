{
 "cells": [
  {
   "cell_type": "code",
   "execution_count": null,
   "metadata": {},
   "outputs": [],
   "source": [
    "import pandas as pd\n",
    "import numpy as np\n",
    "\n",
    "from sklearn.preprocessing import LabelEncoder\n",
    "from sklearn.preprocessing import StandardScaler\n",
    "from sklearn.neural_network import MLPClassifier\n",
    "from sklearn.pipeline import Pipeline\n",
    "from sklearn.model_selection import GridSearchCV\n",
    "\n",
    "from aircraft_dataset import aircraft_dataset_split\n",
    "from aircraft_dataset import AircraftDatasetFoldIterator\n",
    "\n",
    "import sys\n",
    "sys.path.append('../')\n",
    "import util.reports as rp"
   ]
  },
  {
   "cell_type": "code",
   "execution_count": null,
   "metadata": {
    "scrolled": false
   },
   "outputs": [],
   "source": [
    "# Loading dataset\n",
    "dataset = pd.read_csv('exports/2019-07-25 16-26-22/segment_1.csv')\n",
    "predictors = dataset.iloc[:,:680].values\n",
    "responses = dataset.iloc[:,680].values\n",
    "measurements = dataset.iloc[:,681].values\n",
    "np.unique(responses)"
   ]
  },
  {
   "cell_type": "code",
   "execution_count": null,
   "metadata": {},
   "outputs": [],
   "source": [
    "# Splits into training and holdout set\n",
    "X,y,X_holdout,y_holdout,measurements,measurement_holdout = aircraft_dataset_split(predictors,responses,measurements,\n",
    "                                                                                  return_measurements=True)\n",
    "lc = LabelEncoder()\n",
    "lc.fit(y)\n",
    "y = lc.transform(y)\n",
    "y_holdout = lc.transform(y_holdout)\n",
    "iterator = AircraftDatasetFoldIterator(X,y,measurements,folds=3)\n",
    "iterator.build()"
   ]
  },
  {
   "cell_type": "code",
   "execution_count": null,
   "metadata": {
    "scrolled": false
   },
   "outputs": [],
   "source": [
    "# Performs grid search\n",
    "sc = StandardScaler()\n",
    "clf = MLPClassifier(solver='lbfgs', max_iter=200)\n",
    "estimators = [('normalizer', sc), ('classifier', clf)]\n",
    "pipe = Pipeline(estimators)\n",
    "\n",
    "architecture_choices = [(100,30), (100,), (50,)]\n",
    "alpha_choices = [0,0.01,0.03,0.1,0.5,1,2]\n",
    "activation_choices = ['logistic', 'relu']\n",
    "\n",
    "hyperparams = [{\n",
    "    'classifier__hidden_layer_sizes': architecture_choices,\n",
    "    'classifier__alpha': alpha_choices,\n",
    "    'classifier__activation': activation_choices\n",
    "}]\n",
    "\n",
    "validator = GridSearchCV(pipe, cv=iterator, param_grid=hyperparams, scoring='accuracy', n_jobs=-1,verbose = 1,iid = False)\n",
    "validator.fit(X,y)\n",
    "rp.report_grid_search(validator.cv_results_)"
   ]
  },
  {
   "cell_type": "code",
   "execution_count": null,
   "metadata": {},
   "outputs": [],
   "source": [
    "# Training set performance\n",
    "y_pred = validator.predict(X)\n",
    "rp.report_classification(y,y_pred,avg='macro',title='Training')"
   ]
  },
  {
   "cell_type": "code",
   "execution_count": null,
   "metadata": {},
   "outputs": [],
   "source": [
    "# Holdout set performance\n",
    "y_pred = validator.predict(X_holdout)\n",
    "rp.report_classification(y_holdout,y_pred,avg='macro',title='Holdout')"
   ]
  }
 ],
 "metadata": {
  "kernelspec": {
   "display_name": "Python [conda env:machine_learning]",
   "language": "python",
   "name": "conda-env-machine_learning-py"
  },
  "language_info": {
   "codemirror_mode": {
    "name": "ipython",
    "version": 3
   },
   "file_extension": ".py",
   "mimetype": "text/x-python",
   "name": "python",
   "nbconvert_exporter": "python",
   "pygments_lexer": "ipython3",
   "version": "3.6.8"
  }
 },
 "nbformat": 4,
 "nbformat_minor": 2
}
