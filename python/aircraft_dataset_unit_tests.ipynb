{
 "cells": [
  {
   "cell_type": "code",
   "execution_count": null,
   "metadata": {},
   "outputs": [],
   "source": [
    "import pandas as pd\n",
    "import numpy as np\n",
    "from aircraft_dataset import aircraft_dataset_split\n",
    "from aircraft_dataset import AircraftDatasetFoldIterator"
   ]
  },
  {
   "cell_type": "code",
   "execution_count": null,
   "metadata": {},
   "outputs": [],
   "source": [
    "# Loading dataset\n",
    "dataset = pd.read_csv('exports/2019-07-28 13-06-28/segment_1.csv')\n",
    "predictors = dataset.iloc[:,:680].values\n",
    "responses = dataset.iloc[:,680].values\n",
    "measurements = dataset.iloc[:,681].values\n",
    "np.unique(responses)"
   ]
  },
  {
   "cell_type": "code",
   "execution_count": null,
   "metadata": {},
   "outputs": [],
   "source": [
    "# Dataset split unit test\n",
    "X,y,X_holdout,y_holdout, indexes, holdout_indexes = aircraft_dataset_split(predictors,responses,measurements,\n",
    "                                                                           return_measurements = True)"
   ]
  },
  {
   "cell_type": "code",
   "execution_count": null,
   "metadata": {},
   "outputs": [],
   "source": [
    "# Measurements properly distributed\n",
    "A = set(np.unique(indexes))\n",
    "B = set(np.unique(holdout_indexes))\n",
    "C = set(measurements)\n",
    "assert(len(B) == len(holdout_indexes))\n",
    "assert(A.intersection(B) == set())\n",
    "assert(A.union(B) == C)"
   ]
  },
  {
   "cell_type": "code",
   "execution_count": null,
   "metadata": {},
   "outputs": [],
   "source": [
    "# All classes present in both datasets\n",
    "A = set(np.unique(y))\n",
    "B = set(np.unique(y_holdout))\n",
    "assert(A == B)"
   ]
  },
  {
   "cell_type": "code",
   "execution_count": null,
   "metadata": {},
   "outputs": [],
   "source": [
    "# Number of correct measurements returned\n",
    "assert(predictors.shape[0] == (X.shape[0] + X_holdout.shape[0] * 12))"
   ]
  },
  {
   "cell_type": "code",
   "execution_count": null,
   "metadata": {
    "scrolled": false
   },
   "outputs": [],
   "source": [
    "# Verifying every split of the k-fold validator\n",
    "iterator = AircraftDatasetFoldIterator(X,y,indexes,folds=5)\n",
    "iterator.build()\n",
    "for train_obs, test_obs in iterator:\n",
    "    A = set(np.unique(indexes[train_obs]))\n",
    "    B = set(np.unique(indexes[test_obs]))\n",
    "    C = set(indexes)\n",
    "    assert(len(B) == len(test_obs))\n",
    "    assert(A.intersection(B) == set())\n",
    "    assert(A.union(B) == C)"
   ]
  }
 ],
 "metadata": {
  "kernelspec": {
   "display_name": "Python 3",
   "language": "python",
   "name": "python3"
  },
  "language_info": {
   "codemirror_mode": {
    "name": "ipython",
    "version": 3
   },
   "file_extension": ".py",
   "mimetype": "text/x-python",
   "name": "python",
   "nbconvert_exporter": "python",
   "pygments_lexer": "ipython3",
   "version": "3.7.3"
  }
 },
 "nbformat": 4,
 "nbformat_minor": 2
}
