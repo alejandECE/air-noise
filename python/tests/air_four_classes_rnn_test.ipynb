{
 "cells": [
  {
   "cell_type": "markdown",
   "metadata": {},
   "source": [
    "###  Created by Luis A. Sanchez-Perez (alejand@umich.edu).\n",
    "<p><span style=\"color:green\"><b>Copyright &#169;</b> Do not distribute or use without authorization from author.</span></p>"
   ]
  },
  {
   "cell_type": "code",
   "execution_count": 1,
   "metadata": {},
   "outputs": [],
   "source": [
    "import tensorflow as tf\n",
    "import pathlib\n",
    "import sys\n",
    "sys.path.append('../extraction/')\n",
    "sys.path.append('../models/')\n",
    "from air_multiclass_rnn import create_dataset\n",
    "from utils import display_performance\n",
    "from commons import get_classes_from_directory"
   ]
  },
  {
   "cell_type": "markdown",
   "metadata": {},
   "source": [
    "### 1. Create dataset"
   ]
  },
  {
   "cell_type": "code",
   "execution_count": 2,
   "metadata": {},
   "outputs": [],
   "source": [
    "# Data location\n",
    "folder = pathlib.Path('../exports/2020-02-07 01-09-35 (four classes)/')"
   ]
  },
  {
   "cell_type": "code",
   "execution_count": 3,
   "metadata": {},
   "outputs": [
    {
     "data": {
      "text/plain": [
       "[b'A320-2xx (CFM56-5)',\n",
       " b'B737-7xx (CF56-7B22-)',\n",
       " b'B737-8xx (CF56-7B22+)',\n",
       " b'ERJ190 (CF34-10E)']"
      ]
     },
     "execution_count": 3,
     "metadata": {},
     "output_type": "execute_result"
    }
   ],
   "source": [
    "# Finding categories in the folder\n",
    "classes = get_classes_from_directory(folder)\n",
    "classes"
   ]
  },
  {
   "cell_type": "code",
   "execution_count": 4,
   "metadata": {},
   "outputs": [],
   "source": [
    "train_ds, test_ds = create_dataset(folder, classes)"
   ]
  },
  {
   "cell_type": "markdown",
   "metadata": {},
   "source": [
    "### 2. Load model"
   ]
  },
  {
   "cell_type": "code",
   "execution_count": 5,
   "metadata": {},
   "outputs": [
    {
     "name": "stdout",
     "output_type": "stream",
     "text": [
      "Model: \"model\"\n",
      "_________________________________________________________________\n",
      "Layer (type)                 Output Shape              Param #   \n",
      "=================================================================\n",
      "input_1 (InputLayer)         [(None, 128, 401, 1)]     0         \n",
      "_________________________________________________________________\n",
      "Sequencer (SpectrogamSequenc multiple                  0         \n",
      "_________________________________________________________________\n",
      "time_distributed (TimeDistri multiple                  800       \n",
      "_________________________________________________________________\n",
      "BatchNorm1 (BatchNormalizati multiple                  60        \n",
      "_________________________________________________________________\n",
      "Relu1 (Activation)           multiple                  0         \n",
      "_________________________________________________________________\n",
      "time_distributed_1 (TimeDist multiple                  0         \n",
      "_________________________________________________________________\n",
      "time_distributed_2 (TimeDist multiple                  25600     \n",
      "_________________________________________________________________\n",
      "BatchNorm2 (BatchNormalizati multiple                  60        \n",
      "_________________________________________________________________\n",
      "Relu2 (Activation)           multiple                  0         \n",
      "_________________________________________________________________\n",
      "time_distributed_3 (TimeDist multiple                  25600     \n",
      "_________________________________________________________________\n",
      "BatchNorm3 (BatchNormalizati multiple                  60        \n",
      "_________________________________________________________________\n",
      "Relu3 (Activation)           multiple                  0         \n",
      "_________________________________________________________________\n",
      "time_distributed_4 (TimeDist multiple                  0         \n",
      "_________________________________________________________________\n",
      "time_distributed_5 (TimeDist multiple                  0         \n",
      "_________________________________________________________________\n",
      "dropout (Dropout)            multiple                  0         \n",
      "_________________________________________________________________\n",
      "LSTM1 (LSTM)                 multiple                  94336     \n",
      "_________________________________________________________________\n",
      "dropout_1 (Dropout)          multiple                  0         \n",
      "_________________________________________________________________\n",
      "Dense (Dense)                multiple                  132       \n",
      "=================================================================\n",
      "Total params: 146,648\n",
      "Trainable params: 146,558\n",
      "Non-trainable params: 90\n",
      "_________________________________________________________________\n"
     ]
    }
   ],
   "source": [
    "model = tf.keras.models.load_model(\n",
    "    str(folder / 'experiments/2020-07-02-14-07-24/' / 'trained_model/air_multiclass_rnn/')\n",
    ")\n",
    "model.summary()"
   ]
  },
  {
   "cell_type": "markdown",
   "metadata": {},
   "source": [
    "### 3. Evaluate model"
   ]
  },
  {
   "cell_type": "code",
   "execution_count": 6,
   "metadata": {
    "scrolled": false
   },
   "outputs": [
    {
     "name": "stdout",
     "output_type": "stream",
     "text": [
      "     14/Unknown - 4s 252ms/step - loss: 0.0406 - accuracy: 0.9989"
     ]
    },
    {
     "data": {
      "text/plain": [
       "[0.04056407404797418, 0.99885845]"
      ]
     },
     "execution_count": 6,
     "metadata": {},
     "output_type": "execute_result"
    }
   ],
   "source": [
    "model.evaluate(train_ds)"
   ]
  },
  {
   "cell_type": "code",
   "execution_count": 7,
   "metadata": {},
   "outputs": [
    {
     "name": "stdout",
     "output_type": "stream",
     "text": [
      "      1/Unknown - 0s 377ms/step - loss: 0.2756 - accuracy: 0.9412"
     ]
    },
    {
     "data": {
      "text/plain": [
       "[0.2756146192550659, 0.9411765]"
      ]
     },
     "execution_count": 7,
     "metadata": {},
     "output_type": "execute_result"
    }
   ],
   "source": [
    "model.evaluate(test_ds)"
   ]
  },
  {
   "cell_type": "code",
   "execution_count": 8,
   "metadata": {},
   "outputs": [
    {
     "name": "stdout",
     "output_type": "stream",
     "text": [
      "\n",
      "------- Training --------\n",
      "Confusion Matrix:\n",
      "[[324   0   0   0]\n",
      " [  0 216   0   0]\n",
      " [  0   0 156   0]\n",
      " [  0   0   1 179]]\n",
      "\n",
      "Accuracy: 0.9989\n",
      "Precision: 0.9984\n",
      "Recall: 0.9986\n",
      "F1 Score: 0.9985\n",
      "\n",
      "--------- Test ----------\n",
      "Confusion Matrix:\n",
      "[[12  0  0  0]\n",
      " [ 0  8  0  1]\n",
      " [ 0  0  5  1]\n",
      " [ 0  0  0  7]]\n",
      "\n",
      "Accuracy: 0.9412\n",
      "Precision: 0.9444\n",
      "Recall: 0.9306\n",
      "F1 Score: 0.9374\n"
     ]
    }
   ],
   "source": [
    "display_performance(model, train_ds, test_ds)"
   ]
  },
  {
   "cell_type": "markdown",
   "metadata": {},
   "source": [
    "### 4. Load model"
   ]
  },
  {
   "cell_type": "code",
   "execution_count": 9,
   "metadata": {},
   "outputs": [
    {
     "name": "stdout",
     "output_type": "stream",
     "text": [
      "Model: \"model\"\n",
      "_________________________________________________________________\n",
      "Layer (type)                 Output Shape              Param #   \n",
      "=================================================================\n",
      "input_1 (InputLayer)         [(None, 128, 401, 1)]     0         \n",
      "_________________________________________________________________\n",
      "Sequencer (SpectrogamSequenc multiple                  0         \n",
      "_________________________________________________________________\n",
      "time_distributed (TimeDistri multiple                  832       \n",
      "_________________________________________________________________\n",
      "Relu1 (Activation)           multiple                  0         \n",
      "_________________________________________________________________\n",
      "time_distributed_1 (TimeDist multiple                  0         \n",
      "_________________________________________________________________\n",
      "time_distributed_2 (TimeDist multiple                  25632     \n",
      "_________________________________________________________________\n",
      "Relu2 (Activation)           multiple                  0         \n",
      "_________________________________________________________________\n",
      "time_distributed_3 (TimeDist multiple                  25632     \n",
      "_________________________________________________________________\n",
      "Relu3 (Activation)           multiple                  0         \n",
      "_________________________________________________________________\n",
      "time_distributed_4 (TimeDist multiple                  0         \n",
      "_________________________________________________________________\n",
      "time_distributed_5 (TimeDist multiple                  0         \n",
      "_________________________________________________________________\n",
      "dropout (Dropout)            multiple                  0         \n",
      "_________________________________________________________________\n",
      "LSTM1 (LSTM)                 multiple                  94336     \n",
      "_________________________________________________________________\n",
      "dropout_1 (Dropout)          multiple                  0         \n",
      "_________________________________________________________________\n",
      "Dense (Dense)                multiple                  132       \n",
      "=================================================================\n",
      "Total params: 146,564\n",
      "Trainable params: 146,564\n",
      "Non-trainable params: 0\n",
      "_________________________________________________________________\n"
     ]
    }
   ],
   "source": [
    "model = tf.keras.models.load_model(\n",
    "    str(folder / 'experiments/2020-07-02-13-37-59/' / 'trained_model/air_multiclass_rnn/')\n",
    ")\n",
    "model.summary()"
   ]
  },
  {
   "cell_type": "markdown",
   "metadata": {},
   "source": [
    "### 5. Evaluate model"
   ]
  },
  {
   "cell_type": "code",
   "execution_count": 10,
   "metadata": {},
   "outputs": [
    {
     "name": "stdout",
     "output_type": "stream",
     "text": [
      "     14/Unknown - 1s 73ms/step - loss: 0.0566 - accuracy: 0.9977"
     ]
    },
    {
     "data": {
      "text/plain": [
       "[0.05664532578417233, 0.9977169]"
      ]
     },
     "execution_count": 10,
     "metadata": {},
     "output_type": "execute_result"
    }
   ],
   "source": [
    "model.evaluate(train_ds)"
   ]
  },
  {
   "cell_type": "code",
   "execution_count": 11,
   "metadata": {},
   "outputs": [
    {
     "name": "stdout",
     "output_type": "stream",
     "text": [
      "      1/Unknown - 0s 76ms/step - loss: 0.1798 - accuracy: 0.9706"
     ]
    },
    {
     "data": {
      "text/plain": [
       "[0.17982491850852966, 0.9705882]"
      ]
     },
     "execution_count": 11,
     "metadata": {},
     "output_type": "execute_result"
    }
   ],
   "source": [
    "model.evaluate(test_ds)"
   ]
  },
  {
   "cell_type": "code",
   "execution_count": 12,
   "metadata": {},
   "outputs": [
    {
     "name": "stdout",
     "output_type": "stream",
     "text": [
      "\n",
      "------- Training --------\n",
      "Confusion Matrix:\n",
      "[[324   0   0   0]\n",
      " [  0 216   0   0]\n",
      " [  0   1 155   0]\n",
      " [  0   0   1 179]]\n",
      "\n",
      "Accuracy: 0.9977\n",
      "Precision: 0.9972\n",
      "Recall: 0.9970\n",
      "F1 Score: 0.9971\n",
      "\n",
      "--------- Test ----------\n",
      "Confusion Matrix:\n",
      "[[12  0  0  0]\n",
      " [ 0  8  0  1]\n",
      " [ 0  0  6  0]\n",
      " [ 0  0  0  7]]\n",
      "\n",
      "Accuracy: 0.9706\n",
      "Precision: 0.9688\n",
      "Recall: 0.9722\n",
      "F1 Score: 0.9705\n"
     ]
    }
   ],
   "source": [
    "display_performance(model, train_ds, test_ds)"
   ]
  }
 ],
 "metadata": {
  "kernelspec": {
   "display_name": "Python 3",
   "language": "python",
   "name": "python3"
  },
  "language_info": {
   "codemirror_mode": {
    "name": "ipython",
    "version": 3
   },
   "file_extension": ".py",
   "mimetype": "text/x-python",
   "name": "python",
   "nbconvert_exporter": "python",
   "pygments_lexer": "ipython3",
   "version": "3.7.6"
  }
 },
 "nbformat": 4,
 "nbformat_minor": 4
}
