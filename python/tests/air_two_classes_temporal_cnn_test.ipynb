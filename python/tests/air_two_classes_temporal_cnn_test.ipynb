{
 "cells": [
  {
   "cell_type": "markdown",
   "metadata": {},
   "source": [
    "###  Created by Luis A. Sanchez-Perez (alejand@umich.edu).\n",
    "<p><span style=\"color:green\"><b>Copyright &#169;</b> Do not distribute or use without authorization from author.</span></p>"
   ]
  },
  {
   "cell_type": "code",
   "execution_count": 1,
   "metadata": {},
   "outputs": [],
   "source": [
    "import tensorflow as tf\n",
    "import sys\n",
    "sys.path.append('../extraction/')\n",
    "sys.path.append('../models/')\n",
    "from air_two_classes_temporal_cnn import create_dataset\n",
    "from utils import display_performance"
   ]
  },
  {
   "cell_type": "markdown",
   "metadata": {},
   "source": [
    "### 1. Create dataset"
   ]
  },
  {
   "cell_type": "code",
   "execution_count": 2,
   "metadata": {},
   "outputs": [],
   "source": [
    "# Data location\n",
    "train_records = '../exports/2020-02-03 11-55-25/train.tfrecord'\n",
    "test_records = '../exports/2020-02-03 11-55-25/test.tfrecord'"
   ]
  },
  {
   "cell_type": "code",
   "execution_count": 3,
   "metadata": {},
   "outputs": [],
   "source": [
    "train_ds, test_ds = create_dataset(train_records, test_records)"
   ]
  },
  {
   "cell_type": "markdown",
   "metadata": {},
   "source": [
    "### 2. Load model"
   ]
  },
  {
   "cell_type": "code",
   "execution_count": 4,
   "metadata": {},
   "outputs": [],
   "source": [
    "model = tf.keras.models.load_model('../models/trained_model/air_two_classes_temporal_cnn/')"
   ]
  },
  {
   "cell_type": "code",
   "execution_count": 5,
   "metadata": {},
   "outputs": [
    {
     "name": "stdout",
     "output_type": "stream",
     "text": [
      "Model: \"model\"\n",
      "_________________________________________________________________\n",
      "Layer (type)                 Output Shape              Param #   \n",
      "=================================================================\n",
      "input_1 (InputLayer)         [(None, 401, 128)]        0         \n",
      "_________________________________________________________________\n",
      "conv1d (Conv1D)              (None, 51, 16)            32784     \n",
      "_________________________________________________________________\n",
      "BatchNorm1 (BatchNormalizati (None, 51, 16)            64        \n",
      "_________________________________________________________________\n",
      "dropout (Dropout)            (None, 51, 16)            0         \n",
      "_________________________________________________________________\n",
      "conv1d_1 (Conv1D)            (None, 51, 16)            784       \n",
      "_________________________________________________________________\n",
      "BatchNorm2 (BatchNormalizati (None, 51, 16)            64        \n",
      "_________________________________________________________________\n",
      "dropout_1 (Dropout)          (None, 51, 16)            0         \n",
      "_________________________________________________________________\n",
      "global_max_pooling1d (Global (None, 16)                0         \n",
      "_________________________________________________________________\n",
      "dense (Dense)                (None, 1)                 17        \n",
      "=================================================================\n",
      "Total params: 33,713\n",
      "Trainable params: 33,649\n",
      "Non-trainable params: 64\n",
      "_________________________________________________________________\n"
     ]
    }
   ],
   "source": [
    "model.summary()"
   ]
  },
  {
   "cell_type": "markdown",
   "metadata": {},
   "source": [
    "### 3. Evaluate model"
   ]
  },
  {
   "cell_type": "code",
   "execution_count": 6,
   "metadata": {
    "scrolled": false
   },
   "outputs": [
    {
     "name": "stdout",
     "output_type": "stream",
     "text": [
      "      7/Unknown - 3s 416ms/step - loss: 0.0667 - binary_accuracy: 1.0000 - true_positives: 504.0000 - false_positives: 0.0000e+00 - false_negatives: 0.0000e+00 - true_negatives: 384.0000"
     ]
    },
    {
     "data": {
      "text/plain": [
       "[0.06666463081325803, 1.0, 504.0, 0.0, 0.0, 384.0]"
      ]
     },
     "execution_count": 6,
     "metadata": {},
     "output_type": "execute_result"
    }
   ],
   "source": [
    "model.evaluate(train_ds)"
   ]
  },
  {
   "cell_type": "code",
   "execution_count": 7,
   "metadata": {},
   "outputs": [
    {
     "name": "stdout",
     "output_type": "stream",
     "text": [
      "      1/Unknown - 0s 105ms/step - loss: 0.4247 - binary_accuracy: 0.9688 - true_positives: 18.0000 - false_positives: 1.0000 - false_negatives: 0.0000e+00 - true_negatives: 13.0000"
     ]
    },
    {
     "data": {
      "text/plain": [
       "[0.42473286390304565, 0.96875, 18.0, 1.0, 0.0, 13.0]"
      ]
     },
     "execution_count": 7,
     "metadata": {},
     "output_type": "execute_result"
    }
   ],
   "source": [
    "model.evaluate(test_ds)"
   ]
  },
  {
   "cell_type": "code",
   "execution_count": 8,
   "metadata": {},
   "outputs": [
    {
     "name": "stdout",
     "output_type": "stream",
     "text": [
      "\n",
      "------- Training --------\n",
      "Confusion Matrix:\n",
      "[[384   0]\n",
      " [  0 504]]\n",
      "\n",
      "Accuracy: 1.0000\n",
      "Precision: 1.0000\n",
      "Recall: 1.0000\n",
      "F1 Score: 1.0000\n",
      "\n",
      "--------- Test ----------\n",
      "Confusion Matrix:\n",
      "[[13  1]\n",
      " [ 0 18]]\n",
      "\n",
      "Accuracy: 0.9688\n",
      "Precision: 0.9737\n",
      "Recall: 0.9643\n",
      "F1 Score: 0.9690\n"
     ]
    }
   ],
   "source": [
    "display_performance(model, train_ds, test_ds)"
   ]
  }
 ],
 "metadata": {
  "kernelspec": {
   "display_name": "Python 3",
   "language": "python",
   "name": "python3"
  },
  "language_info": {
   "codemirror_mode": {
    "name": "ipython",
    "version": 3
   },
   "file_extension": ".py",
   "mimetype": "text/x-python",
   "name": "python",
   "nbconvert_exporter": "python",
   "pygments_lexer": "ipython3",
   "version": "3.7.6"
  }
 },
 "nbformat": 4,
 "nbformat_minor": 4
}
