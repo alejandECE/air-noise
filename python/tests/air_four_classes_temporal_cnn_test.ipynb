{
 "cells": [
  {
   "cell_type": "markdown",
   "metadata": {},
   "source": [
    "###  Created by Luis A. Sanchez-Perez (alejand@umich.edu).\n",
    "<p><span style=\"color:green\"><b>Copyright &#169;</b> Do not distribute or use without authorization from author.</span></p>"
   ]
  },
  {
   "cell_type": "code",
   "execution_count": 1,
   "metadata": {},
   "outputs": [],
   "source": [
    "import tensorflow as tf\n",
    "import sys\n",
    "sys.path.append('../extraction/')\n",
    "sys.path.append('../models/')\n",
    "from air_four_classes_temporal_cnn import create_dataset\n",
    "from utils import display_performance\n",
    "from commons import get_classes_from_directory"
   ]
  },
  {
   "cell_type": "markdown",
   "metadata": {},
   "source": [
    "### 1. Create dataset"
   ]
  },
  {
   "cell_type": "code",
   "execution_count": 2,
   "metadata": {},
   "outputs": [],
   "source": [
    "# Data location\n",
    "folder = '../exports/2020-02-07 01-09-35 (four classes)/'"
   ]
  },
  {
   "cell_type": "code",
   "execution_count": 3,
   "metadata": {},
   "outputs": [
    {
     "data": {
      "text/plain": [
       "[b'A320-2xx (CFM56-5)',\n",
       " b'B737-7xx (CF56-7B22-)',\n",
       " b'B737-8xx (CF56-7B22+)',\n",
       " b'ERJ190 (CF34-10E)']"
      ]
     },
     "execution_count": 3,
     "metadata": {},
     "output_type": "execute_result"
    }
   ],
   "source": [
    "# Finding categories in the folder\n",
    "classes = get_classes_from_directory(folder)\n",
    "classes"
   ]
  },
  {
   "cell_type": "code",
   "execution_count": 4,
   "metadata": {},
   "outputs": [],
   "source": [
    "train_ds, test_ds = create_dataset(folder, classes)"
   ]
  },
  {
   "cell_type": "markdown",
   "metadata": {},
   "source": [
    "### 2. Load model"
   ]
  },
  {
   "cell_type": "code",
   "execution_count": 5,
   "metadata": {},
   "outputs": [],
   "source": [
    "model = tf.keras.models.load_model(folder +\n",
    "                                   'experiments/2020-07-01 22-06-25/' +\n",
    "                                   'trained_model/air_four_classes_temporal_cnn/')"
   ]
  },
  {
   "cell_type": "code",
   "execution_count": 6,
   "metadata": {},
   "outputs": [
    {
     "name": "stdout",
     "output_type": "stream",
     "text": [
      "Model: \"model\"\n",
      "_________________________________________________________________\n",
      "Layer (type)                 Output Shape              Param #   \n",
      "=================================================================\n",
      "input_1 (InputLayer)         [(None, 401, 128)]        0         \n",
      "_________________________________________________________________\n",
      "Conv1 (Conv1D)               (None, 51, 16)            32768     \n",
      "_________________________________________________________________\n",
      "BatchNorm1 (BatchNormalizati (None, 51, 16)            64        \n",
      "_________________________________________________________________\n",
      "activation (Activation)      (None, 51, 16)            0         \n",
      "_________________________________________________________________\n",
      "dropout (Dropout)            (None, 51, 16)            0         \n",
      "_________________________________________________________________\n",
      "Conv2 (Conv1D)               (None, 51, 16)            768       \n",
      "_________________________________________________________________\n",
      "BatchNorm2 (BatchNormalizati (None, 51, 16)            64        \n",
      "_________________________________________________________________\n",
      "activation_1 (Activation)    (None, 51, 16)            0         \n",
      "_________________________________________________________________\n",
      "dropout_1 (Dropout)          (None, 51, 16)            0         \n",
      "_________________________________________________________________\n",
      "global_max_pooling1d (Global (None, 16)                0         \n",
      "_________________________________________________________________\n",
      "dense (Dense)                (None, 4)                 68        \n",
      "=================================================================\n",
      "Total params: 33,732\n",
      "Trainable params: 33,668\n",
      "Non-trainable params: 64\n",
      "_________________________________________________________________\n"
     ]
    }
   ],
   "source": [
    "model.summary()"
   ]
  },
  {
   "cell_type": "markdown",
   "metadata": {},
   "source": [
    "### 3. Evaluate model"
   ]
  },
  {
   "cell_type": "code",
   "execution_count": 7,
   "metadata": {},
   "outputs": [
    {
     "name": "stdout",
     "output_type": "stream",
     "text": [
      "     14/Unknown - 4s 264ms/step - loss: 0.2554 - accuracy: 0.9920"
     ]
    },
    {
     "data": {
      "text/plain": [
       "[0.25536510561193737, 0.9920091]"
      ]
     },
     "execution_count": 7,
     "metadata": {},
     "output_type": "execute_result"
    }
   ],
   "source": [
    "model.evaluate(train_ds)"
   ]
  },
  {
   "cell_type": "code",
   "execution_count": 8,
   "metadata": {},
   "outputs": [
    {
     "name": "stdout",
     "output_type": "stream",
     "text": [
      "      1/Unknown - 0s 102ms/step - loss: 0.5111 - accuracy: 0.9118"
     ]
    },
    {
     "data": {
      "text/plain": [
       "[0.5111063122749329, 0.9117647]"
      ]
     },
     "execution_count": 8,
     "metadata": {},
     "output_type": "execute_result"
    }
   ],
   "source": [
    "model.evaluate(test_ds)"
   ]
  },
  {
   "cell_type": "code",
   "execution_count": 9,
   "metadata": {},
   "outputs": [
    {
     "name": "stdout",
     "output_type": "stream",
     "text": [
      "\n",
      "------- Training --------\n",
      "Confusion Matrix:\n",
      "[[324   0   0   0]\n",
      " [  0 214   0   2]\n",
      " [  0   1 154   1]\n",
      " [  0   3   0 177]]\n",
      "\n",
      "Accuracy: 0.9920\n",
      "Precision: 0.9912\n",
      "Recall: 0.9903\n",
      "F1 Score: 0.9908\n",
      "\n",
      "--------- Test ----------\n",
      "Confusion Matrix:\n",
      "[[12  0  0  0]\n",
      " [ 0  7  1  1]\n",
      " [ 0  0  5  1]\n",
      " [ 0  0  0  7]]\n",
      "\n",
      "Accuracy: 0.9118\n",
      "Precision: 0.9028\n",
      "Recall: 0.9028\n",
      "F1 Score: 0.9028\n"
     ]
    }
   ],
   "source": [
    "display_performance(model, train_ds, test_ds)"
   ]
  }
 ],
 "metadata": {
  "kernelspec": {
   "display_name": "Python 3",
   "language": "python",
   "name": "python3"
  },
  "language_info": {
   "codemirror_mode": {
    "name": "ipython",
    "version": 3
   },
   "file_extension": ".py",
   "mimetype": "text/x-python",
   "name": "python",
   "nbconvert_exporter": "python",
   "pygments_lexer": "ipython3",
   "version": "3.7.6"
  }
 },
 "nbformat": 4,
 "nbformat_minor": 4
}
