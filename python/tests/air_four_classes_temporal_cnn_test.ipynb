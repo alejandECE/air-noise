{
 "cells": [
  {
   "cell_type": "markdown",
   "metadata": {},
   "source": [
    "###  Created by Luis A. Sanchez-Perez (alejand@umich.edu).\n",
    "<p><span style=\"color:green\"><b>Copyright &#169;</b> Do not distribute or use without authorization from author.</span></p>"
   ]
  },
  {
   "cell_type": "code",
   "execution_count": 1,
   "metadata": {},
   "outputs": [],
   "source": [
    "import tensorflow as tf\n",
    "import pathlib\n",
    "import sys\n",
    "sys.path.append('../extraction/')\n",
    "sys.path.append('../models/')\n",
    "from air_multiclass_temporal_cnn import create_dataset\n",
    "from utils import display_performance\n",
    "from commons import get_classes_from_directory"
   ]
  },
  {
   "cell_type": "markdown",
   "metadata": {},
   "source": [
    "### 1. Create dataset"
   ]
  },
  {
   "cell_type": "code",
   "execution_count": 2,
   "metadata": {},
   "outputs": [],
   "source": [
    "# Data location\n",
    "folder = pathlib.Path('../exports/2020-02-07 01-09-35 (four classes)/')"
   ]
  },
  {
   "cell_type": "code",
   "execution_count": 3,
   "metadata": {},
   "outputs": [
    {
     "data": {
      "text/plain": [
       "[b'A320-2xx (CFM56-5)',\n",
       " b'B737-7xx (CF56-7B22-)',\n",
       " b'B737-8xx (CF56-7B22+)',\n",
       " b'ERJ190 (CF34-10E)']"
      ]
     },
     "execution_count": 3,
     "metadata": {},
     "output_type": "execute_result"
    }
   ],
   "source": [
    "# Finding categories in the folder\n",
    "classes = get_classes_from_directory(folder)\n",
    "classes"
   ]
  },
  {
   "cell_type": "code",
   "execution_count": 4,
   "metadata": {},
   "outputs": [],
   "source": [
    "train_ds, test_ds = create_dataset(folder, classes)"
   ]
  },
  {
   "cell_type": "markdown",
   "metadata": {},
   "source": [
    "### 2. Load model"
   ]
  },
  {
   "cell_type": "code",
   "execution_count": 5,
   "metadata": {},
   "outputs": [],
   "source": [
    "model = tf.keras.models.load_model(\n",
    "    str(folder / 'experiments/2020-07-02-13-50-21' / 'trained_model/air_multiclass_temporal_cnn')\n",
    ")"
   ]
  },
  {
   "cell_type": "code",
   "execution_count": 6,
   "metadata": {},
   "outputs": [
    {
     "name": "stdout",
     "output_type": "stream",
     "text": [
      "Model: \"model\"\n",
      "_________________________________________________________________\n",
      "Layer (type)                 Output Shape              Param #   \n",
      "=================================================================\n",
      "input_1 (InputLayer)         [(None, 401, 128)]        0         \n",
      "_________________________________________________________________\n",
      "Conv1 (Conv1D)               (None, 51, 16)            32784     \n",
      "_________________________________________________________________\n",
      "Relu1 (Activation)           (None, 51, 16)            0         \n",
      "_________________________________________________________________\n",
      "dropout (Dropout)            (None, 51, 16)            0         \n",
      "_________________________________________________________________\n",
      "Conv2 (Conv1D)               (None, 51, 16)            784       \n",
      "_________________________________________________________________\n",
      "Relu2 (Activation)           (None, 51, 16)            0         \n",
      "_________________________________________________________________\n",
      "dropout_1 (Dropout)          (None, 51, 16)            0         \n",
      "_________________________________________________________________\n",
      "global_max_pooling1d (Global (None, 16)                0         \n",
      "_________________________________________________________________\n",
      "dense (Dense)                (None, 4)                 68        \n",
      "=================================================================\n",
      "Total params: 33,636\n",
      "Trainable params: 33,636\n",
      "Non-trainable params: 0\n",
      "_________________________________________________________________\n"
     ]
    }
   ],
   "source": [
    "model.summary()"
   ]
  },
  {
   "cell_type": "markdown",
   "metadata": {},
   "source": [
    "### 3. Evaluate model"
   ]
  },
  {
   "cell_type": "code",
   "execution_count": 7,
   "metadata": {},
   "outputs": [
    {
     "name": "stdout",
     "output_type": "stream",
     "text": [
      "     14/Unknown - 2s 152ms/step - loss: 0.1083 - accuracy: 0.9977"
     ]
    },
    {
     "data": {
      "text/plain": [
       "[0.10829956457018852, 0.9977169]"
      ]
     },
     "execution_count": 7,
     "metadata": {},
     "output_type": "execute_result"
    }
   ],
   "source": [
    "model.evaluate(train_ds)"
   ]
  },
  {
   "cell_type": "code",
   "execution_count": 8,
   "metadata": {},
   "outputs": [
    {
     "name": "stdout",
     "output_type": "stream",
     "text": [
      "      1/Unknown - 0s 85ms/step - loss: 0.4482 - accuracy: 0.8824"
     ]
    },
    {
     "data": {
      "text/plain": [
       "[0.448175311088562, 0.88235295]"
      ]
     },
     "execution_count": 8,
     "metadata": {},
     "output_type": "execute_result"
    }
   ],
   "source": [
    "model.evaluate(test_ds)"
   ]
  },
  {
   "cell_type": "code",
   "execution_count": 9,
   "metadata": {},
   "outputs": [
    {
     "name": "stdout",
     "output_type": "stream",
     "text": [
      "\n",
      "------- Training --------\n",
      "Confusion Matrix:\n",
      "[[324   0   0   0]\n",
      " [  0 215   0   1]\n",
      " [  0   0 155   1]\n",
      " [  0   0   0 180]]\n",
      "\n",
      "Accuracy: 0.9977\n",
      "Precision: 0.9973\n",
      "Recall: 0.9972\n",
      "F1 Score: 0.9972\n",
      "\n",
      "--------- Test ----------\n",
      "Confusion Matrix:\n",
      "[[12  0  0  0]\n",
      " [ 0  8  0  1]\n",
      " [ 0  1  3  2]\n",
      " [ 0  0  0  7]]\n",
      "\n",
      "Accuracy: 0.8824\n",
      "Precision: 0.8972\n",
      "Recall: 0.8472\n",
      "F1 Score: 0.8715\n"
     ]
    }
   ],
   "source": [
    "display_performance(model, train_ds, test_ds)"
   ]
  }
 ],
 "metadata": {
  "kernelspec": {
   "display_name": "Python 3",
   "language": "python",
   "name": "python3"
  },
  "language_info": {
   "codemirror_mode": {
    "name": "ipython",
    "version": 3
   },
   "file_extension": ".py",
   "mimetype": "text/x-python",
   "name": "python",
   "nbconvert_exporter": "python",
   "pygments_lexer": "ipython3",
   "version": "3.7.6"
  }
 },
 "nbformat": 4,
 "nbformat_minor": 4
}
