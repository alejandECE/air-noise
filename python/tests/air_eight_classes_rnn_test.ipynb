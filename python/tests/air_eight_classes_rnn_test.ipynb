{
 "cells": [
  {
   "cell_type": "markdown",
   "metadata": {},
   "source": [
    "###  Created by Luis A. Sanchez-Perez (alejand@umich.edu).\n",
    "<p><span style=\"color:green\"><b>Copyright &#169;</b> Do not distribute or use without authorization from author.</span></p>"
   ]
  },
  {
   "cell_type": "code",
   "execution_count": 1,
   "metadata": {},
   "outputs": [],
   "source": [
    "import tensorflow as tf\n",
    "import sys\n",
    "sys.path.append('../extraction/')\n",
    "from air_eight_classes_rnn import create_dataset"
   ]
  },
  {
   "cell_type": "markdown",
   "metadata": {},
   "source": [
    "### 1. Create dataset"
   ]
  },
  {
   "cell_type": "code",
   "execution_count": 2,
   "metadata": {},
   "outputs": [],
   "source": [
    "# Dataset location\n",
    "train_records = '../exports/2020-03-01 07-34-19/train.tfrecord'\n",
    "test_records = '../exports/2020-03-01 07-34-19/test.tfrecord'"
   ]
  },
  {
   "cell_type": "code",
   "execution_count": 3,
   "metadata": {},
   "outputs": [],
   "source": [
    "train_ds, test_ds = create_dataset(train_records, test_records)"
   ]
  },
  {
   "cell_type": "markdown",
   "metadata": {},
   "source": [
    "### 2. Load model"
   ]
  },
  {
   "cell_type": "code",
   "execution_count": 4,
   "metadata": {},
   "outputs": [],
   "source": [
    "model = tf.keras.models.load_model('trained_model/air_eight_classes_rnn/')"
   ]
  },
  {
   "cell_type": "code",
   "execution_count": 5,
   "metadata": {},
   "outputs": [
    {
     "name": "stdout",
     "output_type": "stream",
     "text": [
      "Model: \"model\"\n",
      "_________________________________________________________________\n",
      "Layer (type)                 Output Shape              Param #   \n",
      "=================================================================\n",
      "input_1 (InputLayer)         [(None, None, 128, 50, 1) 0         \n",
      "_________________________________________________________________\n",
      "Conv1 (TimeDistributed)      (None, None, 124, 46, 32) 832       \n",
      "_________________________________________________________________\n",
      "Pool1 (TimeDistributed)      (None, None, 41, 15, 32)  0         \n",
      "_________________________________________________________________\n",
      "dropout (Dropout)            (None, None, 41, 15, 32)  0         \n",
      "_________________________________________________________________\n",
      "Conv2 (TimeDistributed)      (None, None, 37, 11, 32)  25632     \n",
      "_________________________________________________________________\n",
      "Pool2 (TimeDistributed)      (None, None, 12, 3, 32)   0         \n",
      "_________________________________________________________________\n",
      "Flatten (TimeDistributed)    (None, None, 1152)        0         \n",
      "_________________________________________________________________\n",
      "dropout_1 (Dropout)          (None, None, 1152)        0         \n",
      "_________________________________________________________________\n",
      "Bidirectional (Bidirectional (None, None, 64)          303360    \n",
      "_________________________________________________________________\n",
      "global_max_pooling1d (Global (None, 64)                0         \n",
      "_________________________________________________________________\n",
      "Dense (Dense)                (None, 8)                 520       \n",
      "=================================================================\n",
      "Total params: 330,344\n",
      "Trainable params: 330,344\n",
      "Non-trainable params: 0\n",
      "_________________________________________________________________\n"
     ]
    }
   ],
   "source": [
    "model.summary()"
   ]
  },
  {
   "cell_type": "markdown",
   "metadata": {},
   "source": [
    "### 3. Evaluate model"
   ]
  },
  {
   "cell_type": "code",
   "execution_count": 6,
   "metadata": {},
   "outputs": [
    {
     "name": "stdout",
     "output_type": "stream",
     "text": [
      "     20/Unknown - 4s 211ms/step - loss: 0.7283 - accuracy: 0.9984"
     ]
    },
    {
     "data": {
      "text/plain": [
       "[0.7282972782850266, 0.9983974]"
      ]
     },
     "execution_count": 6,
     "metadata": {},
     "output_type": "execute_result"
    }
   ],
   "source": [
    "model.evaluate(train_ds)"
   ]
  },
  {
   "cell_type": "code",
   "execution_count": 7,
   "metadata": {},
   "outputs": [
    {
     "name": "stdout",
     "output_type": "stream",
     "text": [
      "      1/Unknown - 0s 428ms/step - loss: 1.1048 - accuracy: 0.8400"
     ]
    },
    {
     "data": {
      "text/plain": [
       "[1.1048309803009033, 0.84]"
      ]
     },
     "execution_count": 7,
     "metadata": {},
     "output_type": "execute_result"
    }
   ],
   "source": [
    "model.evaluate(test_ds)"
   ]
  },
  {
   "cell_type": "code",
   "execution_count": null,
   "metadata": {},
   "outputs": [],
   "source": []
  }
 ],
 "metadata": {
  "kernelspec": {
   "display_name": "Python 3",
   "language": "python",
   "name": "python3"
  },
  "language_info": {
   "codemirror_mode": {
    "name": "ipython",
    "version": 3
   },
   "file_extension": ".py",
   "mimetype": "text/x-python",
   "name": "python",
   "nbconvert_exporter": "python",
   "pygments_lexer": "ipython3",
   "version": "3.7.6"
  }
 },
 "nbformat": 4,
 "nbformat_minor": 4
}
