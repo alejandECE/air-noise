{
 "cells": [
  {
   "cell_type": "markdown",
   "metadata": {},
   "source": [
    "###  Created by Luis A. Sanchez-Perez (alejand@umich.edu).\n",
    "<p><span style=\"color:green\"><b>Copyright &#169;</b> Do not distribute or use without authorization from author.</span></p>"
   ]
  },
  {
   "cell_type": "code",
   "execution_count": 1,
   "metadata": {},
   "outputs": [],
   "source": [
    "import tensorflow as tf\n",
    "import pathlib\n",
    "import sys\n",
    "sys.path.append('../models/')\n",
    "sys.path.append('../extraction/')\n",
    "from air_multiclass_rnn import create_dataset\n",
    "from commons import get_classes_from_directory\n",
    "from utils import display_performance"
   ]
  },
  {
   "cell_type": "markdown",
   "metadata": {},
   "source": [
    "### 1. Create dataset"
   ]
  },
  {
   "cell_type": "code",
   "execution_count": 2,
   "metadata": {},
   "outputs": [],
   "source": [
    "# Data location\n",
    "folder = pathlib.Path('../exports/2020-03-01 07-34-19 (eight classes)/')"
   ]
  },
  {
   "cell_type": "code",
   "execution_count": 3,
   "metadata": {},
   "outputs": [
    {
     "data": {
      "text/plain": [
       "[b'A319-1xx (V25xx)',\n",
       " b'A320-2xx (CFM56-5)',\n",
       " b'A320-2xx (V25xx)',\n",
       " b'B737-7xx (CF56-7B22-)',\n",
       " b'B737-8xx (CF56-7B22+)',\n",
       " b'ERJ145 (AE3007)',\n",
       " b'ERJ170-175 (CF34-8E)',\n",
       " b'ERJ190 (CF34-10E)']"
      ]
     },
     "execution_count": 3,
     "metadata": {},
     "output_type": "execute_result"
    }
   ],
   "source": [
    "# Finding categories in the folder\n",
    "classes = get_classes_from_directory(folder)\n",
    "classes"
   ]
  },
  {
   "cell_type": "code",
   "execution_count": 4,
   "metadata": {},
   "outputs": [],
   "source": [
    "train_ds, test_ds = create_dataset(folder, classes)"
   ]
  },
  {
   "cell_type": "markdown",
   "metadata": {},
   "source": [
    "### 2. Load model"
   ]
  },
  {
   "cell_type": "code",
   "execution_count": 5,
   "metadata": {},
   "outputs": [
    {
     "name": "stdout",
     "output_type": "stream",
     "text": [
      "Model: \"model\"\n",
      "_________________________________________________________________\n",
      "Layer (type)                 Output Shape              Param #   \n",
      "=================================================================\n",
      "input_1 (InputLayer)         [(None, 128, 401, 1)]     0         \n",
      "_________________________________________________________________\n",
      "Sequencer (SpectrogamSequenc multiple                  0         \n",
      "_________________________________________________________________\n",
      "time_distributed (TimeDistri multiple                  832       \n",
      "_________________________________________________________________\n",
      "Relu1 (Activation)           multiple                  0         \n",
      "_________________________________________________________________\n",
      "time_distributed_1 (TimeDist multiple                  0         \n",
      "_________________________________________________________________\n",
      "time_distributed_2 (TimeDist multiple                  25632     \n",
      "_________________________________________________________________\n",
      "Relu2 (Activation)           multiple                  0         \n",
      "_________________________________________________________________\n",
      "time_distributed_3 (TimeDist multiple                  25632     \n",
      "_________________________________________________________________\n",
      "Relu3 (Activation)           multiple                  0         \n",
      "_________________________________________________________________\n",
      "time_distributed_4 (TimeDist multiple                  0         \n",
      "_________________________________________________________________\n",
      "time_distributed_5 (TimeDist multiple                  0         \n",
      "_________________________________________________________________\n",
      "dropout (Dropout)            multiple                  0         \n",
      "_________________________________________________________________\n",
      "LSTM1 (LSTM)                 multiple                  94336     \n",
      "_________________________________________________________________\n",
      "dropout_1 (Dropout)          multiple                  0         \n",
      "_________________________________________________________________\n",
      "Dense (Dense)                multiple                  264       \n",
      "=================================================================\n",
      "Total params: 146,696\n",
      "Trainable params: 146,696\n",
      "Non-trainable params: 0\n",
      "_________________________________________________________________\n"
     ]
    }
   ],
   "source": [
    "model = tf.keras.models.load_model(\n",
    "    str(folder / 'experiments/2020-07-02-14-17-00/' / 'trained_model/air_multiclass_rnn/')\n",
    ")\n",
    "model.summary()"
   ]
  },
  {
   "cell_type": "markdown",
   "metadata": {},
   "source": [
    "### 3. Evaluate model"
   ]
  },
  {
   "cell_type": "code",
   "execution_count": 6,
   "metadata": {
    "scrolled": false
   },
   "outputs": [
    {
     "name": "stdout",
     "output_type": "stream",
     "text": [
      "     20/Unknown - 4s 182ms/step - loss: 0.1768 - accuracy: 0.9912"
     ]
    },
    {
     "data": {
      "text/plain": [
       "[0.17683041617274284, 0.9911859]"
      ]
     },
     "execution_count": 6,
     "metadata": {},
     "output_type": "execute_result"
    }
   ],
   "source": [
    "model.evaluate(train_ds)"
   ]
  },
  {
   "cell_type": "code",
   "execution_count": 7,
   "metadata": {},
   "outputs": [
    {
     "name": "stdout",
     "output_type": "stream",
     "text": [
      "      1/Unknown - 1s 508ms/step - loss: 0.5467 - accuracy: 0.8600"
     ]
    },
    {
     "data": {
      "text/plain": [
       "[0.5467047691345215, 0.86]"
      ]
     },
     "execution_count": 7,
     "metadata": {},
     "output_type": "execute_result"
    }
   ],
   "source": [
    "model.evaluate(test_ds)"
   ]
  },
  {
   "cell_type": "code",
   "execution_count": 8,
   "metadata": {},
   "outputs": [
    {
     "name": "stdout",
     "output_type": "stream",
     "text": [
      "\n",
      "------- Training --------\n",
      "Confusion Matrix:\n",
      "[[ 84   0   0   0   0   0   0   0]\n",
      " [  0 324   0   0   0   0   0   0]\n",
      " [  0   0  83   0   0   1   0   0]\n",
      " [  0   0   0 215   1   0   0   0]\n",
      " [  0   0   0   0 156   0   0   0]\n",
      " [  0   0   0   0   7 137   0   0]\n",
      " [  0   0   0   0   0   0  60   0]\n",
      " [  0   0   0   0   1   1   0 178]]\n",
      "\n",
      "Accuracy: 0.9912\n",
      "Precision: 0.9914\n",
      "Recall: 0.9905\n",
      "F1 Score: 0.9909\n",
      "\n",
      "--------- Test ----------\n",
      "Confusion Matrix:\n",
      "[[ 2  0  0  0  0  1  0  0]\n",
      " [ 0 12  0  0  0  0  0  0]\n",
      " [ 0  0  4  0  0  0  0  0]\n",
      " [ 0  0  0  9  0  0  0  0]\n",
      " [ 0  0  0  2  4  0  0  0]\n",
      " [ 0  0  0  0  0  4  0  2]\n",
      " [ 0  0  0  0  1  0  1  1]\n",
      " [ 0  0  0  0  0  0  0  7]]\n",
      "\n",
      "Accuracy: 0.8600\n",
      "Precision: 0.8898\n",
      "Recall: 0.7917\n",
      "F1 Score: 0.8379\n"
     ]
    }
   ],
   "source": [
    "display_performance(model, train_ds, test_ds)"
   ]
  },
  {
   "cell_type": "markdown",
   "metadata": {},
   "source": [
    "### 2. Load model"
   ]
  },
  {
   "cell_type": "code",
   "execution_count": 9,
   "metadata": {},
   "outputs": [
    {
     "name": "stdout",
     "output_type": "stream",
     "text": [
      "Model: \"model\"\n",
      "_________________________________________________________________\n",
      "Layer (type)                 Output Shape              Param #   \n",
      "=================================================================\n",
      "input_1 (InputLayer)         [(None, 128, 401, 1)]     0         \n",
      "_________________________________________________________________\n",
      "Sequencer (SpectrogamSequenc multiple                  0         \n",
      "_________________________________________________________________\n",
      "time_distributed (TimeDistri multiple                  800       \n",
      "_________________________________________________________________\n",
      "BatchNorm1 (BatchNormalizati multiple                  60        \n",
      "_________________________________________________________________\n",
      "Relu1 (Activation)           multiple                  0         \n",
      "_________________________________________________________________\n",
      "time_distributed_1 (TimeDist multiple                  0         \n",
      "_________________________________________________________________\n",
      "time_distributed_2 (TimeDist multiple                  25600     \n",
      "_________________________________________________________________\n",
      "BatchNorm2 (BatchNormalizati multiple                  60        \n",
      "_________________________________________________________________\n",
      "Relu2 (Activation)           multiple                  0         \n",
      "_________________________________________________________________\n",
      "time_distributed_3 (TimeDist multiple                  25600     \n",
      "_________________________________________________________________\n",
      "BatchNorm3 (BatchNormalizati multiple                  60        \n",
      "_________________________________________________________________\n",
      "Relu3 (Activation)           multiple                  0         \n",
      "_________________________________________________________________\n",
      "time_distributed_4 (TimeDist multiple                  0         \n",
      "_________________________________________________________________\n",
      "time_distributed_5 (TimeDist multiple                  0         \n",
      "_________________________________________________________________\n",
      "dropout (Dropout)            multiple                  0         \n",
      "_________________________________________________________________\n",
      "LSTM1 (LSTM)                 multiple                  94336     \n",
      "_________________________________________________________________\n",
      "dropout_1 (Dropout)          multiple                  0         \n",
      "_________________________________________________________________\n",
      "Dense (Dense)                multiple                  264       \n",
      "=================================================================\n",
      "Total params: 146,780\n",
      "Trainable params: 146,690\n",
      "Non-trainable params: 90\n",
      "_________________________________________________________________\n"
     ]
    }
   ],
   "source": [
    "model = tf.keras.models.load_model(\n",
    "    str(folder / 'experiments/2020-07-02-14-24-54/' / 'trained_model/air_multiclass_rnn/')\n",
    ")\n",
    "model.summary()"
   ]
  },
  {
   "cell_type": "markdown",
   "metadata": {},
   "source": [
    "### 3. Evaluate model"
   ]
  },
  {
   "cell_type": "code",
   "execution_count": 10,
   "metadata": {},
   "outputs": [
    {
     "name": "stdout",
     "output_type": "stream",
     "text": [
      "     20/Unknown - 1s 64ms/step - loss: 0.1072 - accuracy: 1.0000"
     ]
    },
    {
     "data": {
      "text/plain": [
       "[0.10721815750002861, 1.0]"
      ]
     },
     "execution_count": 10,
     "metadata": {},
     "output_type": "execute_result"
    }
   ],
   "source": [
    "model.evaluate(train_ds)"
   ]
  },
  {
   "cell_type": "code",
   "execution_count": 11,
   "metadata": {},
   "outputs": [
    {
     "name": "stdout",
     "output_type": "stream",
     "text": [
      "      1/Unknown - 0s 85ms/step - loss: 0.5104 - accuracy: 0.8800"
     ]
    },
    {
     "data": {
      "text/plain": [
       "[0.5103955268859863, 0.88]"
      ]
     },
     "execution_count": 11,
     "metadata": {},
     "output_type": "execute_result"
    }
   ],
   "source": [
    "model.evaluate(test_ds)"
   ]
  },
  {
   "cell_type": "code",
   "execution_count": 12,
   "metadata": {},
   "outputs": [
    {
     "name": "stdout",
     "output_type": "stream",
     "text": [
      "\n",
      "------- Training --------\n",
      "Confusion Matrix:\n",
      "[[ 84   0   0   0   0   0   0   0]\n",
      " [  0 324   0   0   0   0   0   0]\n",
      " [  0   0  84   0   0   0   0   0]\n",
      " [  0   0   0 216   0   0   0   0]\n",
      " [  0   0   0   0 156   0   0   0]\n",
      " [  0   0   0   0   0 144   0   0]\n",
      " [  0   0   0   0   0   0  60   0]\n",
      " [  0   0   0   0   0   0   0 180]]\n",
      "\n",
      "Accuracy: 1.0000\n",
      "Precision: 1.0000\n",
      "Recall: 1.0000\n",
      "F1 Score: 1.0000\n",
      "\n",
      "--------- Test ----------\n",
      "Confusion Matrix:\n",
      "[[ 2  0  1  0  0  0  0  0]\n",
      " [ 0 12  0  0  0  0  0  0]\n",
      " [ 0  0  4  0  0  0  0  0]\n",
      " [ 0  0  0  9  0  0  0  0]\n",
      " [ 0  0  0  2  4  0  0  0]\n",
      " [ 0  0  0  0  0  4  0  2]\n",
      " [ 0  0  0  0  1  0  2  0]\n",
      " [ 0  0  0  0  0  0  0  7]]\n",
      "\n",
      "Accuracy: 0.8800\n",
      "Precision: 0.8995\n",
      "Recall: 0.8333\n",
      "F1 Score: 0.8652\n"
     ]
    }
   ],
   "source": [
    "display_performance(model, train_ds, test_ds)"
   ]
  },
  {
   "cell_type": "code",
   "execution_count": null,
   "metadata": {},
   "outputs": [],
   "source": []
  }
 ],
 "metadata": {
  "kernelspec": {
   "display_name": "Python 3",
   "language": "python",
   "name": "python3"
  },
  "language_info": {
   "codemirror_mode": {
    "name": "ipython",
    "version": 3
   },
   "file_extension": ".py",
   "mimetype": "text/x-python",
   "name": "python",
   "nbconvert_exporter": "python",
   "pygments_lexer": "ipython3",
   "version": "3.7.6"
  }
 },
 "nbformat": 4,
 "nbformat_minor": 4
}
