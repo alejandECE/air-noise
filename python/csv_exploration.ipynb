{
 "cells": [
  {
   "cell_type": "code",
   "execution_count": null,
   "metadata": {},
   "outputs": [],
   "source": [
    "import pandas as pd\n",
    "import numpy as np\n",
    "from aircraft_dataset import aircraft_dataset_split\n",
    "from aircraft_reports import display_random_subset\n",
    "from aircraft_reports import display_class_subset\n",
    "from sklearn.preprocessing import LabelEncoder"
   ]
  },
  {
   "cell_type": "code",
   "execution_count": null,
   "metadata": {},
   "outputs": [],
   "source": [
    "# Loading dataset\n",
    "dataset = pd.read_csv('exports/2019-10-15 21-19-35/segment_0.csv')\n",
    "features = len(dataset.columns) - 2\n",
    "predictors = dataset.iloc[:,:features].values\n",
    "responses = dataset.iloc[:,features].values\n",
    "measurements = dataset.iloc[:,features + 1].values\n",
    "categories = np.unique(responses)\n",
    "categories"
   ]
  },
  {
   "cell_type": "code",
   "execution_count": null,
   "metadata": {},
   "outputs": [],
   "source": [
    "# Splits into training and holdout sets\n",
    "X,y,X_holdout,y_holdout = aircraft_dataset_split(predictors,responses,measurements)"
   ]
  },
  {
   "cell_type": "code",
   "execution_count": null,
   "metadata": {},
   "outputs": [],
   "source": [
    "# Display random observations\n",
    "display_random_subset(X,y)"
   ]
  },
  {
   "cell_type": "code",
   "execution_count": null,
   "metadata": {},
   "outputs": [],
   "source": [
    "# Display random observations from a particular class\n",
    "display_class_subset(X,y,category='B737-8xx (CF56-7B22+)')"
   ]
  }
 ],
 "metadata": {
  "kernelspec": {
   "display_name": "Python [conda env:deep_learning_cpu]",
   "language": "python",
   "name": "conda-env-deep_learning_cpu-py"
  },
  "language_info": {
   "codemirror_mode": {
    "name": "ipython",
    "version": 3
   },
   "file_extension": ".py",
   "mimetype": "text/x-python",
   "name": "python",
   "nbconvert_exporter": "python",
   "pygments_lexer": "ipython3",
   "version": "3.6.9"
  }
 },
 "nbformat": 4,
 "nbformat_minor": 2
}
