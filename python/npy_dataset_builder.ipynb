{
 "cells": [
  {
   "cell_type": "markdown",
   "metadata": {},
   "source": [
    "###  Created by Luis Alejandro (alejand@umich.edu)\n",
    "\n",
    "Builds datasets by creating a npy file per observation. You can customize every class by merging any aircraft types together. You can select what feature extraction process to follow with many related digital signal processing options.\n",
    "\n",
    "**Install the following packages:**\n",
    "\n",
    "pip install npTDMS<br>\n",
    "pip install mysql-connector-python<br>"
   ]
  },
  {
   "cell_type": "code",
   "execution_count": null,
   "metadata": {
    "scrolled": true
   },
   "outputs": [],
   "source": [
    "import mysql.connector\n",
    "import pandas as pd\n",
    "from npy_dataset import AircraftFeaturesExtractor"
   ]
  },
  {
   "cell_type": "code",
   "execution_count": null,
   "metadata": {},
   "outputs": [],
   "source": [
    "# Connect to DB\n",
    "mydb = mysql.connector.connect(\n",
    "    host = \"localhost\",\n",
    "    user = \"root\",\n",
    "    passwd = \"cuba\",\n",
    "    database = \"airnoise\"\n",
    ")\n",
    "dbcursor = mydb.cursor()   "
   ]
  },
  {
   "cell_type": "markdown",
   "metadata": {},
   "source": [
    "### Initial exploration on the dataset\n",
    "Here we have a count of how many measurements we have per aircraft type. However each measurement contains 12 signals sampled simultaneously. To build your own dataset from here you must pick what indexes are in what class using a dictionary as shown below."
   ]
  },
  {
   "cell_type": "code",
   "execution_count": null,
   "metadata": {},
   "outputs": [],
   "source": [
    "sql = '''SELECT a.id_aircraft, a.identifier, COUNT(m.aircraft) AS observations, a.description\n",
    "FROM measurements m, aircrafts a WHERE a.id_aircraft = m.aircraft AND m.quality IN (1,2,3)\n",
    "GROUP BY m.aircraft ORDER BY observations;'''\n",
    "\n",
    "dbcursor.execute(sql)\n",
    "results = dbcursor.fetchall()\n",
    "df = pd.DataFrame(results,columns =['aircraft', 'identifier', 'observations','description'])\n",
    "df"
   ]
  },
  {
   "cell_type": "markdown",
   "metadata": {},
   "source": [
    "### We manually build the classes\n",
    "* Group aircrafts in different classes. You have the freedom of grouping more than one aircraft type together."
   ]
  },
  {
   "cell_type": "code",
   "execution_count": null,
   "metadata": {
    "scrolled": true
   },
   "outputs": [],
   "source": [
    "classes = {\n",
    "    'Airbus': [1,2,4],\n",
    "    'Boeing': [10,9]\n",
    "}\n",
    "builder = AircraftFeaturesExtractor(dbcursor, classes, 51200)\n",
    "result = builder.build()"
   ]
  },
  {
   "cell_type": "code",
   "execution_count": null,
   "metadata": {
    "scrolled": false
   },
   "outputs": [],
   "source": [
    "classes = {\n",
    "    'A320-2xx (CFM56-5)': [1],\n",
    "    'B737-7xx (CF56-7B22-)': [10],\n",
    "    'ERJ190 (CF34-10E)': [13],\n",
    "    'B737-8xx (CF56-7B22+)': [9],\n",
    "    'ERJ145 (AE3007)': [11],\n",
    "    'A320-2xx (V25xx)': [2],\n",
    "    'A319-1xx (V25xx)': [4],\n",
    "    'ERJ170/175 (CF34-8E)': [12]\n",
    "}\n",
    "builder = AircraftDatasetBuilder(dbcursor, classes, 51200)\n",
    "result = builder.build()"
   ]
  },
  {
   "cell_type": "code",
   "execution_count": null,
   "metadata": {
    "scrolled": false
   },
   "outputs": [],
   "source": [
    "classes = {\n",
    "    'A320-2xx (CFM56-5)': [1],\n",
    "    'B737-7xx (CF56-7B22-)': [10],\n",
    "    'ERJ190 (CF34-10E)': [13],\n",
    "    'B737-8xx (CF56-7B22+)': [9],\n",
    "}\n",
    "\n",
    "builder = AircraftDatasetBuilder(dbcursor, classes, 51200, segmentation='tmid')\n",
    "result = builder.build()"
   ]
  }
 ],
 "metadata": {
  "kernelspec": {
   "display_name": "Python 3",
   "language": "python",
   "name": "python3"
  },
  "language_info": {
   "codemirror_mode": {
    "name": "ipython",
    "version": 3
   },
   "file_extension": ".py",
   "mimetype": "text/x-python",
   "name": "python",
   "nbconvert_exporter": "python",
   "pygments_lexer": "ipython3",
   "version": "3.7.4"
  }
 },
 "nbformat": 4,
 "nbformat_minor": 2
}
