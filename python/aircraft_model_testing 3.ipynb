{
 "cells": [
  {
   "cell_type": "markdown",
   "metadata": {},
   "source": [
    "###  Created by Luis Alejandro (alejand@umich.edu)"
   ]
  },
  {
   "cell_type": "code",
   "execution_count": 1,
   "metadata": {},
   "outputs": [],
   "source": [
    "import os\n",
    "os.environ[\"TF_FORCE_GPU_ALLOW_GROWTH\"]=\"true\"\n",
    "import tensorflow as tf\n",
    "from tfrecord_dataset import feature_description\n",
    "from aircraft_models import AirBinaryRNN"
   ]
  },
  {
   "cell_type": "code",
   "execution_count": 2,
   "metadata": {},
   "outputs": [],
   "source": [
    "# Constants\n",
    "AUTOTUNE = tf.data.experimental.AUTOTUNE\n",
    "MFCC_SIZE = 128\n",
    "BUFFER_SIZE = 1000\n",
    "BATCH_SIZE = 64\n",
    "WINDOW_SIZE = 50"
   ]
  },
  {
   "cell_type": "code",
   "execution_count": 3,
   "metadata": {},
   "outputs": [],
   "source": [
    "# Dataset location\n",
    "train_file = 'exports/2020-02-03 11-55-25/train.tfrecord'\n",
    "test_file = 'exports/2020-02-03 11-55-25/test.tfrecord'"
   ]
  },
  {
   "cell_type": "code",
   "execution_count": 4,
   "metadata": {},
   "outputs": [],
   "source": [
    "# Parses observation from proto format\n",
    "def tf_parse_observation(example):\n",
    "    observation = tf.io.parse_single_example(example, feature_description)\n",
    "    mfcc = observation['mfcc']\n",
    "    samples = observation['samples']\n",
    "    observation['spec'] = tf.reshape(observation['spec'],(mfcc,samples))\n",
    "    return observation\n",
    "    \n",
    "# Converts into correct format for training (input,output) = (spec,label)\n",
    "def tf_transform_observation(data):\n",
    "    return tf.expand_dims(data['spec'],-1), data['label'] == b'Airbus'\n",
    "\n",
    "def tf_make_sequence(spec, label):\n",
    "    samples = tf.shape(spec)[1]\n",
    "    start = tf.range(0,samples - WINDOW_SIZE, int(WINDOW_SIZE/2))\n",
    "    end = tf.range(WINDOW_SIZE, samples, int(WINDOW_SIZE/2))\n",
    "    sequence = tf.map_fn(lambda index: spec[:,index[0]:index[1]],\n",
    "                         tf.stack([start, end], axis=1),\n",
    "                         back_prop=False,\n",
    "                         dtype=tf.float32)\n",
    "    return sequence,label"
   ]
  },
  {
   "cell_type": "code",
   "execution_count": 5,
   "metadata": {},
   "outputs": [],
   "source": [
    "# Creates training data pipeline\n",
    "train_dataset = tf.data.TFRecordDataset([train_file])\n",
    "train_dataset = train_dataset.map(tf_parse_observation,num_parallel_calls=AUTOTUNE)\n",
    "train_dataset = train_dataset.map(tf_transform_observation,num_parallel_calls=AUTOTUNE)\n",
    "train_dataset = train_dataset.map(tf_make_sequence, num_parallel_calls=AUTOTUNE).cache()\n",
    "train_dataset = train_dataset.shuffle(BUFFER_SIZE).batch(BATCH_SIZE).prefetch(1)"
   ]
  },
  {
   "cell_type": "code",
   "execution_count": 6,
   "metadata": {},
   "outputs": [],
   "source": [
    "# Creates test data pipeline\n",
    "test_dataset = tf.data.TFRecordDataset([test_file])\n",
    "test_dataset = test_dataset.map(tf_parse_observation,num_parallel_calls=AUTOTUNE)\n",
    "test_dataset = test_dataset.map(tf_transform_observation,num_parallel_calls=AUTOTUNE)\n",
    "test_dataset = test_dataset.map(tf_make_sequence, num_parallel_calls=AUTOTUNE).cache()\n",
    "test_dataset = test_dataset.shuffle(BUFFER_SIZE).batch(BATCH_SIZE).prefetch(1)"
   ]
  },
  {
   "cell_type": "code",
   "execution_count": 7,
   "metadata": {
    "scrolled": false
   },
   "outputs": [
    {
     "name": "stdout",
     "output_type": "stream",
     "text": [
      "Model: \"model\"\n",
      "_________________________________________________________________\n",
      "Layer (type)                 Output Shape              Param #   \n",
      "=================================================================\n",
      "input_1 (InputLayer)         [(None, None, 128, 50, 1) 0         \n",
      "_________________________________________________________________\n",
      "Conv1 (TimeDistributed)      (None, None, 124, 46, 32) 832       \n",
      "_________________________________________________________________\n",
      "Pool1 (TimeDistributed)      (None, None, 41, 15, 32)  0         \n",
      "_________________________________________________________________\n",
      "Conv2 (TimeDistributed)      (None, None, 37, 11, 32)  25632     \n",
      "_________________________________________________________________\n",
      "Pool2 (TimeDistributed)      (None, None, 12, 3, 32)   0         \n",
      "_________________________________________________________________\n",
      "Flatten (TimeDistributed)    (None, None, 1152)        0         \n",
      "_________________________________________________________________\n",
      "dropout (Dropout)            (None, None, 1152)        0         \n",
      "_________________________________________________________________\n",
      "lstm (LSTM)                  (None, 32)                151680    \n",
      "_________________________________________________________________\n",
      "dropout_1 (Dropout)          (None, 32)                0         \n",
      "_________________________________________________________________\n",
      "Dense (Dense)                (None, 1)                 33        \n",
      "=================================================================\n",
      "Total params: 178,177\n",
      "Trainable params: 178,177\n",
      "Non-trainable params: 0\n",
      "_________________________________________________________________\n"
     ]
    }
   ],
   "source": [
    "# Creates model\n",
    "builder = AirBinaryRNN()\n",
    "model = builder.build_model(input_shape=[None, MFCC_SIZE, WINDOW_SIZE, 1])\n",
    "model.summary()"
   ]
  },
  {
   "cell_type": "code",
   "execution_count": 8,
   "metadata": {
    "scrolled": false
   },
   "outputs": [
    {
     "name": "stdout",
     "output_type": "stream",
     "text": [
      "Epoch 1/20\n",
      "14/14 [==============================] - 8s 606ms/step - loss: 1.0788 - accuracy: 0.6532 - val_loss: 0.0000e+00 - val_accuracy: 0.0000e+00\n",
      "Epoch 2/20\n",
      "14/14 [==============================] - 2s 122ms/step - loss: 0.9026 - accuracy: 0.7759 - val_loss: 0.8561 - val_accuracy: 0.7812\n",
      "Epoch 3/20\n",
      "14/14 [==============================] - 2s 123ms/step - loss: 0.7518 - accuracy: 0.8243 - val_loss: 0.6405 - val_accuracy: 0.9375\n",
      "Epoch 4/20\n",
      "14/14 [==============================] - 2s 122ms/step - loss: 0.6646 - accuracy: 0.8694 - val_loss: 0.5618 - val_accuracy: 0.9375\n",
      "Epoch 5/20\n",
      "14/14 [==============================] - 2s 122ms/step - loss: 0.5790 - accuracy: 0.8986 - val_loss: 0.4582 - val_accuracy: 0.9688\n",
      "Epoch 6/20\n",
      "14/14 [==============================] - 2s 123ms/step - loss: 0.5116 - accuracy: 0.9155 - val_loss: 0.4141 - val_accuracy: 0.9688\n",
      "Epoch 7/20\n",
      "14/14 [==============================] - 2s 122ms/step - loss: 0.4386 - accuracy: 0.9471 - val_loss: 0.3535 - val_accuracy: 0.9688\n",
      "Epoch 8/20\n",
      "14/14 [==============================] - 2s 123ms/step - loss: 0.4272 - accuracy: 0.9336 - val_loss: 0.3452 - val_accuracy: 0.9688\n",
      "Epoch 9/20\n",
      "14/14 [==============================] - 2s 123ms/step - loss: 0.3809 - accuracy: 0.9493 - val_loss: 0.2990 - val_accuracy: 1.0000\n",
      "Epoch 10/20\n",
      "14/14 [==============================] - 2s 123ms/step - loss: 0.3397 - accuracy: 0.9572 - val_loss: 0.4188 - val_accuracy: 0.8750\n",
      "Epoch 11/20\n",
      "14/14 [==============================] - 2s 124ms/step - loss: 0.3022 - accuracy: 0.9685 - val_loss: 0.2756 - val_accuracy: 0.9688\n",
      "Epoch 12/20\n",
      "14/14 [==============================] - 2s 122ms/step - loss: 0.2735 - accuracy: 0.9786 - val_loss: 0.2319 - val_accuracy: 1.0000\n",
      "Epoch 13/20\n",
      "14/14 [==============================] - 2s 123ms/step - loss: 0.2815 - accuracy: 0.9718 - val_loss: 0.2485 - val_accuracy: 0.9688\n",
      "Epoch 14/20\n",
      "14/14 [==============================] - 2s 123ms/step - loss: 0.2640 - accuracy: 0.9685 - val_loss: 0.2458 - val_accuracy: 0.9688\n",
      "Epoch 15/20\n",
      "14/14 [==============================] - 2s 123ms/step - loss: 0.2273 - accuracy: 0.9842 - val_loss: 0.2973 - val_accuracy: 0.9375\n",
      "Epoch 16/20\n",
      "14/14 [==============================] - 2s 123ms/step - loss: 0.2443 - accuracy: 0.9730 - val_loss: 0.2289 - val_accuracy: 0.9688\n",
      "Epoch 17/20\n",
      "14/14 [==============================] - 2s 123ms/step - loss: 0.1961 - accuracy: 0.9932 - val_loss: 0.2347 - val_accuracy: 0.9688\n",
      "Epoch 18/20\n",
      "14/14 [==============================] - 2s 123ms/step - loss: 0.1935 - accuracy: 0.9910 - val_loss: 0.2663 - val_accuracy: 0.9688\n",
      "Epoch 19/20\n",
      "14/14 [==============================] - 2s 124ms/step - loss: 0.2275 - accuracy: 0.9741 - val_loss: 0.2373 - val_accuracy: 0.9688\n",
      "Epoch 20/20\n",
      "14/14 [==============================] - 2s 123ms/step - loss: 0.1782 - accuracy: 0.9966 - val_loss: 0.2396 - val_accuracy: 0.9688\n"
     ]
    },
    {
     "data": {
      "text/plain": [
       "<tensorflow.python.keras.callbacks.History at 0x286b73f1cc8>"
      ]
     },
     "execution_count": 8,
     "metadata": {},
     "output_type": "execute_result"
    }
   ],
   "source": [
    "# Training model\n",
    "model.compile(loss=tf.keras.losses.BinaryCrossentropy(),metrics=['accuracy'])\n",
    "model.fit(train_dataset, epochs=20, validation_data=test_dataset)"
   ]
  },
  {
   "cell_type": "code",
   "execution_count": null,
   "metadata": {},
   "outputs": [],
   "source": []
  }
 ],
 "metadata": {
  "kernelspec": {
   "display_name": "Python [conda env:tf2-gpu]",
   "language": "python",
   "name": "conda-env-tf2-gpu-py"
  },
  "language_info": {
   "codemirror_mode": {
    "name": "ipython",
    "version": 3
   },
   "file_extension": ".py",
   "mimetype": "text/x-python",
   "name": "python",
   "nbconvert_exporter": "python",
   "pygments_lexer": "ipython3",
   "version": "3.7.6"
  }
 },
 "nbformat": 4,
 "nbformat_minor": 4
}
