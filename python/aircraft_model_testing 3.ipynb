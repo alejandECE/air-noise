{
 "cells": [
  {
   "cell_type": "markdown",
   "metadata": {},
   "source": [
    "###  Created by Luis Alejandro (alejand@umich.edu)"
   ]
  },
  {
   "cell_type": "code",
   "execution_count": 1,
   "metadata": {},
   "outputs": [],
   "source": [
    "import os\n",
    "os.environ[\"TF_FORCE_GPU_ALLOW_GROWTH\"]=\"true\"\n",
    "import tensorflow as tf\n",
    "from tfrecord_dataset import feature_description\n",
    "from aircraft_models import AirBinaryRNN"
   ]
  },
  {
   "cell_type": "code",
   "execution_count": 2,
   "metadata": {},
   "outputs": [],
   "source": [
    "# Constants\n",
    "AUTOTUNE = tf.data.experimental.AUTOTUNE\n",
    "MFCC_SIZE = 128\n",
    "BUFFER_SIZE = 1000\n",
    "BATCH_SIZE = 64\n",
    "WINDOW_SIZE = 50"
   ]
  },
  {
   "cell_type": "code",
   "execution_count": 3,
   "metadata": {},
   "outputs": [],
   "source": [
    "# Dataset location\n",
    "train_file = 'exports/2020-02-07 01-09-35/train.tfrecord'\n",
    "test_file = 'exports/2020-02-07 01-09-35/test.tfrecord'"
   ]
  },
  {
   "cell_type": "code",
   "execution_count": 4,
   "metadata": {},
   "outputs": [],
   "source": [
    "# Parses observation from proto format\n",
    "def tf_parse_observation(example):\n",
    "    observation = tf.io.parse_single_example(example, feature_description)\n",
    "    mfcc = observation['mfcc']\n",
    "    samples = observation['samples']\n",
    "    observation['spec'] = tf.reshape(observation['spec'],(mfcc,samples))\n",
    "    return observation\n",
    "    \n",
    "# Converts into correct format for training (input,output) = (spec,label)\n",
    "def tf_transform_observation(data):\n",
    "    return tf.expand_dims(data['spec'],-1), data['label'] == b'Airbus'\n",
    "\n",
    "def tf_make_sequence(spec, label):\n",
    "    samples = tf.shape(spec)[1]\n",
    "    start = tf.range(0,samples - WINDOW_SIZE, int(WINDOW_SIZE/2))\n",
    "    end = tf.range(WINDOW_SIZE, samples, int(WINDOW_SIZE/2))\n",
    "    sequence = tf.map_fn(lambda index: spec[:,index[0]:index[1]],\n",
    "                         tf.stack([start, end], axis=1),\n",
    "                         back_prop=False,\n",
    "                         dtype=tf.float32)\n",
    "    return sequence,label"
   ]
  },
  {
   "cell_type": "code",
   "execution_count": 5,
   "metadata": {},
   "outputs": [],
   "source": [
    "# Creates training data pipeline\n",
    "train_dataset = tf.data.TFRecordDataset([train_file])\n",
    "train_dataset = train_dataset.map(tf_parse_observation,num_parallel_calls=AUTOTUNE)\n",
    "train_dataset = train_dataset.map(tf_transform_observation,num_parallel_calls=AUTOTUNE)\n",
    "train_dataset = train_dataset.map(tf_make_sequence, num_parallel_calls=AUTOTUNE).cache()\n",
    "train_dataset = train_dataset.shuffle(BUFFER_SIZE).batch(BATCH_SIZE).prefetch(1)"
   ]
  },
  {
   "cell_type": "code",
   "execution_count": 6,
   "metadata": {},
   "outputs": [],
   "source": [
    "# Creates test data pipeline\n",
    "test_dataset = tf.data.TFRecordDataset([test_file])\n",
    "test_dataset = test_dataset.map(tf_parse_observation,num_parallel_calls=AUTOTUNE)\n",
    "test_dataset = test_dataset.map(tf_transform_observation,num_parallel_calls=AUTOTUNE)\n",
    "test_dataset = test_dataset.map(tf_make_sequence, num_parallel_calls=AUTOTUNE).cache()\n",
    "test_dataset = test_dataset.shuffle(BUFFER_SIZE).batch(BATCH_SIZE).prefetch(1)"
   ]
  },
  {
   "cell_type": "code",
   "execution_count": 7,
   "metadata": {},
   "outputs": [
    {
     "name": "stdout",
     "output_type": "stream",
     "text": [
      "Model: \"model\"\n",
      "_________________________________________________________________\n",
      "Layer (type)                 Output Shape              Param #   \n",
      "=================================================================\n",
      "input_1 (InputLayer)         [(None, None, 128, 50, 1) 0         \n",
      "_________________________________________________________________\n",
      "Conv1 (TimeDistributed)      (None, None, 124, 46, 32) 832       \n",
      "_________________________________________________________________\n",
      "Pool1 (TimeDistributed)      (None, None, 41, 15, 32)  0         \n",
      "_________________________________________________________________\n",
      "Conv2 (TimeDistributed)      (None, None, 37, 11, 32)  25632     \n",
      "_________________________________________________________________\n",
      "Pool2 (TimeDistributed)      (None, None, 12, 3, 32)   0         \n",
      "_________________________________________________________________\n",
      "Flatten (TimeDistributed)    (None, None, 1152)        0         \n",
      "_________________________________________________________________\n",
      "lstm (LSTM)                  (None, 32)                151680    \n",
      "_________________________________________________________________\n",
      "Dense (Dense)                (None, 1)                 33        \n",
      "=================================================================\n",
      "Total params: 178,177\n",
      "Trainable params: 178,177\n",
      "Non-trainable params: 0\n",
      "_________________________________________________________________\n"
     ]
    }
   ],
   "source": [
    "# Creates model\n",
    "builder = AirBinaryRNN()\n",
    "model = builder.build_model(input_shape=[None, MFCC_SIZE, WINDOW_SIZE, 1])\n",
    "model.summary()"
   ]
  },
  {
   "cell_type": "code",
   "execution_count": 8,
   "metadata": {},
   "outputs": [
    {
     "name": "stdout",
     "output_type": "stream",
     "text": [
      "Epoch 1/5\n",
      "14/14 [==============================] - 8s 606ms/step - loss: 0.1162 - accuracy: 0.9772 - val_loss: 0.0000e+00 - val_accuracy: 0.0000e+00\n",
      "Epoch 2/5\n",
      "14/14 [==============================] - 2s 121ms/step - loss: 0.0044 - accuracy: 1.0000 - val_loss: 0.0030 - val_accuracy: 1.0000\n",
      "Epoch 3/5\n",
      "14/14 [==============================] - 2s 121ms/step - loss: 0.0025 - accuracy: 1.0000 - val_loss: 0.0020 - val_accuracy: 1.0000\n",
      "Epoch 4/5\n",
      "14/14 [==============================] - 2s 121ms/step - loss: 0.0017 - accuracy: 1.0000 - val_loss: 0.0014 - val_accuracy: 1.0000\n",
      "Epoch 5/5\n",
      "14/14 [==============================] - 2s 123ms/step - loss: 0.0012 - accuracy: 1.0000 - val_loss: 0.0010 - val_accuracy: 1.0000\n"
     ]
    },
    {
     "data": {
      "text/plain": [
       "<tensorflow.python.keras.callbacks.History at 0x1b66dc7bd88>"
      ]
     },
     "execution_count": 8,
     "metadata": {},
     "output_type": "execute_result"
    }
   ],
   "source": [
    "# Training model\n",
    "model.compile(loss=tf.keras.losses.BinaryCrossentropy(),metrics=['accuracy'])\n",
    "model.fit(train_dataset,epochs=5,validation_data=test_dataset)"
   ]
  },
  {
   "cell_type": "code",
   "execution_count": null,
   "metadata": {},
   "outputs": [],
   "source": []
  }
 ],
 "metadata": {
  "kernelspec": {
   "display_name": "Python [conda env:tf2-gpu]",
   "language": "python",
   "name": "conda-env-tf2-gpu-py"
  },
  "language_info": {
   "codemirror_mode": {
    "name": "ipython",
    "version": 3
   },
   "file_extension": ".py",
   "mimetype": "text/x-python",
   "name": "python",
   "nbconvert_exporter": "python",
   "pygments_lexer": "ipython3",
   "version": "3.7.6"
  }
 },
 "nbformat": 4,
 "nbformat_minor": 4
}
