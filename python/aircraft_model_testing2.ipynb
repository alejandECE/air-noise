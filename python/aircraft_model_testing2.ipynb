{
 "cells": [
  {
   "cell_type": "markdown",
   "metadata": {},
   "source": [
    "###  Created by Luis Alejandro (alejand@umich.edu)"
   ]
  },
  {
   "cell_type": "code",
   "execution_count": 1,
   "metadata": {},
   "outputs": [],
   "source": [
    "import os\n",
    "import tensorflow as tf\n",
    "from aircraft_models import AirMultinomialTemporalCNN\n",
    "from tfrecord_dataset import feature_description"
   ]
  },
  {
   "cell_type": "code",
   "execution_count": 2,
   "metadata": {},
   "outputs": [],
   "source": [
    "# Constants\n",
    "AUTOTUNE = tf.data.experimental.AUTOTUNE\n",
    "NUMBER_MFCC = 128"
   ]
  },
  {
   "cell_type": "code",
   "execution_count": 3,
   "metadata": {},
   "outputs": [],
   "source": [
    "# Dataset location\n",
    "train_file = 'exports/2020-02-07 01-09-35/train.tfrecord'\n",
    "test_file = 'exports/2020-02-07 01-09-35/test.tfrecord'"
   ]
  },
  {
   "cell_type": "code",
   "execution_count": 4,
   "metadata": {},
   "outputs": [],
   "source": [
    "# Parses observation from proto format\n",
    "def parse_observation(example):\n",
    "    observation = tf.io.parse_single_example(example, feature_description)\n",
    "    observation['spec'] = tf.reshape(observation['spec'],(NUMBER_MFCC,-1))\n",
    "    return observation\n",
    "    \n",
    "# Converts into correct format for training (input,output) = (spec,label)\n",
    "def transform_observation(data):\n",
    "    classes = [b'A320-2xx (CFM56-5)',b'B737-7xx (CF56-7B22-)',b'ERJ190 (CF34-10E)',b'B737-8xx (CF56-7B22+)']\n",
    "    output = 0\n",
    "    for i, label in enumerate(classes):\n",
    "        if data['label'] == label:\n",
    "            output = i\n",
    "    return tf.transpose(data['spec']), output"
   ]
  },
  {
   "cell_type": "code",
   "execution_count": 5,
   "metadata": {},
   "outputs": [],
   "source": [
    "# Creates training data pipeline\n",
    "train_dataset = tf.data.TFRecordDataset([train_file])\n",
    "train_dataset = train_dataset.map(parse_observation,num_parallel_calls=AUTOTUNE)\n",
    "observation = next(iter(train_dataset))\n",
    "_,time = observation['spec'].shape\n",
    "train_dataset = train_dataset.map(transform_observation,num_parallel_calls=AUTOTUNE).cache().batch(128).prefetch(1)"
   ]
  },
  {
   "cell_type": "code",
   "execution_count": 6,
   "metadata": {},
   "outputs": [],
   "source": [
    "# Creates test data pipeline\n",
    "test_dataset = tf.data.TFRecordDataset([test_file])\n",
    "test_dataset = test_dataset.map(parse_observation,num_parallel_calls=AUTOTUNE)\n",
    "test_dataset = test_dataset.map(transform_observation,num_parallel_calls=AUTOTUNE).cache().batch(128).prefetch(1)"
   ]
  },
  {
   "cell_type": "code",
   "execution_count": 7,
   "metadata": {},
   "outputs": [
    {
     "name": "stdout",
     "output_type": "stream",
     "text": [
      "Model: \"model\"\n",
      "_________________________________________________________________\n",
      "Layer (type)                 Output Shape              Param #   \n",
      "=================================================================\n",
      "input_1 (InputLayer)         [(None, 401, 128)]        0         \n",
      "_________________________________________________________________\n",
      "conv1d (Conv1D)              (None, 51, 16)            32784     \n",
      "_________________________________________________________________\n",
      "conv1d_1 (Conv1D)            (None, 51, 16)            784       \n",
      "_________________________________________________________________\n",
      "global_max_pooling1d (Global (None, 16)                0         \n",
      "_________________________________________________________________\n",
      "dense (Dense)                (None, 4)                 68        \n",
      "=================================================================\n",
      "Total params: 33,636\n",
      "Trainable params: 33,636\n",
      "Non-trainable params: 0\n",
      "_________________________________________________________________\n"
     ]
    }
   ],
   "source": [
    "# Building dataset and model\n",
    "builder = AirMultinomialTemporalCNN(categories=4)\n",
    "model = builder.build_model((time,NUMBER_MFCC))\n",
    "model.summary()"
   ]
  },
  {
   "cell_type": "code",
   "execution_count": 8,
   "metadata": {
    "scrolled": true
   },
   "outputs": [
    {
     "name": "stdout",
     "output_type": "stream",
     "text": [
      "Epoch 1/30\n",
      "7/7 [==============================] - 5s 666ms/step - loss: 2.8701 - accuracy: 0.2089 - val_loss: 0.0000e+00 - val_accuracy: 0.0000e+00\n",
      "Epoch 2/30\n",
      "7/7 [==============================] - 2s 272ms/step - loss: 2.1011 - accuracy: 0.3333 - val_loss: 1.8930 - val_accuracy: 0.3824\n",
      "Epoch 3/30\n",
      "7/7 [==============================] - 3s 390ms/step - loss: 1.8780 - accuracy: 0.4212 - val_loss: 1.8175 - val_accuracy: 0.5000\n",
      "Epoch 4/30\n",
      "7/7 [==============================] - 2s 260ms/step - loss: 1.7700 - accuracy: 0.4943 - val_loss: 1.7629 - val_accuracy: 0.4706\n",
      "Epoch 5/30\n",
      "7/7 [==============================] - 2s 258ms/step - loss: 1.6823 - accuracy: 0.5479 - val_loss: 1.7054 - val_accuracy: 0.4706\n",
      "Epoch 6/30\n",
      "7/7 [==============================] - 2s 254ms/step - loss: 1.5932 - accuracy: 0.5879 - val_loss: 1.6616 - val_accuracy: 0.5000\n",
      "Epoch 7/30\n",
      "7/7 [==============================] - 2s 254ms/step - loss: 1.5199 - accuracy: 0.6370 - val_loss: 1.6202 - val_accuracy: 0.4706\n",
      "Epoch 8/30\n",
      "7/7 [==============================] - 2s 252ms/step - loss: 1.4525 - accuracy: 0.6804 - val_loss: 1.5859 - val_accuracy: 0.5882\n",
      "Epoch 9/30\n",
      "7/7 [==============================] - 2s 248ms/step - loss: 1.3872 - accuracy: 0.7226 - val_loss: 1.5572 - val_accuracy: 0.5294\n",
      "Epoch 10/30\n",
      "7/7 [==============================] - 2s 240ms/step - loss: 1.3286 - accuracy: 0.7614 - val_loss: 1.4903 - val_accuracy: 0.5294\n",
      "Epoch 11/30\n",
      "7/7 [==============================] - 2s 234ms/step - loss: 1.2754 - accuracy: 0.7991 - val_loss: 1.5060 - val_accuracy: 0.5000\n",
      "Epoch 12/30\n",
      "7/7 [==============================] - 2s 251ms/step - loss: 1.2265 - accuracy: 0.8105 - val_loss: 1.4553 - val_accuracy: 0.5588\n",
      "Epoch 13/30\n",
      "7/7 [==============================] - 2s 245ms/step - loss: 1.1678 - accuracy: 0.8265 - val_loss: 1.3789 - val_accuracy: 0.6176\n",
      "Epoch 14/30\n",
      "7/7 [==============================] - 2s 247ms/step - loss: 1.1210 - accuracy: 0.8356 - val_loss: 1.4375 - val_accuracy: 0.5588\n",
      "Epoch 15/30\n",
      "7/7 [==============================] - 2s 248ms/step - loss: 1.0728 - accuracy: 0.8527 - val_loss: 1.3761 - val_accuracy: 0.5882\n",
      "Epoch 16/30\n",
      "7/7 [==============================] - 2s 235ms/step - loss: 1.0283 - accuracy: 0.8607 - val_loss: 1.3769 - val_accuracy: 0.5588\n",
      "Epoch 17/30\n",
      "7/7 [==============================] - 2s 244ms/step - loss: 0.9850 - accuracy: 0.8779 - val_loss: 1.3183 - val_accuracy: 0.5882\n",
      "Epoch 18/30\n",
      "7/7 [==============================] - 2s 239ms/step - loss: 0.9445 - accuracy: 0.8950 - val_loss: 1.2571 - val_accuracy: 0.5588\n",
      "Epoch 19/30\n",
      "7/7 [==============================] - 2s 273ms/step - loss: 0.9063 - accuracy: 0.9075 - val_loss: 1.1530 - val_accuracy: 0.7647\n",
      "Epoch 20/30\n",
      "7/7 [==============================] - 2s 268ms/step - loss: 0.8719 - accuracy: 0.9155 - val_loss: 1.1753 - val_accuracy: 0.6176\n",
      "Epoch 21/30\n",
      "7/7 [==============================] - 2s 250ms/step - loss: 0.8383 - accuracy: 0.9167 - val_loss: 1.0549 - val_accuracy: 0.7647\n",
      "Epoch 22/30\n",
      "7/7 [==============================] - 2s 292ms/step - loss: 0.8042 - accuracy: 0.9247 - val_loss: 1.0044 - val_accuracy: 0.7941\n",
      "Epoch 23/30\n",
      "7/7 [==============================] - 2s 296ms/step - loss: 0.7718 - accuracy: 0.9349 - val_loss: 1.0124 - val_accuracy: 0.8235\n",
      "Epoch 24/30\n",
      "7/7 [==============================] - 2s 302ms/step - loss: 0.7428 - accuracy: 0.9384 - val_loss: 0.9599 - val_accuracy: 0.8529\n",
      "Epoch 25/30\n",
      "7/7 [==============================] - 2s 242ms/step - loss: 0.7131 - accuracy: 0.9395 - val_loss: 0.9386 - val_accuracy: 0.8235\n",
      "Epoch 26/30\n",
      "7/7 [==============================] - 2s 298ms/step - loss: 0.6860 - accuracy: 0.9463 - val_loss: 0.9186 - val_accuracy: 0.7941\n",
      "Epoch 27/30\n",
      "7/7 [==============================] - 2s 286ms/step - loss: 0.6624 - accuracy: 0.9532 - val_loss: 1.0204 - val_accuracy: 0.7647\n",
      "Epoch 28/30\n",
      "7/7 [==============================] - 2s 294ms/step - loss: 0.6432 - accuracy: 0.9612 - val_loss: 0.8752 - val_accuracy: 0.8235\n",
      "Epoch 29/30\n",
      "7/7 [==============================] - 2s 297ms/step - loss: 0.6152 - accuracy: 0.9623 - val_loss: 0.8653 - val_accuracy: 0.8529\n",
      "Epoch 30/30\n",
      "7/7 [==============================] - 2s 306ms/step - loss: 0.5942 - accuracy: 0.9600 - val_loss: 0.8529 - val_accuracy: 0.8529\n"
     ]
    },
    {
     "data": {
      "text/plain": [
       "<tensorflow.python.keras.callbacks.History at 0x20fdbb3da88>"
      ]
     },
     "execution_count": 8,
     "metadata": {},
     "output_type": "execute_result"
    }
   ],
   "source": [
    "# Training model\n",
    "model.compile(loss=tf.keras.losses.SparseCategoricalCrossentropy(),metrics=['accuracy'])\n",
    "model.fit(train_dataset,epochs=30,validation_data=test_dataset)"
   ]
  }
 ],
 "metadata": {
  "kernelspec": {
   "display_name": "Python [conda env:tf2-cpu]",
   "language": "python",
   "name": "conda-env-tf2-cpu-py"
  },
  "language_info": {
   "codemirror_mode": {
    "name": "ipython",
    "version": 3
   },
   "file_extension": ".py",
   "mimetype": "text/x-python",
   "name": "python",
   "nbconvert_exporter": "python",
   "pygments_lexer": "ipython3",
   "version": "3.7.6"
  }
 },
 "nbformat": 4,
 "nbformat_minor": 4
}
