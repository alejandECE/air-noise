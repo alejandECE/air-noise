{
 "cells": [
  {
   "cell_type": "code",
   "execution_count": null,
   "metadata": {},
   "outputs": [],
   "source": [
    "import mysql.connector\n",
    "import pandas as pd"
   ]
  },
  {
   "cell_type": "code",
   "execution_count": null,
   "metadata": {},
   "outputs": [],
   "source": [
    "# Connect to DB\n",
    "mydb = mysql.connector.connect(\n",
    "    host = \"localhost\",\n",
    "    user = \"root\",\n",
    "    passwd = \"cuba\",\n",
    "    database = \"airnoise\"\n",
    ")\n",
    "dbcursor = mydb.cursor()   "
   ]
  },
  {
   "cell_type": "code",
   "execution_count": null,
   "metadata": {},
   "outputs": [],
   "source": [
    "sql = '''SELECT a.id_aircraft, a.identifier, COUNT(m.aircraft) AS observations, a.description\n",
    "FROM measurements m, aircrafts a WHERE a.id_aircraft = m.aircraft AND m.quality IN (1,2,3)\n",
    "GROUP BY m.aircraft ORDER BY observations;'''\n",
    "\n",
    "dbcursor.execute(sql)\n",
    "results = dbcursor.fetchall()\n",
    "df = pd.DataFrame(results,columns =['aircraft', 'identifier', 'observations','description'])\n",
    "df"
   ]
  },
  {
   "cell_type": "code",
   "execution_count": null,
   "metadata": {},
   "outputs": [],
   "source": [
    "sql = '''SELECT a.id_aircraft, a.identifier, COUNT(m.aircraft) AS observations, a.description\n",
    "FROM measurements m, aircrafts a WHERE a.id_aircraft = m.aircraft AND m.quality IN (1,2)\n",
    "GROUP BY m.aircraft ORDER BY observations;'''\n",
    "\n",
    "dbcursor.execute(sql)\n",
    "results = dbcursor.fetchall()\n",
    "df = pd.DataFrame(results,columns =['aircraft', 'identifier', 'observations','description'])\n",
    "df"
   ]
  },
  {
   "cell_type": "code",
   "execution_count": null,
   "metadata": {},
   "outputs": [],
   "source": []
  }
 ],
 "metadata": {
  "kernelspec": {
   "display_name": "Python 3",
   "language": "python",
   "name": "python3"
  },
  "language_info": {
   "codemirror_mode": {
    "name": "ipython",
    "version": 3
   },
   "file_extension": ".py",
   "mimetype": "text/x-python",
   "name": "python",
   "nbconvert_exporter": "python",
   "pygments_lexer": "ipython3",
   "version": "3.7.3"
  }
 },
 "nbformat": 4,
 "nbformat_minor": 2
}
