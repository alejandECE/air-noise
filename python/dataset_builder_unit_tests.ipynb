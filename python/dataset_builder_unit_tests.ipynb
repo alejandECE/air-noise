{
 "cells": [
  {
   "cell_type": "markdown",
   "metadata": {},
   "source": [
    "###  Created by Luis Alejandro (alejand@umich.edu)\n",
    "\n",
    "Verify proper dataset generation, splitting and k-fold generation."
   ]
  },
  {
   "cell_type": "code",
   "execution_count": 1,
   "metadata": {},
   "outputs": [],
   "source": [
    "import pandas as pd\n",
    "import numpy as np\n",
    "from aircraft_dataset import aircraft_dataset_split\n",
    "from aircraft_dataset import AircraftDatasetFoldIterator"
   ]
  },
  {
   "cell_type": "code",
   "execution_count": 2,
   "metadata": {},
   "outputs": [
    {
     "data": {
      "text/plain": [
       "array(['A320-2xx (CFM56-5)', 'B737-7xx (CF56-7B22-)',\n",
       "       'B737-8xx (CF56-7B22+)', 'ERJ190 (CF34-10E)'], dtype=object)"
      ]
     },
     "execution_count": 2,
     "metadata": {},
     "output_type": "execute_result"
    }
   ],
   "source": [
    "# Loading dataset\n",
    "dataset = pd.read_csv('exports/2020-01-31 16-02-04/segment_0.csv')\n",
    "features = len(dataset.columns) - 2\n",
    "predictors = dataset.iloc[:,:features].values\n",
    "responses = dataset.iloc[:,features].values\n",
    "measurements = dataset.iloc[:,features+1].values\n",
    "np.unique(responses)"
   ]
  },
  {
   "cell_type": "code",
   "execution_count": 3,
   "metadata": {},
   "outputs": [],
   "source": [
    "# Dataset split unit test\n",
    "X,y,X_holdout,y_holdout, indexes, holdout_indexes = aircraft_dataset_split(predictors,responses,measurements,\n",
    "                                                                           return_measurements = True)"
   ]
  },
  {
   "cell_type": "code",
   "execution_count": 4,
   "metadata": {},
   "outputs": [],
   "source": [
    "# Measurements properly distributed\n",
    "A = set(np.unique(indexes))\n",
    "B = set(np.unique(holdout_indexes))\n",
    "C = set(measurements)\n",
    "assert(len(B) == len(holdout_indexes))\n",
    "assert(A.intersection(B) == set())\n",
    "assert(A.union(B) == C)"
   ]
  },
  {
   "cell_type": "code",
   "execution_count": 5,
   "metadata": {},
   "outputs": [],
   "source": [
    "# All classes present in both datasets\n",
    "A = set(np.unique(y))\n",
    "B = set(np.unique(y_holdout))\n",
    "assert(A == B)"
   ]
  },
  {
   "cell_type": "code",
   "execution_count": 6,
   "metadata": {},
   "outputs": [],
   "source": [
    "# Number of correct measurements returned\n",
    "assert(predictors.shape[0] == (X.shape[0] + X_holdout.shape[0] * 12))"
   ]
  },
  {
   "cell_type": "code",
   "execution_count": 7,
   "metadata": {
    "scrolled": false
   },
   "outputs": [],
   "source": [
    "# Verifying every split of the k-fold validator\n",
    "iterator = AircraftDatasetFoldIterator(X,y,indexes,folds=5)\n",
    "iterator.build()\n",
    "for train_obs, test_obs in iterator:\n",
    "    A = set(np.unique(indexes[train_obs]))\n",
    "    B = set(np.unique(indexes[test_obs]))\n",
    "    C = set(indexes)\n",
    "    assert(len(B) == len(test_obs))\n",
    "    assert(A.intersection(B) == set())\n",
    "    assert(A.union(B) == C)"
   ]
  },
  {
   "cell_type": "code",
   "execution_count": null,
   "metadata": {},
   "outputs": [],
   "source": []
  }
 ],
 "metadata": {
  "kernelspec": {
   "display_name": "Python 3",
   "language": "python",
   "name": "python3"
  },
  "language_info": {
   "codemirror_mode": {
    "name": "ipython",
    "version": 3
   },
   "file_extension": ".py",
   "mimetype": "text/x-python",
   "name": "python",
   "nbconvert_exporter": "python",
   "pygments_lexer": "ipython3",
   "version": "3.7.4"
  }
 },
 "nbformat": 4,
 "nbformat_minor": 2
}
