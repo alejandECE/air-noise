{
 "cells": [
  {
   "cell_type": "markdown",
   "metadata": {},
   "source": [
    "###  Created by Luis Alejandro (alejand@umich.edu)\n",
    "\n",
    "Builds a dataset by creating a tfrecord file for training and one for testing. It makes sure all 12 sensor signals for one single measurement are added to the training set while just one of the 12 sensor signals is added to the test set. The latter prevents reporting over-optimistic results since the 12 sensor signals are very similar versions of each other. The former is a sort of augmentation available for training."
   ]
  },
  {
   "cell_type": "code",
   "execution_count": 1,
   "metadata": {},
   "outputs": [],
   "source": [
    "from tfrecord_dataset import AircraftRecordBuilder"
   ]
  },
  {
   "cell_type": "code",
   "execution_count": 2,
   "metadata": {},
   "outputs": [],
   "source": [
    "builder = AircraftRecordBuilder(path='exports/2020-02-07 01-09-35/')"
   ]
  },
  {
   "cell_type": "code",
   "execution_count": 3,
   "metadata": {},
   "outputs": [],
   "source": [
    "builder.build(test_pct=0.3)"
   ]
  },
  {
   "cell_type": "code",
   "execution_count": null,
   "metadata": {},
   "outputs": [],
   "source": []
  }
 ],
 "metadata": {
  "kernelspec": {
   "display_name": "Python [conda env:tf2-cpu]",
   "language": "python",
   "name": "conda-env-tf2-cpu-py"
  },
  "language_info": {
   "codemirror_mode": {
    "name": "ipython",
    "version": 3
   },
   "file_extension": ".py",
   "mimetype": "text/x-python",
   "name": "python",
   "nbconvert_exporter": "python",
   "pygments_lexer": "ipython3",
   "version": "3.7.6"
  }
 },
 "nbformat": 4,
 "nbformat_minor": 4
}
