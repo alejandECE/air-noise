{
 "cells": [
  {
   "cell_type": "code",
   "execution_count": null,
   "metadata": {
    "scrolled": true
   },
   "outputs": [],
   "source": [
    "import mysql.connector\n",
    "import pandas as pd\n",
    "from aircraft_dataset import AircraftDatasetBuilder"
   ]
  },
  {
   "cell_type": "code",
   "execution_count": null,
   "metadata": {},
   "outputs": [],
   "source": [
    "# Connect to DB\n",
    "mydb = mysql.connector.connect(\n",
    "    host = \"localhost\",\n",
    "    user = \"root\",\n",
    "    passwd = \"cuba\",\n",
    "    database = \"airnoise\"\n",
    ")\n",
    "dbcursor = mydb.cursor()   "
   ]
  },
  {
   "cell_type": "markdown",
   "metadata": {},
   "source": [
    "### Initial exploration on the dataset\n",
    "Here we have a count of how many measurements we have per aircraft type. However each measurement contains 12 signals sampled simultaneously."
   ]
  },
  {
   "cell_type": "code",
   "execution_count": null,
   "metadata": {},
   "outputs": [],
   "source": [
    "sql = '''SELECT a.id_aircraft, a.identifier, COUNT(m.aircraft) AS observations, a.description\n",
    "FROM measurements m, aircrafts a WHERE a.id_aircraft = m.aircraft AND m.quality IN (1,2,3)\n",
    "GROUP BY m.aircraft ORDER BY observations;'''\n",
    "\n",
    "dbcursor.execute(sql)\n",
    "results = dbcursor.fetchall()\n",
    "df = pd.DataFrame(results,columns =['aircraft', 'identifier', 'observations','description'])\n",
    "df"
   ]
  },
  {
   "cell_type": "markdown",
   "metadata": {},
   "source": [
    "### We manually build the classes\n",
    "Selects what signals go to the training set and which go to the test set. We have the following options:\n",
    "* Group aircrafts in different classes\n",
    "* Use only one signal from the twelve available per measurement in the test set (prevent over optimistic prediction). All signals per measurement are included if the measurement falls into the training set."
   ]
  },
  {
   "cell_type": "code",
   "execution_count": null,
   "metadata": {
    "scrolled": false
   },
   "outputs": [],
   "source": [
    "classes = {\n",
    "    'A320-2xx (CFM56-5)': [1],\n",
    "    'B737-7xx (CF56-7B22-)': [10],\n",
    "    'ERJ190 (CF34-10E)': [13],\n",
    "    'B737-8xx (CF56-7B22+)': [9],\n",
    "    'ERJ145 (AE3007)': [11],\n",
    "    'A320-2xx (V25xx)': [2],\n",
    "    'A319-1xx (V25xx)': [4],\n",
    "    'ERJ170/175 (CF34-8E)': [12]\n",
    "}\n",
    "\n",
    "classes = {\n",
    "    'A320-2xx (CFM56-5)': [1],\n",
    "    'B737-7xx (CF56-7B22-)': [10],\n",
    "    'ERJ190 (CF34-10E)': [13],\n",
    "    'B737-8xx (CF56-7B22+)': [9],\n",
    "}\n",
    "\n",
    "builder = AircraftDatasetBuilder(dbcursor, classes, 51200,segmentation='db_largest_merge')\n",
    "result = builder.build()\n",
    "builder.export_to_csv()"
   ]
  },
  {
   "cell_type": "code",
   "execution_count": null,
   "metadata": {},
   "outputs": [],
   "source": [
    "import matplotlib.pyplot as plt\n",
    "fig = plt.figure()"
   ]
  },
  {
   "cell_type": "code",
   "execution_count": null,
   "metadata": {},
   "outputs": [],
   "source": [
    "fig.axes"
   ]
  },
  {
   "cell_type": "code",
   "execution_count": null,
   "metadata": {},
   "outputs": [],
   "source": []
  }
 ],
 "metadata": {
  "kernelspec": {
   "display_name": "Python [conda env:deep_learning_cpu]",
   "language": "python",
   "name": "conda-env-deep_learning_cpu-py"
  },
  "language_info": {
   "codemirror_mode": {
    "name": "ipython",
    "version": 3
   },
   "file_extension": ".py",
   "mimetype": "text/x-python",
   "name": "python",
   "nbconvert_exporter": "python",
   "pygments_lexer": "ipython3",
   "version": "3.6.9"
  }
 },
 "nbformat": 4,
 "nbformat_minor": 2
}
