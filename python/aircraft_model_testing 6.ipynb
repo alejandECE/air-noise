{
 "cells": [
  {
   "cell_type": "markdown",
   "metadata": {},
   "source": [
    "###  Created by Luis Alejandro (alejand@umich.edu)"
   ]
  },
  {
   "cell_type": "code",
   "execution_count": 1,
   "metadata": {},
   "outputs": [],
   "source": [
    "import os\n",
    "os.environ[\"TF_FORCE_GPU_ALLOW_GROWTH\"]=\"true\"\n",
    "import tensorflow as tf\n",
    "from tfrecord_dataset import feature_description\n",
    "from aircraft_models import AirMultinomialRNN"
   ]
  },
  {
   "cell_type": "code",
   "execution_count": 2,
   "metadata": {},
   "outputs": [],
   "source": [
    "# Constants\n",
    "AUTOTUNE = tf.data.experimental.AUTOTUNE\n",
    "MFCC_SIZE = 128\n",
    "BUFFER_SIZE = 1000\n",
    "BATCH_SIZE = 64\n",
    "WINDOW_SIZE = 50"
   ]
  },
  {
   "cell_type": "code",
   "execution_count": 3,
   "metadata": {},
   "outputs": [],
   "source": [
    "# Dataset location\n",
    "train_file = 'exports/2020-03-01 07-34-19/train.tfrecord'\n",
    "test_file = 'exports/2020-03-01 07-34-19/test.tfrecord'"
   ]
  },
  {
   "cell_type": "code",
   "execution_count": 4,
   "metadata": {},
   "outputs": [],
   "source": [
    "# Parses observation from proto format\n",
    "def tf_parse_observation(example):\n",
    "    observation = tf.io.parse_single_example(example, feature_description)\n",
    "    mfcc = observation['mfcc']\n",
    "    samples = observation['samples']\n",
    "    observation['spec'] = tf.reshape(observation['spec'],(mfcc,samples))\n",
    "    return observation\n",
    "\n",
    "# Converts into correct format for training (input,output) = (spec,label)\n",
    "def tf_transform_observation(data):\n",
    "    classes = [b'A320-2xx (CFM56-5)', b'B737-7xx (CF56-7B22-)', b'ERJ190 (CF34-10E)', b'B737-8xx (CF56-7B22+)',\n",
    "               b'ERJ145 (AE3007)', b'A320-2xx (V25xx)', b'A319-1xx (V25xx)', b'ERJ170-175 (CF34-8E)']\n",
    "    output = 0\n",
    "    for i, label in enumerate(classes):\n",
    "        if data['label'] == label:\n",
    "            output = i\n",
    "    return tf.expand_dims(data['spec'],-1), output\n",
    "\n",
    "# Makes a sequence of spectrogram windows\n",
    "def tf_make_sequence(spec, label):\n",
    "    samples = tf.shape(spec)[1]\n",
    "    start = tf.range(0,samples - WINDOW_SIZE, int(WINDOW_SIZE/2))\n",
    "    end = tf.range(WINDOW_SIZE, samples, int(WINDOW_SIZE/2))\n",
    "    sequence = tf.map_fn(lambda index: spec[:,index[0]:index[1]],\n",
    "                         tf.stack([start, end], axis=1),\n",
    "                         back_prop=False,\n",
    "                         dtype=tf.float32)\n",
    "    return sequence, label"
   ]
  },
  {
   "cell_type": "code",
   "execution_count": 5,
   "metadata": {},
   "outputs": [],
   "source": [
    "# Creates training data pipeline\n",
    "train_dataset = tf.data.TFRecordDataset([train_file])\n",
    "train_dataset = train_dataset.map(tf_parse_observation,num_parallel_calls=AUTOTUNE)\n",
    "train_dataset = train_dataset.map(tf_transform_observation,num_parallel_calls=AUTOTUNE)\n",
    "train_dataset = train_dataset.map(tf_make_sequence, num_parallel_calls=AUTOTUNE).cache()\n",
    "train_dataset = train_dataset.shuffle(BUFFER_SIZE).batch(BATCH_SIZE).prefetch(1)"
   ]
  },
  {
   "cell_type": "code",
   "execution_count": 6,
   "metadata": {},
   "outputs": [],
   "source": [
    "# Creates test data pipeline\n",
    "test_dataset = tf.data.TFRecordDataset([test_file])\n",
    "test_dataset = test_dataset.map(tf_parse_observation,num_parallel_calls=AUTOTUNE)\n",
    "test_dataset = test_dataset.map(tf_transform_observation,num_parallel_calls=AUTOTUNE)\n",
    "test_dataset = test_dataset.map(tf_make_sequence, num_parallel_calls=AUTOTUNE).cache()\n",
    "test_dataset = test_dataset.shuffle(BUFFER_SIZE).batch(BATCH_SIZE).prefetch(1)"
   ]
  },
  {
   "cell_type": "code",
   "execution_count": 7,
   "metadata": {},
   "outputs": [
    {
     "name": "stdout",
     "output_type": "stream",
     "text": [
      "Model: \"model\"\n",
      "_________________________________________________________________\n",
      "Layer (type)                 Output Shape              Param #   \n",
      "=================================================================\n",
      "input_1 (InputLayer)         [(None, None, 128, 50, 1) 0         \n",
      "_________________________________________________________________\n",
      "Conv1 (TimeDistributed)      (None, None, 124, 46, 32) 832       \n",
      "_________________________________________________________________\n",
      "Pool1 (TimeDistributed)      (None, None, 41, 15, 32)  0         \n",
      "_________________________________________________________________\n",
      "Conv2 (TimeDistributed)      (None, None, 37, 11, 32)  25632     \n",
      "_________________________________________________________________\n",
      "Pool2 (TimeDistributed)      (None, None, 12, 3, 32)   0         \n",
      "_________________________________________________________________\n",
      "Flatten (TimeDistributed)    (None, None, 1152)        0         \n",
      "_________________________________________________________________\n",
      "dropout (Dropout)            (None, None, 1152)        0         \n",
      "_________________________________________________________________\n",
      "Bidirectional (Bidirectional (None, None, 64)          303360    \n",
      "_________________________________________________________________\n",
      "global_max_pooling1d (Global (None, 64)                0         \n",
      "_________________________________________________________________\n",
      "Dense (Dense)                (None, 8)                 520       \n",
      "=================================================================\n",
      "Total params: 330,344\n",
      "Trainable params: 330,344\n",
      "Non-trainable params: 0\n",
      "_________________________________________________________________\n"
     ]
    }
   ],
   "source": [
    "# Creates model\n",
    "builder = AirMultinomialRNN(categories=8, use_sequencer=False)\n",
    "model = builder.build_model(input_shape=[None, MFCC_SIZE, WINDOW_SIZE, 1])\n",
    "model.summary()"
   ]
  },
  {
   "cell_type": "code",
   "execution_count": 8,
   "metadata": {
    "scrolled": true
   },
   "outputs": [
    {
     "name": "stdout",
     "output_type": "stream",
     "text": [
      "Epoch 1/60\n",
      "20/20 [==============================] - 11s 549ms/step - loss: 4.3561 - accuracy: 0.3269 - val_loss: 0.0000e+00 - val_accuracy: 0.0000e+00\n",
      "Epoch 2/60\n",
      "20/20 [==============================] - 2s 121ms/step - loss: 3.5923 - accuracy: 0.4511 - val_loss: 3.2908 - val_accuracy: 0.4600\n",
      "Epoch 3/60\n",
      "20/20 [==============================] - 2s 120ms/step - loss: 3.0620 - accuracy: 0.5240 - val_loss: 2.8154 - val_accuracy: 0.5600\n",
      "Epoch 4/60\n",
      "20/20 [==============================] - 2s 120ms/step - loss: 2.6085 - accuracy: 0.5921 - val_loss: 2.5059 - val_accuracy: 0.6000\n",
      "Epoch 5/60\n",
      "20/20 [==============================] - 2s 120ms/step - loss: 2.2290 - accuracy: 0.6482 - val_loss: 2.2497 - val_accuracy: 0.4600\n",
      "Epoch 6/60\n",
      "20/20 [==============================] - 2s 121ms/step - loss: 1.9590 - accuracy: 0.6747 - val_loss: 1.9584 - val_accuracy: 0.5800\n",
      "Epoch 7/60\n",
      "20/20 [==============================] - 2s 121ms/step - loss: 1.7292 - accuracy: 0.7059 - val_loss: 1.6552 - val_accuracy: 0.6800\n",
      "Epoch 8/60\n",
      "20/20 [==============================] - 2s 120ms/step - loss: 1.5344 - accuracy: 0.7636 - val_loss: 1.5261 - val_accuracy: 0.7000\n",
      "Epoch 9/60\n",
      "20/20 [==============================] - 2s 122ms/step - loss: 1.3914 - accuracy: 0.7925 - val_loss: 1.4614 - val_accuracy: 0.7000\n",
      "Epoch 10/60\n",
      "20/20 [==============================] - 2s 121ms/step - loss: 1.2988 - accuracy: 0.8149 - val_loss: 1.3619 - val_accuracy: 0.7400\n",
      "Epoch 11/60\n",
      "20/20 [==============================] - 2s 120ms/step - loss: 1.2260 - accuracy: 0.8189 - val_loss: 1.2847 - val_accuracy: 0.7400\n",
      "Epoch 12/60\n",
      "20/20 [==============================] - 2s 122ms/step - loss: 1.1359 - accuracy: 0.8662 - val_loss: 1.3585 - val_accuracy: 0.6600\n",
      "Epoch 13/60\n",
      "20/20 [==============================] - 2s 121ms/step - loss: 1.1077 - accuracy: 0.8518 - val_loss: 1.3769 - val_accuracy: 0.6800\n",
      "Epoch 14/60\n",
      "20/20 [==============================] - 2s 121ms/step - loss: 1.0578 - accuracy: 0.8846 - val_loss: 1.2166 - val_accuracy: 0.7400\n",
      "Epoch 15/60\n",
      "20/20 [==============================] - 2s 121ms/step - loss: 1.0146 - accuracy: 0.8942 - val_loss: 1.2322 - val_accuracy: 0.7600\n",
      "Epoch 16/60\n",
      "20/20 [==============================] - 2s 121ms/step - loss: 0.9977 - accuracy: 0.9062 - val_loss: 1.2176 - val_accuracy: 0.7400\n",
      "Epoch 17/60\n",
      "20/20 [==============================] - 2s 122ms/step - loss: 0.9646 - accuracy: 0.9215 - val_loss: 1.2614 - val_accuracy: 0.7400\n",
      "Epoch 18/60\n",
      "20/20 [==============================] - 2s 121ms/step - loss: 0.9432 - accuracy: 0.9255 - val_loss: 1.2149 - val_accuracy: 0.7600\n",
      "Epoch 19/60\n",
      "20/20 [==============================] - 2s 121ms/step - loss: 0.9197 - accuracy: 0.9335 - val_loss: 1.2324 - val_accuracy: 0.7800\n",
      "Epoch 20/60\n",
      "20/20 [==============================] - 2s 121ms/step - loss: 0.9095 - accuracy: 0.9351 - val_loss: 1.1666 - val_accuracy: 0.7600\n",
      "Epoch 21/60\n",
      "20/20 [==============================] - 2s 121ms/step - loss: 0.8684 - accuracy: 0.9503 - val_loss: 1.1483 - val_accuracy: 0.8400\n",
      "Epoch 22/60\n",
      "20/20 [==============================] - 2s 120ms/step - loss: 0.8674 - accuracy: 0.9463 - val_loss: 1.1397 - val_accuracy: 0.7800\n",
      "Epoch 23/60\n",
      "20/20 [==============================] - 2s 121ms/step - loss: 0.8377 - accuracy: 0.9551 - val_loss: 1.1448 - val_accuracy: 0.7800\n",
      "Epoch 24/60\n",
      "20/20 [==============================] - 2s 121ms/step - loss: 0.8138 - accuracy: 0.9688 - val_loss: 1.1465 - val_accuracy: 0.8000\n",
      "Epoch 25/60\n",
      "20/20 [==============================] - 2s 122ms/step - loss: 0.8075 - accuracy: 0.9712 - val_loss: 1.1539 - val_accuracy: 0.7800\n",
      "Epoch 26/60\n",
      "20/20 [==============================] - 2s 121ms/step - loss: 0.7972 - accuracy: 0.9663 - val_loss: 1.1503 - val_accuracy: 0.7600\n",
      "Epoch 27/60\n",
      "20/20 [==============================] - 2s 123ms/step - loss: 0.7764 - accuracy: 0.9760 - val_loss: 1.1257 - val_accuracy: 0.8200\n",
      "Epoch 28/60\n",
      "20/20 [==============================] - 2s 122ms/step - loss: 0.7580 - accuracy: 0.9784 - val_loss: 1.0771 - val_accuracy: 0.8000\n",
      "Epoch 29/60\n",
      "20/20 [==============================] - 2s 123ms/step - loss: 0.7612 - accuracy: 0.9792 - val_loss: 1.0838 - val_accuracy: 0.8000\n",
      "Epoch 30/60\n",
      "20/20 [==============================] - 2s 122ms/step - loss: 0.7386 - accuracy: 0.9792 - val_loss: 1.0958 - val_accuracy: 0.7800\n",
      "Epoch 31/60\n",
      "20/20 [==============================] - 2s 123ms/step - loss: 0.7281 - accuracy: 0.9856 - val_loss: 1.1471 - val_accuracy: 0.7800\n",
      "Epoch 32/60\n",
      "20/20 [==============================] - 2s 123ms/step - loss: 0.7294 - accuracy: 0.9856 - val_loss: 1.0194 - val_accuracy: 0.8600\n",
      "Epoch 33/60\n",
      "20/20 [==============================] - 2s 122ms/step - loss: 0.7077 - accuracy: 0.9856 - val_loss: 1.0862 - val_accuracy: 0.8000\n",
      "Epoch 34/60\n",
      "20/20 [==============================] - 2s 121ms/step - loss: 0.6997 - accuracy: 0.9888 - val_loss: 1.0262 - val_accuracy: 0.8200\n",
      "Epoch 35/60\n",
      "20/20 [==============================] - 2s 121ms/step - loss: 0.6932 - accuracy: 0.9896 - val_loss: 1.0798 - val_accuracy: 0.8200\n",
      "Epoch 36/60\n",
      "20/20 [==============================] - 2s 122ms/step - loss: 0.6946 - accuracy: 0.9872 - val_loss: 1.1756 - val_accuracy: 0.7600\n",
      "Epoch 37/60\n",
      "20/20 [==============================] - 2s 121ms/step - loss: 0.6775 - accuracy: 0.9904 - val_loss: 1.0550 - val_accuracy: 0.8200\n",
      "Epoch 38/60\n",
      "20/20 [==============================] - 2s 121ms/step - loss: 0.6760 - accuracy: 0.9920 - val_loss: 1.1061 - val_accuracy: 0.8400\n",
      "Epoch 39/60\n",
      "20/20 [==============================] - 2s 122ms/step - loss: 0.6758 - accuracy: 0.9904 - val_loss: 0.9928 - val_accuracy: 0.8400\n",
      "Epoch 40/60\n",
      "20/20 [==============================] - 2s 121ms/step - loss: 0.6557 - accuracy: 0.9952 - val_loss: 1.0824 - val_accuracy: 0.8200\n",
      "Epoch 41/60\n",
      "20/20 [==============================] - 2s 121ms/step - loss: 0.6619 - accuracy: 0.9888 - val_loss: 1.0054 - val_accuracy: 0.8600\n",
      "Epoch 42/60\n",
      "20/20 [==============================] - 2s 121ms/step - loss: 0.6396 - accuracy: 0.9944 - val_loss: 1.0172 - val_accuracy: 0.8400\n",
      "Epoch 43/60\n",
      "20/20 [==============================] - 2s 122ms/step - loss: 0.6506 - accuracy: 0.9928 - val_loss: 1.0642 - val_accuracy: 0.8000\n",
      "Epoch 44/60\n",
      "20/20 [==============================] - 2s 121ms/step - loss: 0.6432 - accuracy: 0.9920 - val_loss: 1.0378 - val_accuracy: 0.8400\n",
      "Epoch 45/60\n",
      "20/20 [==============================] - 2s 121ms/step - loss: 0.6366 - accuracy: 0.9936 - val_loss: 1.0147 - val_accuracy: 0.8400\n",
      "Epoch 46/60\n",
      "20/20 [==============================] - 2s 122ms/step - loss: 0.6379 - accuracy: 0.9960 - val_loss: 1.0074 - val_accuracy: 0.8400\n",
      "Epoch 47/60\n",
      "20/20 [==============================] - 2s 123ms/step - loss: 0.6253 - accuracy: 0.9984 - val_loss: 0.9665 - val_accuracy: 0.8800\n",
      "Epoch 48/60\n",
      "20/20 [==============================] - 2s 121ms/step - loss: 0.6211 - accuracy: 0.9984 - val_loss: 1.0482 - val_accuracy: 0.8200\n",
      "Epoch 49/60\n",
      "20/20 [==============================] - 2s 121ms/step - loss: 0.6269 - accuracy: 0.9944 - val_loss: 1.0703 - val_accuracy: 0.8400\n",
      "Epoch 50/60\n",
      "20/20 [==============================] - 2s 121ms/step - loss: 0.6147 - accuracy: 0.9976 - val_loss: 1.0284 - val_accuracy: 0.8200\n",
      "Epoch 51/60\n",
      "20/20 [==============================] - 2s 122ms/step - loss: 0.6192 - accuracy: 0.9936 - val_loss: 1.0259 - val_accuracy: 0.8400\n",
      "Epoch 52/60\n",
      "20/20 [==============================] - 3s 131ms/step - loss: 0.6072 - accuracy: 0.9976 - val_loss: 0.9756 - val_accuracy: 0.8400\n",
      "Epoch 53/60\n",
      "20/20 [==============================] - 2s 123ms/step - loss: 0.6089 - accuracy: 0.9976 - val_loss: 0.9835 - val_accuracy: 0.8200\n",
      "Epoch 54/60\n",
      "20/20 [==============================] - 2s 123ms/step - loss: 0.6041 - accuracy: 0.9976 - val_loss: 1.0170 - val_accuracy: 0.8400\n",
      "Epoch 55/60\n",
      "20/20 [==============================] - 2s 122ms/step - loss: 0.5968 - accuracy: 0.9992 - val_loss: 0.9846 - val_accuracy: 0.8600\n",
      "Epoch 56/60\n",
      "20/20 [==============================] - 2s 121ms/step - loss: 0.6013 - accuracy: 0.9976 - val_loss: 1.0387 - val_accuracy: 0.8600\n",
      "Epoch 57/60\n",
      "20/20 [==============================] - 2s 121ms/step - loss: 0.5918 - accuracy: 0.9984 - val_loss: 0.9585 - val_accuracy: 0.8600\n",
      "Epoch 58/60\n",
      "20/20 [==============================] - 2s 121ms/step - loss: 0.5977 - accuracy: 0.9984 - val_loss: 1.0892 - val_accuracy: 0.8000\n"
     ]
    },
    {
     "name": "stdout",
     "output_type": "stream",
     "text": [
      "Epoch 59/60\n",
      "20/20 [==============================] - 2s 121ms/step - loss: 0.5924 - accuracy: 0.9976 - val_loss: 1.0147 - val_accuracy: 0.8400\n",
      "Epoch 60/60\n",
      "20/20 [==============================] - 2s 121ms/step - loss: 0.5927 - accuracy: 0.9976 - val_loss: 1.0204 - val_accuracy: 0.8000\n"
     ]
    },
    {
     "data": {
      "text/plain": [
       "<tensorflow.python.keras.callbacks.History at 0x1bb1b9217c8>"
      ]
     },
     "execution_count": 8,
     "metadata": {},
     "output_type": "execute_result"
    }
   ],
   "source": [
    "# Training model\n",
    "model.compile(loss=tf.keras.losses.SparseCategoricalCrossentropy(),metrics=['accuracy'])\n",
    "model.fit(train_dataset, epochs=60, validation_data=test_dataset)"
   ]
  },
  {
   "cell_type": "code",
   "execution_count": null,
   "metadata": {},
   "outputs": [],
   "source": []
  }
 ],
 "metadata": {
  "kernelspec": {
   "display_name": "Python [conda env:tf2-gpu]",
   "language": "python",
   "name": "conda-env-tf2-gpu-py"
  },
  "language_info": {
   "codemirror_mode": {
    "name": "ipython",
    "version": 3
   },
   "file_extension": ".py",
   "mimetype": "text/x-python",
   "name": "python",
   "nbconvert_exporter": "python",
   "pygments_lexer": "ipython3",
   "version": "3.7.6"
  }
 },
 "nbformat": 4,
 "nbformat_minor": 4
}
