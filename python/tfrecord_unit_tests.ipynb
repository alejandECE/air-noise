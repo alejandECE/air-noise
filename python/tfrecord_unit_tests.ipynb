{
 "cells": [
  {
   "cell_type": "markdown",
   "metadata": {},
   "source": [
    "###  Created by Luis Alejandro (alejand@umich.edu)\n",
    "\n",
    "Verifies the proper generation of tfrecord files for training and test using class `AircraftRecordBuilder`."
   ]
  },
  {
   "cell_type": "code",
   "execution_count": 1,
   "metadata": {},
   "outputs": [],
   "source": [
    "import numpy as np\n",
    "from tfrecord_dataset import AircraftRecordBuilder"
   ]
  },
  {
   "cell_type": "code",
   "execution_count": 2,
   "metadata": {},
   "outputs": [],
   "source": [
    "path = 'exports/2020-02-03 11-55-25'\n",
    "builder = AircraftRecordBuilder(path)"
   ]
  },
  {
   "cell_type": "code",
   "execution_count": 3,
   "metadata": {},
   "outputs": [],
   "source": [
    "train_set, test_set = builder.generate_sets(test_pct=0.4)"
   ]
  },
  {
   "cell_type": "code",
   "execution_count": 4,
   "metadata": {},
   "outputs": [],
   "source": [
    "# Dataset split unit test\n",
    "train_measurements = np.array([measurement for _,_,measurement,_,_ in train_set])\n",
    "test_measurements = np.array([measurement for _,_,measurement,_,_ in test_set])\n",
    "train_labels = np.array([label for _,label,_,_,_ in train_set])\n",
    "test_labels = np.array([label for _,label,_,_,_ in test_set])"
   ]
  },
  {
   "cell_type": "code",
   "execution_count": 5,
   "metadata": {},
   "outputs": [],
   "source": [
    "# Measurements properly distributed\n",
    "A = set(np.unique(train_measurements))\n",
    "B = set(np.unique(test_measurements))\n",
    "C = set([measurement for _,_,measurement,_,_ in builder.datafiles])\n",
    "assert(len(B) == len(test_measurements))\n",
    "assert(A.intersection(B) == set())\n",
    "assert(A.union(B) == C)"
   ]
  },
  {
   "cell_type": "code",
   "execution_count": 6,
   "metadata": {},
   "outputs": [],
   "source": [
    "# All classes present in both datasets\n",
    "A = set(np.unique(train_labels))\n",
    "B = set(np.unique(test_labels))\n",
    "assert(A == B)"
   ]
  },
  {
   "cell_type": "code",
   "execution_count": 7,
   "metadata": {},
   "outputs": [],
   "source": [
    "# Number of correct measurements returned\n",
    "assert(len(builder.datafiles) == (len(train_measurements) + len(test_measurements) * 12))"
   ]
  },
  {
   "cell_type": "code",
   "execution_count": null,
   "metadata": {},
   "outputs": [],
   "source": []
  }
 ],
 "metadata": {
  "kernelspec": {
   "display_name": "Python [conda env:tf2-cpu]",
   "language": "python",
   "name": "conda-env-tf2-cpu-py"
  },
  "language_info": {
   "codemirror_mode": {
    "name": "ipython",
    "version": 3
   },
   "file_extension": ".py",
   "mimetype": "text/x-python",
   "name": "python",
   "nbconvert_exporter": "python",
   "pygments_lexer": "ipython3",
   "version": "3.7.5"
  }
 },
 "nbformat": 4,
 "nbformat_minor": 2
}
