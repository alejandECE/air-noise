{
 "cells": [
  {
   "cell_type": "code",
   "execution_count": 1,
   "metadata": {},
   "outputs": [],
   "source": [
    "import os\n",
    "import tensorflow as tf\n",
    "from aircraft_models import AirBinaryTemporalCNN"
   ]
  },
  {
   "cell_type": "code",
   "execution_count": 2,
   "metadata": {},
   "outputs": [],
   "source": [
    "# Dataset location\n",
    "train_file = 'exports/2020-02-03 11-55-25/train.tfrecord'\n",
    "test_file = 'exports/2020-02-03 11-55-25/test.tfrecord'"
   ]
  },
  {
   "cell_type": "code",
   "execution_count": 3,
   "metadata": {},
   "outputs": [
    {
     "name": "stdout",
     "output_type": "stream",
     "text": [
      "Model: \"model\"\n",
      "_________________________________________________________________\n",
      "Layer (type)                 Output Shape              Param #   \n",
      "=================================================================\n",
      "input_1 (InputLayer)         [(None, None, 128)]       0         \n",
      "_________________________________________________________________\n",
      "conv1d (Conv1D)              (None, None, 16)          32784     \n",
      "_________________________________________________________________\n",
      "conv1d_1 (Conv1D)            (None, None, 16)          784       \n",
      "_________________________________________________________________\n",
      "global_max_pooling1d (Global (None, 16)                0         \n",
      "_________________________________________________________________\n",
      "dense (Dense)                (None, 1)                 17        \n",
      "=================================================================\n",
      "Total params: 33,585\n",
      "Trainable params: 33,585\n",
      "Non-trainable params: 0\n",
      "_________________________________________________________________\n"
     ]
    }
   ],
   "source": [
    "# Building dataset and model\n",
    "builder = AirBinaryTemporalCNN()\n",
    "train_dataset, test_dataset = builder.build_datasets((train_file,test_file))\n",
    "model = builder.build_model()\n",
    "model.summary()"
   ]
  },
  {
   "cell_type": "code",
   "execution_count": 4,
   "metadata": {},
   "outputs": [
    {
     "name": "stdout",
     "output_type": "stream",
     "text": [
      "Epoch 1/30\n",
      "7/7 [==============================] - 3s 384ms/step - loss: 0.9527 - accuracy: 0.5822 - val_loss: 0.0000e+00 - val_accuracy: 0.0000e+00\n",
      "Epoch 2/30\n",
      "7/7 [==============================] - 2s 240ms/step - loss: 0.7369 - accuracy: 0.7230 - val_loss: 1.0500 - val_accuracy: 0.6875\n",
      "Epoch 3/30\n",
      "7/7 [==============================] - 1s 209ms/step - loss: 0.6600 - accuracy: 0.7984 - val_loss: 0.9953 - val_accuracy: 0.6562\n",
      "Epoch 4/30\n",
      "7/7 [==============================] - 1s 214ms/step - loss: 0.5922 - accuracy: 0.8671 - val_loss: 0.9978 - val_accuracy: 0.6562\n",
      "Epoch 5/30\n",
      "7/7 [==============================] - 1s 214ms/step - loss: 0.5523 - accuracy: 0.9065 - val_loss: 1.0180 - val_accuracy: 0.6562\n",
      "Epoch 6/30\n",
      "7/7 [==============================] - 1s 212ms/step - loss: 0.5156 - accuracy: 0.9358 - val_loss: 1.0467 - val_accuracy: 0.6562\n",
      "Epoch 7/30\n",
      "7/7 [==============================] - 2s 220ms/step - loss: 0.4813 - accuracy: 0.9561 - val_loss: 1.0470 - val_accuracy: 0.6875\n",
      "Epoch 8/30\n",
      "7/7 [==============================] - 2s 226ms/step - loss: 0.4508 - accuracy: 0.9628 - val_loss: 1.0737 - val_accuracy: 0.6875\n",
      "Epoch 9/30\n",
      "7/7 [==============================] - 2s 221ms/step - loss: 0.4236 - accuracy: 0.9718 - val_loss: 1.0358 - val_accuracy: 0.7500\n",
      "Epoch 10/30\n",
      "7/7 [==============================] - 2s 220ms/step - loss: 0.3958 - accuracy: 0.9820 - val_loss: 0.9842 - val_accuracy: 0.7500\n",
      "Epoch 11/30\n",
      "7/7 [==============================] - 2s 284ms/step - loss: 0.3736 - accuracy: 0.9854 - val_loss: 1.0680 - val_accuracy: 0.7500\n",
      "Epoch 12/30\n",
      "7/7 [==============================] - 2s 240ms/step - loss: 0.3514 - accuracy: 0.9887 - val_loss: 1.1807 - val_accuracy: 0.8125\n",
      "Epoch 13/30\n",
      "7/7 [==============================] - 2s 251ms/step - loss: 0.3373 - accuracy: 0.9865 - val_loss: 1.1048 - val_accuracy: 0.8125\n",
      "Epoch 14/30\n",
      "7/7 [==============================] - 2s 240ms/step - loss: 0.3093 - accuracy: 0.9876 - val_loss: 1.1939 - val_accuracy: 0.8125\n",
      "Epoch 15/30\n",
      "7/7 [==============================] - 2s 224ms/step - loss: 0.3195 - accuracy: 0.9820 - val_loss: 0.9755 - val_accuracy: 0.8125\n",
      "Epoch 16/30\n",
      "7/7 [==============================] - 2s 217ms/step - loss: 0.2819 - accuracy: 0.9876 - val_loss: 1.0841 - val_accuracy: 0.8438\n",
      "Epoch 17/30\n",
      "7/7 [==============================] - 2s 218ms/step - loss: 0.2691 - accuracy: 0.9887 - val_loss: 1.1259 - val_accuracy: 0.8438\n",
      "Epoch 18/30\n",
      "7/7 [==============================] - 1s 213ms/step - loss: 0.2682 - accuracy: 0.9876 - val_loss: 1.0663 - val_accuracy: 0.8125\n",
      "Epoch 19/30\n",
      "7/7 [==============================] - 2s 227ms/step - loss: 0.2480 - accuracy: 0.9876 - val_loss: 1.4956 - val_accuracy: 0.7812\n",
      "Epoch 20/30\n",
      "7/7 [==============================] - 2s 221ms/step - loss: 0.2737 - accuracy: 0.9775 - val_loss: 0.8960 - val_accuracy: 0.8750\n",
      "Epoch 21/30\n",
      "7/7 [==============================] - 2s 218ms/step - loss: 0.2343 - accuracy: 0.9876 - val_loss: 1.0547 - val_accuracy: 0.8438\n",
      "Epoch 22/30\n",
      "7/7 [==============================] - 2s 217ms/step - loss: 0.2264 - accuracy: 0.9887 - val_loss: 1.1751 - val_accuracy: 0.8438\n",
      "Epoch 23/30\n",
      "7/7 [==============================] - 1s 212ms/step - loss: 0.2186 - accuracy: 0.9887 - val_loss: 1.2881 - val_accuracy: 0.8438\n",
      "Epoch 24/30\n",
      "7/7 [==============================] - 1s 212ms/step - loss: 0.2131 - accuracy: 0.9887 - val_loss: 1.1826 - val_accuracy: 0.8438\n",
      "Epoch 25/30\n",
      "7/7 [==============================] - 1s 208ms/step - loss: 0.2019 - accuracy: 0.9887 - val_loss: 1.2512 - val_accuracy: 0.8438\n",
      "Epoch 26/30\n",
      "7/7 [==============================] - 2s 220ms/step - loss: 0.2225 - accuracy: 0.9809 - val_loss: 0.8210 - val_accuracy: 0.9062\n",
      "Epoch 27/30\n",
      "7/7 [==============================] - 1s 210ms/step - loss: 0.1921 - accuracy: 0.9887 - val_loss: 1.0300 - val_accuracy: 0.8750\n",
      "Epoch 28/30\n",
      "7/7 [==============================] - 2s 221ms/step - loss: 0.1874 - accuracy: 0.9887 - val_loss: 1.1589 - val_accuracy: 0.8438\n",
      "Epoch 29/30\n",
      "7/7 [==============================] - 2s 278ms/step - loss: 0.1820 - accuracy: 0.9887 - val_loss: 1.2959 - val_accuracy: 0.8438\n",
      "Epoch 30/30\n",
      "7/7 [==============================] - 2s 219ms/step - loss: 0.1768 - accuracy: 0.9887 - val_loss: 1.4578 - val_accuracy: 0.8125\n"
     ]
    },
    {
     "data": {
      "text/plain": [
       "<tensorflow.python.keras.callbacks.History at 0x19a3de70508>"
      ]
     },
     "execution_count": 4,
     "metadata": {},
     "output_type": "execute_result"
    }
   ],
   "source": [
    "# Training model\n",
    "model.compile(loss=tf.keras.losses.BinaryCrossentropy(),metrics=['accuracy'])\n",
    "model.fit(train_dataset,epochs=30,validation_data=test_dataset)"
   ]
  },
  {
   "cell_type": "code",
   "execution_count": 5,
   "metadata": {},
   "outputs": [],
   "source": [
    "\n",
    "root,_ = os.path.split(train_file)\n",
    "model.save(os.path.join(root,'model.h5'))"
   ]
  },
  {
   "cell_type": "code",
   "execution_count": null,
   "metadata": {
    "scrolled": true
   },
   "outputs": [],
   "source": []
  }
 ],
 "metadata": {
  "kernelspec": {
   "display_name": "Python [conda env:tf2-cpu]",
   "language": "python",
   "name": "conda-env-tf2-cpu-py"
  },
  "language_info": {
   "codemirror_mode": {
    "name": "ipython",
    "version": 3
   },
   "file_extension": ".py",
   "mimetype": "text/x-python",
   "name": "python",
   "nbconvert_exporter": "python",
   "pygments_lexer": "ipython3",
   "version": "3.7.6"
  }
 },
 "nbformat": 4,
 "nbformat_minor": 4
}
