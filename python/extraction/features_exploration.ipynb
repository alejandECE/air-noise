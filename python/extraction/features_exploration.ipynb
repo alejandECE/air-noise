{
 "cells": [
  {
   "cell_type": "markdown",
   "metadata": {},
   "source": [
    "###  Created by Luis Alejandro (alejand@umich.edu)\n",
    "\n",
    "Simple exploration of extraction techniques and some brief comparison\n",
    "\n",
    "**Install the following packages:**\n",
    "\n",
    "pip install npTDMS<br>\n",
    "pip install mysql-connector-python<br>\n",
    "pip install librosa"
   ]
  },
  {
   "cell_type": "code",
   "execution_count": 1,
   "metadata": {},
   "outputs": [
    {
     "name": "stderr",
     "output_type": "stream",
     "text": [
      "D:\\Anaconda3\\lib\\site-packages\\librosa\\util\\decorators.py:9: NumbaDeprecationWarning: \u001B[1mAn import was requested from a module that has moved location.\n",
      "Import requested from: 'numba.decorators', please update to use 'numba.core.decorators' or pin to Numba version 0.48.0. This alias will not be present in Numba version 0.50.0.\u001B[0m\n",
      "  from numba.decorators import jit as optional_jit\n",
      "D:\\Anaconda3\\lib\\site-packages\\librosa\\util\\decorators.py:9: NumbaDeprecationWarning: \u001B[1mAn import was requested from a module that has moved location.\n",
      "Import of 'jit' requested from: 'numba.decorators', please update to use 'numba.core.decorators' or pin to Numba version 0.48.0. This alias will not be present in Numba version 0.50.0.\u001B[0m\n",
      "  from numba.decorators import jit as optional_jit\n"
     ]
    }
   ],
   "source": [
    "import nptdms\n",
    "import librosa\n",
    "import librosa.display\n",
    "import numpy as np\n",
    "import mysql.connector\n",
    "import matplotlib.pyplot as plt\n",
    "from scipy.signal import decimate"
   ]
  },
  {
   "cell_type": "code",
   "execution_count": 2,
   "metadata": {},
   "outputs": [],
   "source": [
    "def preprocess(data,fs,factor=6):\n",
    "    data = decimate(data,factor)\n",
    "    fs = int(fs/factor)\n",
    "    return data,fs\n",
    "\n",
    "def get_spectrogram(data,fs,n_fft=1024,hop_length=512,n_mels=128):\n",
    "    data,fs = preprocess(data,fs,factor=6)\n",
    "    spec = librosa.feature.melspectrogram(np.asfortranarray(data),sr=fs,n_fft=n_fft,hop_length=hop_length,n_mels=n_mels)\n",
    "    spec = librosa.power_to_db(spec)\n",
    "    return spec"
   ]
  },
  {
   "cell_type": "code",
   "execution_count": 3,
   "metadata": {},
   "outputs": [
    {
     "name": "stdout",
     "output_type": "stream",
     "text": [
      "<mysql.connector.connection_cext.CMySQLConnection object at 0x000001AF23B17AC8>\n"
     ]
    }
   ],
   "source": [
    "# Connect to DB\n",
    "mydb = mysql.connector.connect(\n",
    "    host = \"localhost\",\n",
    "    user = \"root\",\n",
    "    passwd = \"cuba\",\n",
    "    database = \"airnoise\"\n",
    ")\n",
    "print(mydb)"
   ]
  },
  {
   "cell_type": "code",
   "execution_count": 4,
   "metadata": {},
   "outputs": [
    {
     "ename": "FileNotFoundError",
     "evalue": "[Errno 2] No such file or directory: '../../datasets/classification/noise/2013-09-13\\\\1.tdms'",
     "output_type": "error",
     "traceback": [
      "\u001B[1;31m---------------------------------------------------------------------------\u001B[0m",
      "\u001B[1;31mFileNotFoundError\u001B[0m                         Traceback (most recent call last)",
      "\u001B[1;32m<ipython-input-4-a6b99ac98826>\u001B[0m in \u001B[0;36m<module>\u001B[1;34m\u001B[0m\n\u001B[0;32m     11\u001B[0m \u001B[0murl\u001B[0m \u001B[1;33m=\u001B[0m \u001B[0mresult\u001B[0m\u001B[1;33m[\u001B[0m\u001B[1;36m0\u001B[0m\u001B[1;33m]\u001B[0m\u001B[1;33m[\u001B[0m\u001B[1;36m0\u001B[0m\u001B[1;33m]\u001B[0m\u001B[1;33m\u001B[0m\u001B[1;33m\u001B[0m\u001B[0m\n\u001B[0;32m     12\u001B[0m \u001B[0mtmid\u001B[0m \u001B[1;33m=\u001B[0m \u001B[0mresult\u001B[0m\u001B[1;33m[\u001B[0m\u001B[1;36m0\u001B[0m\u001B[1;33m]\u001B[0m\u001B[1;33m[\u001B[0m\u001B[1;36m1\u001B[0m\u001B[1;33m]\u001B[0m\u001B[1;33m\u001B[0m\u001B[1;33m\u001B[0m\u001B[0m\n\u001B[1;32m---> 13\u001B[1;33m \u001B[0mtdms\u001B[0m \u001B[1;33m=\u001B[0m \u001B[0mnptdms\u001B[0m\u001B[1;33m.\u001B[0m\u001B[0mTdmsFile\u001B[0m\u001B[1;33m(\u001B[0m\u001B[1;34m\"../../datasets/classification/noise/\"\u001B[0m \u001B[1;33m+\u001B[0m \u001B[0murl\u001B[0m\u001B[1;33m)\u001B[0m\u001B[1;33m\u001B[0m\u001B[1;33m\u001B[0m\u001B[0m\n\u001B[0m\u001B[0;32m     14\u001B[0m \u001B[0mdata\u001B[0m \u001B[1;33m=\u001B[0m \u001B[0mtdms\u001B[0m\u001B[1;33m.\u001B[0m\u001B[0mchannel_data\u001B[0m\u001B[1;33m(\u001B[0m\u001B[0mgroup\u001B[0m \u001B[1;33m=\u001B[0m \u001B[1;34m'Untitled'\u001B[0m\u001B[1;33m,\u001B[0m \u001B[0mchannel\u001B[0m \u001B[1;33m=\u001B[0m \u001B[1;34m'cDAQ1Mod'\u001B[0m \u001B[1;33m+\u001B[0m \u001B[0mstr\u001B[0m\u001B[1;33m(\u001B[0m\u001B[0marray\u001B[0m\u001B[1;33m)\u001B[0m \u001B[1;33m+\u001B[0m \u001B[1;34m'/ai'\u001B[0m \u001B[1;33m+\u001B[0m \u001B[0mstr\u001B[0m\u001B[1;33m(\u001B[0m\u001B[0mmicrophone\u001B[0m \u001B[1;33m-\u001B[0m \u001B[1;36m1\u001B[0m\u001B[1;33m)\u001B[0m\u001B[1;33m)\u001B[0m\u001B[1;33m\u001B[0m\u001B[1;33m\u001B[0m\u001B[0m\n\u001B[0;32m     15\u001B[0m \u001B[0mdata\u001B[0m \u001B[1;33m=\u001B[0m \u001B[0mdata\u001B[0m \u001B[1;33m/\u001B[0m \u001B[0mnp\u001B[0m\u001B[1;33m.\u001B[0m\u001B[0mabsolute\u001B[0m\u001B[1;33m(\u001B[0m\u001B[0mdata\u001B[0m\u001B[1;33m)\u001B[0m\u001B[1;33m.\u001B[0m\u001B[0mmax\u001B[0m\u001B[1;33m(\u001B[0m\u001B[1;33m)\u001B[0m\u001B[1;33m\u001B[0m\u001B[1;33m\u001B[0m\u001B[0m\n",
      "\u001B[1;32mD:\\Anaconda3\\lib\\site-packages\\nptdms\\tdms.py\u001B[0m in \u001B[0;36m__init__\u001B[1;34m(self, file, memmap_dir, read_metadata_only)\u001B[0m\n\u001B[0;32m     42\u001B[0m         \u001B[1;32melse\u001B[0m\u001B[1;33m:\u001B[0m\u001B[1;33m\u001B[0m\u001B[1;33m\u001B[0m\u001B[0m\n\u001B[0;32m     43\u001B[0m             \u001B[1;31m# Is path to a file\u001B[0m\u001B[1;33m\u001B[0m\u001B[1;33m\u001B[0m\u001B[1;33m\u001B[0m\u001B[0m\n\u001B[1;32m---> 44\u001B[1;33m             \u001B[1;32mwith\u001B[0m \u001B[0mopen\u001B[0m\u001B[1;33m(\u001B[0m\u001B[0mfile\u001B[0m\u001B[1;33m,\u001B[0m \u001B[1;34m'rb'\u001B[0m\u001B[1;33m)\u001B[0m \u001B[1;32mas\u001B[0m \u001B[0mopen_file\u001B[0m\u001B[1;33m:\u001B[0m\u001B[1;33m\u001B[0m\u001B[1;33m\u001B[0m\u001B[0m\n\u001B[0m\u001B[0;32m     45\u001B[0m                 \u001B[0mself\u001B[0m\u001B[1;33m.\u001B[0m\u001B[0m_read_segments\u001B[0m\u001B[1;33m(\u001B[0m\u001B[0mopen_file\u001B[0m\u001B[1;33m)\u001B[0m\u001B[1;33m\u001B[0m\u001B[1;33m\u001B[0m\u001B[0m\n\u001B[0;32m     46\u001B[0m \u001B[1;33m\u001B[0m\u001B[0m\n",
      "\u001B[1;31mFileNotFoundError\u001B[0m: [Errno 2] No such file or directory: '../../datasets/classification/noise/2013-09-13\\\\1.tdms'"
     ]
    }
   ],
   "source": [
    "dbcursor = mydb.cursor()\n",
    "fs = 51200\n",
    "measurement = 15\n",
    "array = 1\n",
    "microphone = 1\n",
    "sql = '''SELECT m.url, t.location FROM tmid t, measurements m WHERE t.measurement = {} AND\n",
    "    t.array = {} AND t.microphone = {} AND m.id_measurement = t.measurement'''.format(\n",
    "    measurement,array,microphone)\n",
    "dbcursor.execute(sql)\n",
    "result = dbcursor.fetchall()\n",
    "url = result[0][0]\n",
    "tmid = result[0][1]\n",
    "tdms = nptdms.TdmsFile(\"../../datasets/classification/noise/\" + url)\n",
    "data = tdms.channel_data(group = 'Untitled', channel = 'cDAQ1Mod' + str(array) + '/ai' + str(microphone - 1))\n",
    "data = data / np.absolute(data).max()\n",
    "time = np.arange(len(data)) / fs\n",
    "plt.plot(time, data)\n",
    "plt.plot([tmid,tmid],[-1,1],'r-')"
   ]
  },
  {
   "cell_type": "code",
   "execution_count": null,
   "metadata": {},
   "outputs": [],
   "source": [
    "offset = 0\n",
    "expand = 5\n",
    "start = int((tmid+offset-expand)*fs)\n",
    "end = int((tmid+offset+expand)*fs)\n",
    "segment = data[start:end+1]"
   ]
  },
  {
   "cell_type": "code",
   "execution_count": null,
   "metadata": {},
   "outputs": [],
   "source": [
    "amp_spectrum = np.abs(librosa.stft(segment,n_fft=2048))\n",
    "amp_spectrum = librosa.amplitude_to_db(amp_spectrum)\n",
    "f = np.arange(1024 + 1)*((fs/2048))\n",
    "plt.plot(f,amp_spectrum[:,0])\n",
    "plt.grid()"
   ]
  },
  {
   "cell_type": "code",
   "execution_count": null,
   "metadata": {
    "scrolled": false
   },
   "outputs": [],
   "source": [
    "spec = get_spectrogram(segment,fs,n_fft=1024,hop_length=512,n_mels=128)\n",
    "plt.pcolormesh(spec,cmap='viridis')\n",
    "spec.shape"
   ]
  },
  {
   "cell_type": "code",
   "execution_count": null,
   "metadata": {
    "scrolled": true
   },
   "outputs": [],
   "source": [
    "spec = get_spectrogram(segment,fs,n_fft=2048,hop_length=1024,n_mels=128)\n",
    "plt.pcolormesh(spec,cmap='viridis')\n",
    "spec.shape"
   ]
  },
  {
   "cell_type": "code",
   "execution_count": null,
   "metadata": {},
   "outputs": [],
   "source": [
    "%%timeit\n",
    "lpc = librosa.core.lpc(segment,100)"
   ]
  },
  {
   "cell_type": "code",
   "execution_count": null,
   "metadata": {
    "scrolled": true
   },
   "outputs": [],
   "source": [
    "%%timeit\n",
    "librosa.feature.mfcc(segment,100)"
   ]
  },
  {
   "cell_type": "code",
   "execution_count": null,
   "metadata": {},
   "outputs": [],
   "source": [
    "%%timeit\n",
    "spec = get_spectrogram(segment,fs,n_fft=2048,hop_length=1024,n_mels=128)"
   ]
  }
 ],
 "metadata": {
  "kernelspec": {
   "display_name": "Python 3",
   "language": "python",
   "name": "python3"
  },
  "language_info": {
   "codemirror_mode": {
    "name": "ipython",
    "version": 3
   },
   "file_extension": ".py",
   "mimetype": "text/x-python",
   "name": "python",
   "nbconvert_exporter": "python",
   "pygments_lexer": "ipython3",
   "version": "3.7.6"
  }
 },
 "nbformat": 4,
 "nbformat_minor": 2
}